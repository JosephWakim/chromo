{
 "cells": [
  {
   "cell_type": "markdown",
   "metadata": {
    "collapsed": true,
    "pycharm": {
     "name": "#%% md\n"
    }
   },
   "source": [
    "# Simulating a Ring-shaped, Tightly Confined Homopolymer\n",
    "\n",
    "Here, we simulate a ring-shaped polymer in a tight, spherical confinement. We initialize the polymer as a biased Gaussian random walk, where the end of the chain is driven towards the starting bead position. The polymer is specified to be highly stiff. We expect the predicted polymer configuration to equilibrate to a loose ring along the boundary of the confinement, despite a relatively compact initialization."
   ]
  },
  {
   "cell_type": "markdown",
   "metadata": {
    "collapsed": false
   },
   "source": [
    "### Setup\n",
    "\n",
    "Install necessary modules, add the package root directory to the system path, and change working directory to root. Every simulation will involve similar setup steps.\n",
    "\n",
    "**Do not run the setup cell more than once, except after restarting the kernel.** There is no way to consistently track the directory containing the notebook."
   ]
  },
  {
   "cell_type": "code",
   "execution_count": null,
   "metadata": {
    "collapsed": false,
    "pycharm": {
     "name": "#%%\n"
    }
   },
   "outputs": [],
   "source": [
    "import os\n",
    "import sys\n",
    "\n",
    "# Insert package root to system path\n",
    "cwd = os.getcwd()\n",
    "parent_dir = cwd + \"/../..\"\n",
    "sys.path.insert(1, parent_dir)\n",
    "\n",
    "print(\"Directory containing the notebook:\")\n",
    "print(cwd)"
   ]
  },
  {
   "cell_type": "code",
   "execution_count": null,
   "metadata": {
    "collapsed": false,
    "pycharm": {
     "name": "#%%\n"
    }
   },
   "outputs": [],
   "source": [
    "# External modules\n",
    "import numpy as np\n",
    "import pandas as pd\n",
    "import matplotlib.pyplot as plt\n",
    "\n",
    "# Package modules\n",
    "import chromo.mc as mc\n",
    "from chromo.polymers import LoopedSSTWLC\n",
    "import chromo.binders\n",
    "from chromo.fields import UniformDensityField\n",
    "import chromo.mc.mc_controller as ctrl\n",
    "from chromo.util.reproducibility import get_unique_subfolder_name\n",
    "import chromo.util.poly_stat as ps"
   ]
  },
  {
   "cell_type": "code",
   "execution_count": null,
   "metadata": {
    "collapsed": false,
    "pycharm": {
     "name": "#%%\n"
    }
   },
   "outputs": [],
   "source": [
    "# Change working directory to package root\n",
    "os.chdir(parent_dir)\n",
    "print(\"Root Directory of Package: \")\n",
    "print(os.getcwd())"
   ]
  },
  {
   "cell_type": "markdown",
   "metadata": {
    "collapsed": false
   },
   "source": [
    "### Specify Reader Proteins\n",
    "\n",
    "Reader proteins are collectively stored in a data frame that we call the \"binder collection.\" We can generate the binder collection using the `make_binder_collection` function in the `chromo.binders` module. The binder collection accepts as an input a list of reader protein objects. Certain reader proteins objects are pre-implemented in the `chromo.binders` module and can be instantiated by name using the `get_by_name` method in the `chromo.binders` module.\n",
    "\n",
    "All simulations require at least one reader protein to be defined, even if we want to simulate a homopolymer like here. We have defined a placeholder binder named `null_binder` which serves only to ensure compatibility with the rest of the code."
   ]
  },
  {
   "cell_type": "code",
   "execution_count": null,
   "metadata": {
    "collapsed": false,
    "pycharm": {
     "name": "#%%\n"
    }
   },
   "outputs": [],
   "source": [
    "# Instantiate the HP1 reader protein, which is pre-defined in the `chromo.binders` module\n",
    "null_binder = chromo.binders.get_by_name('null_binder')\n",
    "\n",
    "# Create the binder collection\n",
    "binders = chromo.binders.make_binder_collection([null_binder])"
   ]
  },
  {
   "cell_type": "markdown",
   "metadata": {
    "collapsed": false
   },
   "source": [
    "### Specify Confinement\n",
    "\n",
    "The behavior of confining boundaries are defined in the `chromo.field` module. The confinement type is specified as a string name. The confinement length depends on the confinement type (as should be documented in the `chromo.field` module) and is specified as a float.\n",
    "\n",
    "In this tutorial, we are interested in how a ring-shaped, semiflexible polymer behaves in a tight confinement. Therefore, we define the confinement to be smaller (2x smaller) than the extended chain length."
   ]
  },
  {
   "cell_type": "code",
   "execution_count": null,
   "metadata": {
    "collapsed": false,
    "pycharm": {
     "name": "#%%\n"
    }
   },
   "outputs": [],
   "source": [
    "confine_type = \"Spherical\"\n",
    "confine_length = 500"
   ]
  },
  {
   "cell_type": "markdown",
   "metadata": {
    "collapsed": false
   },
   "source": [
    "### Instantiate Polymer(s)\n",
    "\n",
    "Various polymer models are defined in the `chromo.polymers` module. All polymer classes share the attributes and methods defined in the `PolymerBase` class. We instantiate a stretchable, shearable, twistable, ring-shaped wormlike chain from the `LoopedSSTWLC` class in the `chromo.polymers` module. The polymer has 100 beads, each separated by 10 nm. We specify the persistence length of the polymer as being 100 nm, meaning the polymer is highly stiff from bead to bead. The polymer is initialized as a confined, biased Gaussian random walk, with endpoints driven towards one-another."
   ]
  },
  {
   "cell_type": "code",
   "execution_count": null,
   "metadata": {
    "collapsed": false,
    "pycharm": {
     "name": "#%%\n"
    }
   },
   "outputs": [],
   "source": [
    "num_beads = 100\n",
    "bead_spacing = 10\n",
    "lp = 100\n",
    "\n",
    "polymer = LoopedSSTWLC.looped_confined_gaussian_walk(\n",
    "    'poly_1',\n",
    "    num_beads,\n",
    "    bead_spacing,\n",
    "    confine_type=confine_type,\n",
    "    confine_length=confine_length,\n",
    "    lp=lp\n",
    ")"
   ]
  },
  {
   "cell_type": "code",
   "execution_count": null,
   "metadata": {
    "collapsed": false,
    "pycharm": {
     "name": "#%%\n"
    }
   },
   "outputs": [],
   "source": [
    "x = polymer.r[:, 0]\n",
    "y = polymer.r[:, 1]\n",
    "z = polymer.r[:, 2]\n",
    "\n",
    "fig = plt.figure(figsize=(8, 6))\n",
    "ax = fig.add_subplot(projection='3d')\n",
    "ax.plot3D(x, y, z)\n",
    "ax.set_xlabel('x')\n",
    "ax.set_ylabel('y')\n",
    "ax.set_zlabel('z')\n",
    "\n",
    "plt.show()"
   ]
  },
  {
   "cell_type": "markdown",
   "metadata": {
    "collapsed": false
   },
   "source": [
    "### Define Uniform Density Field\n",
    "\n",
    "We leverage a field theoretic approach  to model interactions between beads and bound reader proteins. The field tracks the density of the polymer and all binders in cubical voxels of space. To instantiate the field, we need to specify the dimensions of the voxel grid, the confinement, and all polymers and binders contained.\n",
    "\n",
    "Here we instantiate a field that contains the spherical confinement with voxels of 2000 nm width in the x, y, and z directions. Since we are dealing with a homopolymer, there is no energy contribution by the field; however, the simulation requires that a field be defined, and we use the field to enforce the confinement."
   ]
  },
  {
   "cell_type": "code",
   "execution_count": null,
   "metadata": {
    "collapsed": false,
    "pycharm": {
     "name": "#%%\n"
    }
   },
   "outputs": [],
   "source": [
    "n_bins_x = 100\n",
    "n_bins_y = n_bins_x\n",
    "n_bins_z = n_bins_x\n",
    "\n",
    "x_width = 2 * confine_length\n",
    "y_width = x_width\n",
    "z_width = x_width\n",
    "\n",
    "udf = UniformDensityField(\n",
    "    polymers = [polymer],\n",
    "    binders = binders,\n",
    "    x_width = x_width,\n",
    "    nx = n_bins_x,\n",
    "    y_width = y_width,\n",
    "    ny = n_bins_y,\n",
    "    z_width = z_width,\n",
    "    nz = n_bins_z,\n",
    "    confine_type = confine_type,\n",
    "    confine_length = confine_length\n",
    ")"
   ]
  },
  {
   "cell_type": "markdown",
   "metadata": {
    "collapsed": false
   },
   "source": [
    "### Specify Simulation\n",
    "\n",
    "The simulator proposes and evaluates random configurational changes to the polymer; in the case of the homopolymer, moves involve physical transformations to the chain."
   ]
  },
  {
   "cell_type": "markdown",
   "metadata": {
    "collapsed": false
   },
   "source": [
    "##### Move and Bead Amplitudes\n",
    "\n",
    "There are two ways to tune these configurational changes over the course of the simulation; we can either adjust the magnitude of the selection window for affected beads, or we can adjust the magnitude of the transformation itself. We define a \"bead amplitude\" to represent the maximum magnitude of the selection window for a move and a \"move amplitude\" to represent the maximum magnitude of the move's transformation. We restrict the move and bead amplitudes between bounds to ensure that MC moves do not become too large or too small. The bounds of the move and bead amplitudes are dependent on the polymers' sizes and are determined by the `get_amplitude_bounds` method in the `__init__` module of the `mc` directory."
   ]
  },
  {
   "cell_type": "code",
   "execution_count": null,
   "metadata": {
    "collapsed": false,
    "pycharm": {
     "name": "#%%\n"
    }
   },
   "outputs": [],
   "source": [
    "amp_bead_bounds, amp_move_bounds = mc.get_amplitude_bounds(\n",
    "    polymers = [polymer]\n",
    ")"
   ]
  },
  {
   "cell_type": "markdown",
   "metadata": {
    "collapsed": false
   },
   "source": [
    "##### Define MC Moves\n",
    "\n",
    "Here, we identify exactly which MC moves we wish to include in the simulation. We use the following moves in this. example:\n",
    "\n",
    "- **Slide:** Translation of a continuous segment of beads in a random direction\n",
    "- **Crank-Shaft:** Rotation of an internal segment of the polymer about the axis containing the segment\n",
    "- **End-Pivot:** Rotation of a segment on one end of the polymer about an arbitrary axis\n",
    "- **Tangent Rotation:** Rotation of the tangent vectors of random beads in the polymer\n",
    "\n",
    "Since we often use this combination of MC moves, comprising all the physical transformations we've implemented so far, we have defined a helper function called `all_moves_except_binding_state` in the `chromo.mc.mc_controller` module to initialize the moves. The adaptable moves themselves are attributes of controllers that dynamically adjusts the move and bead amplitudes over the course of the simulation. Since each move is associated with a log file that may be used to track its acceptance rate, we need to specify an output directory for the simulation. The `get_unique_subfolder_name` function in the `chromo.util.reproducibility` module identifies a unique output directory name for the simulation."
   ]
  },
  {
   "cell_type": "code",
   "execution_count": null,
   "metadata": {
    "collapsed": false,
    "pycharm": {
     "name": "#%%\n"
    }
   },
   "outputs": [],
   "source": [
    "latest_sim = get_unique_subfolder_name(\"output/sim_\")\n",
    "moves_to_use = ctrl.all_moves_except_binding_state(\n",
    "    log_dir=latest_sim,\n",
    "    polymers=[polymer],\n",
    "    bead_amp_bounds=amp_bead_bounds.bounds,\n",
    "    move_amp_bounds=amp_move_bounds.bounds,\n",
    "    controller=ctrl.SimpleControl\n",
    ")"
   ]
  },
  {
   "cell_type": "markdown",
   "metadata": {
    "collapsed": false
   },
   "source": [
    "##### Simulation Length\n",
    "\n",
    "We define the simulation by the number of snapshots we would like to generate and the number of iterations of each move between the snapshots. Here, we specify a simulation producing 100 snapshots, each with 40,000 iterations of each MC move."
   ]
  },
  {
   "cell_type": "code",
   "execution_count": null,
   "metadata": {
    "collapsed": false,
    "pycharm": {
     "name": "#%%\n"
    }
   },
   "outputs": [],
   "source": [
    "num_snapshots = 100\n",
    "mc_steps_per_snapshot = 40000"
   ]
  },
  {
   "cell_type": "markdown",
   "metadata": {
    "collapsed": false
   },
   "source": [
    "### Run the Simulation\n",
    "\n",
    "The `polymer_in_field` method defined in the `__init__` file of the `mc` directory initiates the simulation. Running the code block below generates a unique output directory and run the simulation."
   ]
  },
  {
   "cell_type": "code",
   "execution_count": null,
   "metadata": {
    "collapsed": false,
    "pycharm": {
     "name": "#%%\n"
    }
   },
   "outputs": [],
   "source": [
    "%%capture\n",
    "mc.polymer_in_field(\n",
    "    polymers = [polymer],\n",
    "    binders = binders,\n",
    "    field = udf,\n",
    "    num_save_mc = mc_steps_per_snapshot,\n",
    "    num_saves = num_snapshots,\n",
    "    bead_amp_bounds = amp_bead_bounds,\n",
    "    move_amp_bounds = amp_move_bounds,\n",
    "    output_dir = 'output',\n",
    "    mc_move_controllers = moves_to_use\n",
    ")"
   ]
  },
  {
   "cell_type": "markdown",
   "metadata": {
    "collapsed": false
   },
   "source": [
    "### Evaluate Convergence\n",
    "\n",
    "With the simulation complete, we want to check for energy and configurational convergence in the Monte Carlo snapshots. First we recall the latest simulation output directory. From that directory, we load the polymer configuration in each snapshot. We then evaluate the elastic energy of each bond. We lastly check that the mean squared separation distance between beads $n = 50$ monomers apart on the chain also converges."
   ]
  },
  {
   "cell_type": "markdown",
   "metadata": {
    "collapsed": false
   },
   "source": [
    "##### List Polymer Output Files\n",
    "\n",
    "Polymer configurations are saved at each snapshot of the simulation in the simulation's output directory. All polymer configurations are saved with `.csv` extension and are prepended with the label `poly_1`. The snapshot number is indicated after a hyphen and before the file extension in the polymer output file name."
   ]
  },
  {
   "cell_type": "code",
   "execution_count": null,
   "metadata": {
    "collapsed": false,
    "pycharm": {
     "name": "#%%\n"
    }
   },
   "outputs": [],
   "source": [
    "# Load names of polymer configuration output files\n",
    "output_files = os.listdir(latest_sim)\n",
    "output_files = [\n",
    "    f for f in output_files if f.endswith(\".csv\") and f.startswith(\"poly_1\")\n",
    "]\n",
    "snapshot = [int(f.split(\"-\")[-1].split(\".\")[0]) for f in output_files]\n",
    "sorted_snap = np.sort(np.array(snapshot))\n",
    "output_files = [f for _, f in sorted(zip(snapshot, output_files))]"
   ]
  },
  {
   "cell_type": "markdown",
   "metadata": {
    "collapsed": false
   },
   "source": [
    "##### Calculate Energies\n",
    "\n",
    "The polymer class has a `compute_E` method for calculating total energy."
   ]
  },
  {
   "cell_type": "code",
   "execution_count": null,
   "metadata": {
    "collapsed": false,
    "pycharm": {
     "name": "#%%\n"
    }
   },
   "outputs": [],
   "source": [
    "all_energies = []\n",
    "polymer_energies = []\n",
    "\n",
    "for i, f in enumerate(output_files):\n",
    "    snap = sorted_snap[i]\n",
    "    output_path = str(latest_sim) + '/' + f\n",
    "\n",
    "    r = pd.read_csv(\n",
    "        output_path,\n",
    "        header=0,\n",
    "        skiprows=1,\n",
    "        usecols=[1, 2, 3],\n",
    "        dtype=float\n",
    "    ).to_numpy()\n",
    "\n",
    "    t3 = pd.read_csv(\n",
    "        output_path,\n",
    "        header=0,\n",
    "        skiprows=1,\n",
    "        usecols=[4, 5, 6],\n",
    "        dtype=float\n",
    "    ).to_numpy()\n",
    "\n",
    "    polymer.r = r.copy()\n",
    "    polymer.t3 = t3.copy()\n",
    "\n",
    "    polymer_energy = polymer.compute_E()\n",
    "    polymer_energies.append(polymer_energy)"
   ]
  },
  {
   "cell_type": "markdown",
   "metadata": {
    "collapsed": false
   },
   "source": [
    "##### Plot Energy Convergence"
   ]
  },
  {
   "cell_type": "code",
   "execution_count": null,
   "metadata": {
    "collapsed": false,
    "pycharm": {
     "name": "#%%\n"
    }
   },
   "outputs": [],
   "source": [
    "plt.figure(figsize=(8,6))\n",
    "plt.plot(sorted_snap, polymer_energies)\n",
    "plt.xlabel(\"Snapshot number\")\n",
    "plt.ylabel(\"Polymer Energy\")\n",
    "plt.tight_layout()\n",
    "plt.show()"
   ]
  },
  {
   "cell_type": "markdown",
   "metadata": {
    "collapsed": false
   },
   "source": [
    "##### Calculate MSD\n",
    "\n",
    "Check that the mean squared separation distance of beads $n = 5$ monomers apart on the chain converges during the simulation. In the `chromo.util.poly_stat` module, there is a method that does this calculation."
   ]
  },
  {
   "cell_type": "code",
   "execution_count": null,
   "metadata": {
    "collapsed": false,
    "pycharm": {
     "name": "#%%\n"
    }
   },
   "outputs": [],
   "source": [
    "delta = 5  # Monomer monomer separation at which to calculate mean squared distance.\n",
    "\n",
    "all_dists = []\n",
    "for i, f in enumerate(output_files):\n",
    "    snap = sorted_snap[i]\n",
    "    output_path = str(latest_sim) + '/' + f\n",
    "    r = pd.read_csv(\n",
    "        output_path,\n",
    "        header=0,\n",
    "        skiprows=1,\n",
    "        usecols=[1, 2, 3],\n",
    "        dtype=float\n",
    "    ).to_numpy()\n",
    "    poly_stat = ps.PolyStats(r, lp, \"overlap\")\n",
    "    windows = poly_stat.load_indices(delta)\n",
    "    all_dists.append(poly_stat.calc_r2(windows))"
   ]
  },
  {
   "cell_type": "markdown",
   "metadata": {
    "collapsed": false
   },
   "source": [
    "##### Plot MSD Convergence"
   ]
  },
  {
   "cell_type": "code",
   "execution_count": null,
   "metadata": {
    "collapsed": false,
    "pycharm": {
     "name": "#%%\n"
    }
   },
   "outputs": [],
   "source": [
    "plt.figure(figsize=(8, 6))\n",
    "plt.plot(sorted_snap, all_dists)\n",
    "plt.xlabel(\"Snapshot number\")\n",
    "plt.ylabel(r\"$\\langle R^2 \\rangle /(2l_p)^2$\")\n",
    "plt.tight_layout()\n",
    "plt.show()"
   ]
  },
  {
   "cell_type": "markdown",
   "metadata": {
    "collapsed": false
   },
   "source": [
    "### Plot the Final Snapshot of the Simulation\n",
    "\n",
    "Since we define a very rigid polymer, we expect the final configuration to take a loose, ring-like shape along the surface of the confinement."
   ]
  },
  {
   "cell_type": "code",
   "execution_count": null,
   "metadata": {
    "collapsed": false,
    "pycharm": {
     "name": "#%%\n"
    }
   },
   "outputs": [],
   "source": [
    "final_snapshot = str(latest_sim) + '/' + output_files[num_snapshots-1]\n",
    "r = pd.read_csv(\n",
    "    final_snapshot,\n",
    "    header=0,\n",
    "    skiprows=1,\n",
    "    usecols=[1, 2, 3],\n",
    "    dtype=float\n",
    ").to_numpy()"
   ]
  },
  {
   "cell_type": "code",
   "execution_count": null,
   "metadata": {
    "collapsed": false,
    "pycharm": {
     "name": "#%%\n"
    }
   },
   "outputs": [],
   "source": [
    "x = r[:, 0]\n",
    "y = r[:, 1]\n",
    "z = r[:, 2]\n",
    "\n",
    "fig = plt.figure(figsize=(8, 6))\n",
    "ax = fig.add_subplot(projection='3d')\n",
    "ax.plot3D(x, y, z)\n",
    "ax.set_xlabel('x')\n",
    "ax.set_ylabel('y')\n",
    "ax.set_zlabel('z')\n",
    "\n",
    "plt.show()"
   ]
  },
  {
   "cell_type": "markdown",
   "metadata": {
    "collapsed": false,
    "pycharm": {
     "name": "#%% md\n"
    }
   },
   "source": [
    "### Summary\n",
    "\n",
    "In this simulation, we defined a rigid, ring-like polymer initialized as a Gaussian random walk, and using a purely physical approach, we sampled one of its relaxed, energetically favorable configurations."
   ]
  },
  {
   "cell_type": "markdown",
   "metadata": {
    "collapsed": false,
    "pycharm": {
     "name": "#%% md\n"
    }
   },
   "source": []
  }
 ],
 "metadata": {
  "kernelspec": {
   "display_name": "Python 3",
   "language": "python",
   "name": "python3"
  },
  "language_info": {
   "codemirror_mode": {
    "name": "ipython",
    "version": 2
   },
   "file_extension": ".py",
   "mimetype": "text/x-python",
   "name": "python",
   "nbconvert_exporter": "python",
   "pygments_lexer": "ipython2",
   "version": "2.7.6"
  }
 },
 "nbformat": 4,
 "nbformat_minor": 0
}
