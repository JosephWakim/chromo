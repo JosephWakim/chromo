{
 "cells": [
  {
   "cell_type": "markdown",
   "metadata": {
    "collapsed": true,
    "pycharm": {
     "name": "#%% md\n"
    }
   },
   "source": [
    "# Validate Uniform Density Field Grid Initialization"
   ]
  },
  {
   "cell_type": "markdown",
   "metadata": {
    "collapsed": false,
    "pycharm": {
     "name": "#%% md\n"
    }
   },
   "source": [
    "### Navigate to Root Directory"
   ]
  },
  {
   "cell_type": "code",
   "execution_count": 1,
   "metadata": {
    "collapsed": false,
    "pycharm": {
     "name": "#%%\n"
    }
   },
   "outputs": [
    {
     "name": "stdout",
     "output_type": "stream",
     "text": [
      "Directory containing the notebook:\n",
      "/home/users/jwakim/CodeDev/chromo_check_density_calculation/doc/tools\n"
     ]
    }
   ],
   "source": [
    "# Built-in modules\n",
    "import os\n",
    "import sys\n",
    "\n",
    "# Insert package root to system path\n",
    "cwd = os.getcwd()\n",
    "parent_dir = cwd + \"/../..\"\n",
    "sys.path.insert(1, parent_dir)\n",
    "\n",
    "print(\"Directory containing the notebook:\")\n",
    "print(cwd)"
   ]
  },
  {
   "cell_type": "code",
   "execution_count": 2,
   "metadata": {
    "collapsed": false,
    "pycharm": {
     "name": "#%%\n"
    }
   },
   "outputs": [
    {
     "name": "stdout",
     "output_type": "stream",
     "text": [
      "Root Directory of Package: \n",
      "/home/users/jwakim/CodeDev/chromo_check_density_calculation\n"
     ]
    }
   ],
   "source": [
    "# Change working directory to package root\n",
    "os.chdir(parent_dir)\n",
    "print(\"Root Directory of Package: \")\n",
    "print(os.getcwd())"
   ]
  },
  {
   "cell_type": "markdown",
   "metadata": {
    "collapsed": false,
    "pycharm": {
     "name": "#%% md\n"
    }
   },
   "source": [
    "### Import Modules"
   ]
  },
  {
   "cell_type": "code",
   "execution_count": 3,
   "metadata": {
    "collapsed": false,
    "pycharm": {
     "name": "#%%\n"
    }
   },
   "outputs": [],
   "source": [
    "# External modules\n",
    "import numpy as np\n",
    "\n",
    "# Package modules\n",
    "from chromo.polymers import Chromatin\n",
    "import chromo.binders\n",
    "from chromo.fields import (\n",
    "    UniformDensityField, get_blocks, get_neighboring_bins, assign_beads_to_bins\n",
    ")"
   ]
  },
  {
   "cell_type": "markdown",
   "metadata": {
    "collapsed": false,
    "pycharm": {
     "name": "#%% md\n"
    }
   },
   "source": [
    "### Specify Reader Proteins"
   ]
  },
  {
   "cell_type": "code",
   "execution_count": 4,
   "metadata": {
    "collapsed": false,
    "pycharm": {
     "name": "#%%\n"
    }
   },
   "outputs": [],
   "source": [
    "hp1 = chromo.binders.get_by_name(\"HP1\")\n",
    "binders = chromo.binders.make_binder_collection([hp1])"
   ]
  },
  {
   "cell_type": "markdown",
   "metadata": {
    "collapsed": false,
    "pycharm": {
     "name": "#%% md\n"
    }
   },
   "source": [
    "### Specify Confinement"
   ]
  },
  {
   "cell_type": "code",
   "execution_count": 5,
   "metadata": {
    "collapsed": false,
    "pycharm": {
     "name": "#%%\n"
    }
   },
   "outputs": [],
   "source": [
    "confine_type = \"Spherical\"\n",
    "confine_radius = 900"
   ]
  },
  {
   "cell_type": "markdown",
   "metadata": {
    "collapsed": false,
    "pycharm": {
     "name": "#%% md\n"
    }
   },
   "source": [
    "### Specify Polymer"
   ]
  },
  {
   "cell_type": "code",
   "execution_count": 6,
   "metadata": {
    "collapsed": false,
    "pycharm": {
     "name": "#%%\n"
    }
   },
   "outputs": [],
   "source": [
    "num_beads = 100\n",
    "bead_spacing = 16.5\n",
    "chemical_mods = np.atleast_2d(np.ones(num_beads, dtype=int)).T\n",
    "states = chemical_mods.copy()\n",
    "\n",
    "polymer = Chromatin.confined_gaussian_walk(\n",
    "    \"Chr-1\",\n",
    "    num_beads,\n",
    "    bead_spacing,\n",
    "    states=states,\n",
    "    confine_type=confine_type,\n",
    "    confine_length=confine_radius,\n",
    "    binder_names=np.array(['HP1']),\n",
    "    chemical_mods=chemical_mods,\n",
    "    chemical_mod_names=np.array(['H3K9me3'])\n",
    ")"
   ]
  },
  {
   "cell_type": "markdown",
   "metadata": {
    "collapsed": false,
    "pycharm": {
     "name": "#%% md\n"
    }
   },
   "source": [
    "### Initialize Field"
   ]
  },
  {
   "cell_type": "code",
   "execution_count": 7,
   "metadata": {
    "collapsed": false,
    "pycharm": {
     "name": "#%%\n"
    }
   },
   "outputs": [],
   "source": [
    "n_bins_x = 63\n",
    "n_bins_y = 63\n",
    "n_bins_z = 63\n",
    "\n",
    "x_width = 2 * confine_radius\n",
    "y_width = x_width\n",
    "z_width = x_width\n",
    "\n",
    "udf = UniformDensityField(\n",
    "    polymers = [polymer],\n",
    "    binders = binders,\n",
    "    x_width = x_width,\n",
    "    nx = n_bins_x,\n",
    "    y_width = y_width,\n",
    "    ny = n_bins_y,\n",
    "    z_width = z_width,\n",
    "    nz = n_bins_z,\n",
    "    confine_type = confine_type,\n",
    "    confine_length = confine_radius,\n",
    "    chi = 0\n",
    ")"
   ]
  },
  {
   "cell_type": "markdown",
   "metadata": {
    "collapsed": false,
    "pycharm": {
     "name": "#%% md\n"
    }
   },
   "source": [
    "### Check Bin Vertex Indices"
   ]
  },
  {
   "cell_type": "code",
   "execution_count": 8,
   "metadata": {
    "collapsed": false,
    "pycharm": {
     "name": "#%%\n"
    }
   },
   "outputs": [
    {
     "name": "stdout",
     "output_type": "stream",
     "text": [
      "Bin Index: 0\n",
      "Corner Indices: [   0    1   63   64 3969 3970 4032 4033]\n",
      "Bin Index: 1\n",
      "Corner Indices: [   1    2   64   65 3970 3971 4033 4034]\n",
      "Bin Index: 2\n",
      "Corner Indices: [   2    3   65   66 3971 3972 4034 4035]\n",
      "Bin Index: 3\n",
      "Corner Indices: [   3    4   66   67 3972 3973 4035 4036]\n",
      "Bin Index: 4\n",
      "Corner Indices: [   4    5   67   68 3973 3974 4036 4037]\n",
      "Bin Index: 5\n",
      "Corner Indices: [   5    6   68   69 3974 3975 4037 4038]\n",
      "Bin Index: 6\n",
      "Corner Indices: [   6    7   69   70 3975 3976 4038 4039]\n",
      "Bin Index: 7\n",
      "Corner Indices: [   7    8   70   71 3976 3977 4039 4040]\n",
      "Bin Index: 8\n",
      "Corner Indices: [   8    9   71   72 3977 3978 4040 4041]\n",
      "Bin Index: 9\n",
      "Corner Indices: [   9   10   72   73 3978 3979 4041 4042]\n",
      "Bin Index: 10\n",
      "Corner Indices: [  10   11   73   74 3979 3980 4042 4043]\n",
      "Bin Index: 11\n",
      "Corner Indices: [  11   12   74   75 3980 3981 4043 4044]\n",
      "Bin Index: 12\n",
      "Corner Indices: [  12   13   75   76 3981 3982 4044 4045]\n",
      "Bin Index: 13\n",
      "Corner Indices: [  13   14   76   77 3982 3983 4045 4046]\n",
      "Bin Index: 14\n",
      "Corner Indices: [  14   15   77   78 3983 3984 4046 4047]\n",
      "Bin Index: 15\n",
      "Corner Indices: [  15   16   78   79 3984 3985 4047 4048]\n",
      "Bin Index: 16\n",
      "Corner Indices: [  16   17   79   80 3985 3986 4048 4049]\n",
      "Bin Index: 17\n",
      "Corner Indices: [  17   18   80   81 3986 3987 4049 4050]\n",
      "Bin Index: 18\n",
      "Corner Indices: [  18   19   81   82 3987 3988 4050 4051]\n",
      "Bin Index: 19\n",
      "Corner Indices: [  19   20   82   83 3988 3989 4051 4052]\n",
      "Bin Index: 20\n",
      "Corner Indices: [  20   21   83   84 3989 3990 4052 4053]\n",
      "Bin Index: 21\n",
      "Corner Indices: [  21   22   84   85 3990 3991 4053 4054]\n",
      "Bin Index: 22\n",
      "Corner Indices: [  22   23   85   86 3991 3992 4054 4055]\n",
      "Bin Index: 23\n",
      "Corner Indices: [  23   24   86   87 3992 3993 4055 4056]\n",
      "Bin Index: 24\n",
      "Corner Indices: [  24   25   87   88 3993 3994 4056 4057]\n",
      "Bin Index: 25\n",
      "Corner Indices: [  25   26   88   89 3994 3995 4057 4058]\n",
      "Bin Index: 26\n",
      "Corner Indices: [  26   27   89   90 3995 3996 4058 4059]\n",
      "Bin Index: 27\n",
      "Corner Indices: [  27   28   90   91 3996 3997 4059 4060]\n",
      "Bin Index: 28\n",
      "Corner Indices: [  28   29   91   92 3997 3998 4060 4061]\n",
      "Bin Index: 29\n",
      "Corner Indices: [  29   30   92   93 3998 3999 4061 4062]\n",
      "Bin Index: 30\n",
      "Corner Indices: [  30   31   93   94 3999 4000 4062 4063]\n",
      "Bin Index: 31\n",
      "Corner Indices: [  31   32   94   95 4000 4001 4063 4064]\n",
      "Bin Index: 32\n",
      "Corner Indices: [  32   33   95   96 4001 4002 4064 4065]\n",
      "Bin Index: 33\n",
      "Corner Indices: [  33   34   96   97 4002 4003 4065 4066]\n",
      "Bin Index: 34\n",
      "Corner Indices: [  34   35   97   98 4003 4004 4066 4067]\n",
      "Bin Index: 35\n",
      "Corner Indices: [  35   36   98   99 4004 4005 4067 4068]\n",
      "Bin Index: 36\n",
      "Corner Indices: [  36   37   99  100 4005 4006 4068 4069]\n",
      "Bin Index: 37\n",
      "Corner Indices: [  37   38  100  101 4006 4007 4069 4070]\n",
      "Bin Index: 38\n",
      "Corner Indices: [  38   39  101  102 4007 4008 4070 4071]\n",
      "Bin Index: 39\n",
      "Corner Indices: [  39   40  102  103 4008 4009 4071 4072]\n",
      "Bin Index: 40\n",
      "Corner Indices: [  40   41  103  104 4009 4010 4072 4073]\n",
      "Bin Index: 41\n",
      "Corner Indices: [  41   42  104  105 4010 4011 4073 4074]\n",
      "Bin Index: 42\n",
      "Corner Indices: [  42   43  105  106 4011 4012 4074 4075]\n",
      "Bin Index: 43\n",
      "Corner Indices: [  43   44  106  107 4012 4013 4075 4076]\n",
      "Bin Index: 44\n",
      "Corner Indices: [  44   45  107  108 4013 4014 4076 4077]\n",
      "Bin Index: 45\n",
      "Corner Indices: [  45   46  108  109 4014 4015 4077 4078]\n",
      "Bin Index: 46\n",
      "Corner Indices: [  46   47  109  110 4015 4016 4078 4079]\n",
      "Bin Index: 47\n",
      "Corner Indices: [  47   48  110  111 4016 4017 4079 4080]\n",
      "Bin Index: 48\n",
      "Corner Indices: [  48   49  111  112 4017 4018 4080 4081]\n",
      "Bin Index: 49\n",
      "Corner Indices: [  49   50  112  113 4018 4019 4081 4082]\n",
      "Bin Index: 50\n",
      "Corner Indices: [  50   51  113  114 4019 4020 4082 4083]\n",
      "Bin Index: 51\n",
      "Corner Indices: [  51   52  114  115 4020 4021 4083 4084]\n",
      "Bin Index: 52\n",
      "Corner Indices: [  52   53  115  116 4021 4022 4084 4085]\n",
      "Bin Index: 53\n",
      "Corner Indices: [  53   54  116  117 4022 4023 4085 4086]\n",
      "Bin Index: 54\n",
      "Corner Indices: [  54   55  117  118 4023 4024 4086 4087]\n",
      "Bin Index: 55\n",
      "Corner Indices: [  55   56  118  119 4024 4025 4087 4088]\n",
      "Bin Index: 56\n",
      "Corner Indices: [  56   57  119  120 4025 4026 4088 4089]\n",
      "Bin Index: 57\n",
      "Corner Indices: [  57   58  120  121 4026 4027 4089 4090]\n",
      "Bin Index: 58\n",
      "Corner Indices: [  58   59  121  122 4027 4028 4090 4091]\n",
      "Bin Index: 59\n",
      "Corner Indices: [  59   60  122  123 4028 4029 4091 4092]\n",
      "Bin Index: 60\n",
      "Corner Indices: [  60   61  123  124 4029 4030 4092 4093]\n",
      "Bin Index: 61\n",
      "Corner Indices: [  61   62  124  125 4030 4031 4093 4094]\n",
      "Bin Index: 62\n",
      "Corner Indices: [  62    0  125   63 4031 3969 4094 4032]\n",
      "Bin Index: 63\n",
      "Corner Indices: [  63   64  126  127 4032 4033 4095 4096]\n",
      "Bin Index: 64\n",
      "Corner Indices: [  64   65  127  128 4033 4034 4096 4097]\n",
      "Bin Index: 65\n",
      "Corner Indices: [  65   66  128  129 4034 4035 4097 4098]\n",
      "Bin Index: 66\n",
      "Corner Indices: [  66   67  129  130 4035 4036 4098 4099]\n",
      "Bin Index: 67\n",
      "Corner Indices: [  67   68  130  131 4036 4037 4099 4100]\n",
      "Bin Index: 68\n",
      "Corner Indices: [  68   69  131  132 4037 4038 4100 4101]\n",
      "Bin Index: 69\n",
      "Corner Indices: [  69   70  132  133 4038 4039 4101 4102]\n",
      "Bin Index: 70\n",
      "Corner Indices: [  70   71  133  134 4039 4040 4102 4103]\n",
      "Bin Index: 71\n",
      "Corner Indices: [  71   72  134  135 4040 4041 4103 4104]\n",
      "Bin Index: 72\n",
      "Corner Indices: [  72   73  135  136 4041 4042 4104 4105]\n",
      "Bin Index: 73\n",
      "Corner Indices: [  73   74  136  137 4042 4043 4105 4106]\n",
      "Bin Index: 74\n",
      "Corner Indices: [  74   75  137  138 4043 4044 4106 4107]\n",
      "Bin Index: 75\n",
      "Corner Indices: [  75   76  138  139 4044 4045 4107 4108]\n",
      "Bin Index: 76\n",
      "Corner Indices: [  76   77  139  140 4045 4046 4108 4109]\n",
      "Bin Index: 77\n",
      "Corner Indices: [  77   78  140  141 4046 4047 4109 4110]\n",
      "Bin Index: 78\n",
      "Corner Indices: [  78   79  141  142 4047 4048 4110 4111]\n",
      "Bin Index: 79\n",
      "Corner Indices: [  79   80  142  143 4048 4049 4111 4112]\n",
      "Bin Index: 80\n",
      "Corner Indices: [  80   81  143  144 4049 4050 4112 4113]\n",
      "Bin Index: 81\n",
      "Corner Indices: [  81   82  144  145 4050 4051 4113 4114]\n",
      "Bin Index: 82\n",
      "Corner Indices: [  82   83  145  146 4051 4052 4114 4115]\n",
      "Bin Index: 83\n",
      "Corner Indices: [  83   84  146  147 4052 4053 4115 4116]\n",
      "Bin Index: 84\n",
      "Corner Indices: [  84   85  147  148 4053 4054 4116 4117]\n",
      "Bin Index: 85\n",
      "Corner Indices: [  85   86  148  149 4054 4055 4117 4118]\n",
      "Bin Index: 86\n",
      "Corner Indices: [  86   87  149  150 4055 4056 4118 4119]\n",
      "Bin Index: 87\n",
      "Corner Indices: [  87   88  150  151 4056 4057 4119 4120]\n",
      "Bin Index: 88\n",
      "Corner Indices: [  88   89  151  152 4057 4058 4120 4121]\n",
      "Bin Index: 89\n",
      "Corner Indices: [  89   90  152  153 4058 4059 4121 4122]\n",
      "Bin Index: 90\n",
      "Corner Indices: [  90   91  153  154 4059 4060 4122 4123]\n",
      "Bin Index: 91\n",
      "Corner Indices: [  91   92  154  155 4060 4061 4123 4124]\n",
      "Bin Index: 92\n",
      "Corner Indices: [  92   93  155  156 4061 4062 4124 4125]\n",
      "Bin Index: 93\n",
      "Corner Indices: [  93   94  156  157 4062 4063 4125 4126]\n",
      "Bin Index: 94\n",
      "Corner Indices: [  94   95  157  158 4063 4064 4126 4127]\n",
      "Bin Index: 95\n",
      "Corner Indices: [  95   96  158  159 4064 4065 4127 4128]\n",
      "Bin Index: 96\n",
      "Corner Indices: [  96   97  159  160 4065 4066 4128 4129]\n",
      "Bin Index: 97\n",
      "Corner Indices: [  97   98  160  161 4066 4067 4129 4130]\n",
      "Bin Index: 98\n",
      "Corner Indices: [  98   99  161  162 4067 4068 4130 4131]\n",
      "Bin Index: 99\n",
      "Corner Indices: [  99  100  162  163 4068 4069 4131 4132]\n"
     ]
    }
   ],
   "source": [
    "for i in range(100):\n",
    "    print(f\"Bin Index: {i}\")\n",
    "    print(f\"Corner Indices: {np.asarray(udf.bin_index[i])}\")"
   ]
  },
  {
   "cell_type": "markdown",
   "metadata": {
    "collapsed": false,
    "pycharm": {
     "name": "#%% md\n"
    }
   },
   "source": [
    "### Check Super Indices"
   ]
  },
  {
   "cell_type": "code",
   "execution_count": 9,
   "metadata": {
    "collapsed": false,
    "pycharm": {
     "name": "#%%\n"
    }
   },
   "outputs": [
    {
     "name": "stdout",
     "output_type": "stream",
     "text": [
      "Expected Super Index: 0\n",
      "Calculated Super Index: 0\n",
      "\n",
      "Expected Super Index: 1\n",
      "Calculated Super Index: 1\n",
      "\n",
      "Expected Super Index: 2\n",
      "Calculated Super Index: 2\n",
      "\n",
      "Expected Super Index: 3\n",
      "Calculated Super Index: 3\n",
      "\n",
      "Expected Super Index: 4\n",
      "Calculated Super Index: 4\n",
      "\n",
      "Expected Super Index: 5\n",
      "Calculated Super Index: 5\n",
      "\n",
      "Expected Super Index: 6\n",
      "Calculated Super Index: 6\n",
      "\n",
      "Expected Super Index: 7\n",
      "Calculated Super Index: 7\n",
      "\n",
      "Expected Super Index: 8\n",
      "Calculated Super Index: 8\n",
      "\n",
      "Expected Super Index: 9\n",
      "Calculated Super Index: 9\n",
      "\n",
      "Expected Super Index: 0\n",
      "Calculated Super Index: 0\n",
      "\n",
      "Expected Super Index: 63\n",
      "Calculated Super Index: 63\n",
      "\n",
      "Expected Super Index: 126\n",
      "Calculated Super Index: 126\n",
      "\n",
      "Expected Super Index: 189\n",
      "Calculated Super Index: 189\n",
      "\n",
      "Expected Super Index: 252\n",
      "Calculated Super Index: 252\n",
      "\n",
      "Expected Super Index: 315\n",
      "Calculated Super Index: 315\n",
      "\n",
      "Expected Super Index: 378\n",
      "Calculated Super Index: 378\n",
      "\n",
      "Expected Super Index: 441\n",
      "Calculated Super Index: 441\n",
      "\n",
      "Expected Super Index: 504\n",
      "Calculated Super Index: 504\n",
      "\n",
      "Expected Super Index: 567\n",
      "Calculated Super Index: 567\n",
      "\n",
      "Expected Super Index: 0\n",
      "Calculated Super Index: 0\n",
      "\n",
      "Expected Super Index: 3969\n",
      "Calculated Super Index: 3969\n",
      "\n",
      "Expected Super Index: 7938\n",
      "Calculated Super Index: 7938\n",
      "\n",
      "Expected Super Index: 11907\n",
      "Calculated Super Index: 11907\n",
      "\n",
      "Expected Super Index: 15876\n",
      "Calculated Super Index: 15876\n",
      "\n",
      "Expected Super Index: 19845\n",
      "Calculated Super Index: 19845\n",
      "\n",
      "Expected Super Index: 23814\n",
      "Calculated Super Index: 23814\n",
      "\n",
      "Expected Super Index: 27783\n",
      "Calculated Super Index: 27783\n",
      "\n",
      "Expected Super Index: 31752\n",
      "Calculated Super Index: 31752\n",
      "\n",
      "Expected Super Index: 35721\n",
      "Calculated Super Index: 35721\n",
      "\n"
     ]
    }
   ],
   "source": [
    "for i in range(10):\n",
    "    x = i\n",
    "    y = 0\n",
    "    z = 0\n",
    "    expected_super = i\n",
    "    calculated_super = udf.inds_xyz_to_super[x, y, z]\n",
    "    print(f\"Expected Super Index: {expected_super}\")\n",
    "    print(f\"Calculated Super Index: {calculated_super}\\n\")\n",
    "\n",
    "for j in range(10):\n",
    "    x = 0\n",
    "    y = j\n",
    "    z = 0\n",
    "    expected_super = j * n_bins_x\n",
    "    calculated_super = udf.inds_xyz_to_super[x, y, z]\n",
    "    print(f\"Expected Super Index: {expected_super}\")\n",
    "    print(f\"Calculated Super Index: {calculated_super}\\n\")\n",
    "\n",
    "for k in range(10):\n",
    "    x = 0\n",
    "    y = 0\n",
    "    z = k\n",
    "    expected_super = k * n_bins_x * n_bins_y\n",
    "    calculated_super = udf.inds_xyz_to_super[x, y, z]\n",
    "    print(f\"Expected Super Index: {expected_super}\")\n",
    "    print(f\"Calculated Super Index: {calculated_super}\\n\")"
   ]
  },
  {
   "cell_type": "markdown",
   "metadata": {
    "collapsed": false,
    "pycharm": {
     "name": "#%% md\n"
    }
   },
   "source": [
    "### Check Confinement"
   ]
  },
  {
   "cell_type": "code",
   "execution_count": 10,
   "metadata": {
    "collapsed": false,
    "pycharm": {
     "name": "#%%\n"
    }
   },
   "outputs": [
    {
     "name": "stdout",
     "output_type": "stream",
     "text": [
      "Confinement Type: Spherical\n",
      "Confinement Length: 900.0\n"
     ]
    }
   ],
   "source": [
    "print(f\"Confinement Type: {udf.confine_type}\")\n",
    "print(f\"Confinement Length: {udf.confine_length}\")"
   ]
  },
  {
   "cell_type": "markdown",
   "metadata": {
    "collapsed": false,
    "pycharm": {
     "name": "#%% md\n"
    }
   },
   "source": [
    "### Check Accessible Volumes"
   ]
  },
  {
   "cell_type": "code",
   "execution_count": 11,
   "metadata": {
    "collapsed": false,
    "pycharm": {
     "name": "#%%\n"
    }
   },
   "outputs": [
    {
     "name": "stdout",
     "output_type": "stream",
     "text": [
      "Unique Accessible Volumes: [ 2230.32069971  2241.98250729  2306.12244898 ... 20918.36734694\n",
      " 20967.93002915 23323.61516035]\n"
     ]
    }
   ],
   "source": [
    "access_vols = np.array(list(udf.access_vols.values()))\n",
    "print(f\"Unique Accessible Volumes: {np.unique(access_vols)}\")"
   ]
  },
  {
   "cell_type": "markdown",
   "metadata": {
    "collapsed": false,
    "pycharm": {
     "name": "#%% md\n"
    }
   },
   "source": [
    "### Check Densities"
   ]
  },
  {
   "cell_type": "code",
   "execution_count": 12,
   "metadata": {
    "collapsed": false,
    "pycharm": {
     "name": "#%%\n"
    }
   },
   "outputs": [
    {
     "name": "stdout",
     "output_type": "stream",
     "text": [
      "Densities: \n",
      "[[0. 0.]\n",
      " [0. 0.]\n",
      " [0. 0.]\n",
      " ...\n",
      " [0. 0.]\n",
      " [0. 0.]\n",
      " [0. 0.]]\n",
      "\n",
      "Total Densities: \n",
      "[0.0042875 0.0042875]\n",
      "\n",
      "Densities Trial: \n",
      "[[0. 0.]\n",
      " [0. 0.]\n",
      " [0. 0.]\n",
      " ...\n",
      " [0. 0.]\n",
      " [0. 0.]\n",
      " [0. 0.]]\n",
      "\n",
      "Total Densities Trial (should be zero)\n",
      "[0. 0.]\n",
      "\n",
      "Back Calculated Bead Count: \n",
      "100.0\n"
     ]
    }
   ],
   "source": [
    "densities = np.asarray(udf.density)\n",
    "tot_densities = np.sum(densities, axis=0)\n",
    "densities_trial = np.asarray(udf.density_trial)\n",
    "tot_densities_trial = np.sum(densities_trial, axis=0)\n",
    "bead_counts = np.multiply(densities[:, 0], access_vols)\n",
    "\n",
    "print(\"Densities: \")\n",
    "print(densities)\n",
    "\n",
    "print(\"\\nTotal Densities: \")\n",
    "print(tot_densities)\n",
    "\n",
    "print(\"\\nDensities Trial: \")\n",
    "print(densities_trial)\n",
    "\n",
    "print(\"\\nTotal Densities Trial (should be zero)\")\n",
    "print(tot_densities_trial)\n",
    "\n",
    "print(\"\\nBack Calculated Bead Count: \")\n",
    "print(np.sum(bead_counts))"
   ]
  }
 ],
 "metadata": {
  "kernelspec": {
   "display_name": "Python 3",
   "language": "python",
   "name": "python3"
  },
  "language_info": {
   "codemirror_mode": {
    "name": "ipython",
    "version": 3
   },
   "file_extension": ".py",
   "mimetype": "text/x-python",
   "name": "python",
   "nbconvert_exporter": "python",
   "pygments_lexer": "ipython3",
   "version": "3.7.6"
  }
 },
 "nbformat": 4,
 "nbformat_minor": 0
}