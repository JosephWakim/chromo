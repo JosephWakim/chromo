{
 "cells": [
  {
   "cell_type": "markdown",
   "metadata": {
    "collapsed": false
   },
   "source": [
    "# Verify Density Calculation"
   ]
  },
  {
   "cell_type": "markdown",
   "metadata": {
    "collapsed": false,
    "pycharm": {
     "name": "#%% md\n"
    }
   },
   "source": [
    "### Navigate to root directory"
   ]
  },
  {
   "cell_type": "code",
   "execution_count": 1,
   "metadata": {
    "collapsed": false,
    "pycharm": {
     "name": "#%%\n"
    }
   },
   "outputs": [
    {
     "name": "stdout",
     "output_type": "stream",
     "text": [
      "Directory containing the notebook:\n",
      "/home/users/jwakim/CodeDev/chromo_check_density_calculation/doc/tools\n"
     ]
    }
   ],
   "source": [
    "# Built-in modules\n",
    "import os\n",
    "import sys\n",
    "\n",
    "# Insert package root to system path\n",
    "cwd = os.getcwd()\n",
    "parent_dir = cwd + \"/../..\"\n",
    "sys.path.insert(1, parent_dir)\n",
    "\n",
    "print(\"Directory containing the notebook:\")\n",
    "print(cwd)"
   ]
  },
  {
   "cell_type": "code",
   "execution_count": 2,
   "metadata": {
    "collapsed": false,
    "pycharm": {
     "name": "#%%\n"
    }
   },
   "outputs": [
    {
     "name": "stdout",
     "output_type": "stream",
     "text": [
      "Root Directory of Package: \n",
      "/home/users/jwakim/CodeDev/chromo_check_density_calculation\n"
     ]
    }
   ],
   "source": [
    "# Change working directory to package root\n",
    "os.chdir(parent_dir)\n",
    "print(\"Root Directory of Package: \")\n",
    "print(os.getcwd())"
   ]
  },
  {
   "cell_type": "markdown",
   "metadata": {
    "collapsed": false,
    "pycharm": {
     "name": "#%% md\n"
    }
   },
   "source": [
    "### Import modules"
   ]
  },
  {
   "cell_type": "code",
   "execution_count": 3,
   "metadata": {
    "collapsed": false,
    "pycharm": {
     "name": "#%%\n"
    }
   },
   "outputs": [],
   "source": [
    "# External modules\n",
    "import numpy as np\n",
    "import pandas as pd\n",
    "\n",
    "# Package modules\n",
    "import chromo.mc as mc\n",
    "from chromo.polymers import Chromatin\n",
    "import chromo.binders\n",
    "from chromo.fields import UniformDensityField\n",
    "import chromo.mc.mc_controller as ctrl\n",
    "from chromo.util.reproducibility import get_unique_subfolder_name"
   ]
  },
  {
   "cell_type": "markdown",
   "metadata": {
    "collapsed": false,
    "pycharm": {
     "name": "#%% md\n"
    }
   },
   "source": [
    "### Specify reader proteins"
   ]
  },
  {
   "cell_type": "code",
   "execution_count": 4,
   "metadata": {
    "collapsed": false,
    "pycharm": {
     "name": "#%%\n"
    }
   },
   "outputs": [],
   "source": [
    "hp1 = chromo.binders.get_by_name(\"HP1\")\n",
    "hp1.interaction_energy = 0\n",
    "hp1.chemical_potential = -100\n",
    "binders = chromo.binders.make_binder_collection([hp1])"
   ]
  },
  {
   "cell_type": "markdown",
   "metadata": {
    "collapsed": false,
    "pycharm": {
     "name": "#%% md\n"
    }
   },
   "source": [
    "### Specify confinement"
   ]
  },
  {
   "cell_type": "code",
   "execution_count": 5,
   "metadata": {
    "collapsed": false,
    "pycharm": {
     "name": "#%%\n"
    }
   },
   "outputs": [],
   "source": [
    "confine_type = \"Spherical\"\n",
    "radii = np.arange(100, 901, 25)"
   ]
  },
  {
   "cell_type": "markdown",
   "metadata": {
    "collapsed": false,
    "pycharm": {
     "name": "#%% md\n"
    }
   },
   "source": [
    "### Specify polymer"
   ]
  },
  {
   "cell_type": "code",
   "execution_count": 6,
   "metadata": {
    "collapsed": false,
    "pycharm": {
     "name": "#%%\n"
    }
   },
   "outputs": [],
   "source": [
    "num_beads = 1000\n",
    "bead_spacing = 16.5\n",
    "\n",
    "chemical_mods = np.atleast_2d(np.zeros(num_beads, dtype=int)).T\n",
    "states = chemical_mods.copy()"
   ]
  },
  {
   "cell_type": "markdown",
   "metadata": {
    "collapsed": false,
    "pycharm": {
     "name": "#%% md\n"
    }
   },
   "source": [
    "### Run simulations"
   ]
  },
  {
   "cell_type": "code",
   "execution_count": 7,
   "metadata": {
    "collapsed": false,
    "pycharm": {
     "name": "#%%\n"
    }
   },
   "outputs": [],
   "source": [
    "%%capture\n",
    "\n",
    "udfs = []\n",
    "chromatins = []\n",
    "out_dirs = []\n",
    "\n",
    "for i, confine_length in enumerate(radii):\n",
    "\n",
    "    chromatin = Chromatin.confined_gaussian_walk(\n",
    "        'Chr-1',\n",
    "        num_beads,\n",
    "        bead_spacing,\n",
    "        states=states,\n",
    "        confine_type=confine_type,\n",
    "        confine_length=confine_length,\n",
    "        binder_names=np.array(['HP1']),\n",
    "        chemical_mods=chemical_mods,\n",
    "        chemical_mod_names=np.array(['H3K9me3'])\n",
    "    )\n",
    "\n",
    "    n_bins_x = 50\n",
    "    n_bins_y = n_bins_x\n",
    "    n_bins_z = n_bins_x\n",
    "\n",
    "    x_width = 2 * confine_length\n",
    "    y_width = x_width\n",
    "    z_width = x_width\n",
    "\n",
    "    udf = UniformDensityField(\n",
    "        polymers = [chromatin],\n",
    "        binders = binders,\n",
    "        x_width = x_width,\n",
    "        nx = n_bins_x,\n",
    "        y_width = y_width,\n",
    "        ny = n_bins_y,\n",
    "        z_width = z_width,\n",
    "        nz = n_bins_z,\n",
    "        confine_type = confine_type,\n",
    "        confine_length = confine_length,\n",
    "        chi = 1\n",
    "    )\n",
    "\n",
    "    chromatins.append(chromatin)\n",
    "    udfs.append(udf)\n",
    "\n",
    "    amp_bead_bounds, amp_move_bounds = mc.get_amplitude_bounds(polymers = [chromatin])\n",
    "    num_snapshots = 3\n",
    "    mc_steps_per_snapshot = 1000\n",
    "\n",
    "    latest_sim = get_unique_subfolder_name(\"output/sim_\")\n",
    "    out_dirs.append(latest_sim)\n",
    "    moves_to_use = ctrl.all_moves(\n",
    "        log_dir=latest_sim,\n",
    "        bead_amp_bounds=amp_bead_bounds.bounds,\n",
    "        move_amp_bounds=amp_move_bounds.bounds,\n",
    "        controller=ctrl.SimpleControl\n",
    "    )\n",
    "\n",
    "    for move_controller in moves_to_use:\n",
    "        move_controller.move.num_per_cycle = 1\n",
    "\n",
    "    mc.polymer_in_field(\n",
    "        polymers = [chromatin],\n",
    "        binders = binders,\n",
    "        field = udf,\n",
    "        num_save_mc = mc_steps_per_snapshot,\n",
    "        num_saves = num_snapshots,\n",
    "        bead_amp_bounds = amp_bead_bounds,\n",
    "        move_amp_bounds = amp_move_bounds,\n",
    "        output_dir = 'output',\n",
    "        mc_move_controllers = moves_to_use\n",
    "    )"
   ]
  },
  {
   "cell_type": "markdown",
   "metadata": {
    "collapsed": false,
    "pycharm": {
     "name": "#%% md\n"
    }
   },
   "source": [
    "### Calculate densities in the field (current configuration - Beads)\n",
    "\n",
    "Should be equal to the number of beads."
   ]
  },
  {
   "cell_type": "code",
   "execution_count": 8,
   "metadata": {
    "collapsed": false,
    "pycharm": {
     "name": "#%%\n"
    }
   },
   "outputs": [
    {
     "name": "stdout",
     "output_type": "stream",
     "text": [
      "Output directory: output/sim_85\n",
      "Confinement: 100\n",
      "Number of particles calculated from density in snapshots: \n",
      "[999.9999999999999, 999.9999999999998, 1000.0]\n",
      "\n",
      "Output directory: output/sim_86\n",
      "Confinement: 125\n",
      "Number of particles calculated from density in snapshots: \n",
      "[999.9999999999999, 999.9999999999999, 999.9999999999999]\n",
      "\n",
      "Output directory: output/sim_87\n",
      "Confinement: 150\n",
      "Number of particles calculated from density in snapshots: \n",
      "[1000.0000000000002, 1000.0, 1000.0]\n",
      "\n",
      "Output directory: output/sim_88\n",
      "Confinement: 175\n",
      "Number of particles calculated from density in snapshots: \n",
      "[1000.0, 1000.0, 1000.0000000000001]\n",
      "\n",
      "Output directory: output/sim_89\n",
      "Confinement: 200\n",
      "Number of particles calculated from density in snapshots: \n",
      "[999.9999999999999, 1000.0000000000001, 999.9999999999999]\n",
      "\n",
      "Output directory: output/sim_90\n",
      "Confinement: 225\n",
      "Number of particles calculated from density in snapshots: \n",
      "[1000.0, 1000.0, 1000.0]\n",
      "\n",
      "Output directory: output/sim_91\n",
      "Confinement: 250\n",
      "Number of particles calculated from density in snapshots: \n",
      "[1000.0, 999.9999999999999, 1000.0]\n",
      "\n",
      "Output directory: output/sim_92\n",
      "Confinement: 275\n",
      "Number of particles calculated from density in snapshots: \n",
      "[1000.0, 999.9999999999999, 1000.0000000000001]\n",
      "\n",
      "Output directory: output/sim_93\n",
      "Confinement: 300\n",
      "Number of particles calculated from density in snapshots: \n",
      "[1000.0, 1000.0, 1000.0000000000001]\n",
      "\n",
      "Output directory: output/sim_94\n",
      "Confinement: 325\n",
      "Number of particles calculated from density in snapshots: \n",
      "[999.9999999999999, 1000.0, 1000.0]\n",
      "\n",
      "Output directory: output/sim_95\n",
      "Confinement: 350\n",
      "Number of particles calculated from density in snapshots: \n",
      "[1000.0, 1000.0000000000001, 1000.0]\n",
      "\n",
      "Output directory: output/sim_96\n",
      "Confinement: 375\n",
      "Number of particles calculated from density in snapshots: \n",
      "[999.9999999999999, 1000.0000000000001, 1000.0]\n",
      "\n",
      "Output directory: output/sim_97\n",
      "Confinement: 400\n",
      "Number of particles calculated from density in snapshots: \n",
      "[999.9999999999999, 1000.0, 1000.0]\n",
      "\n",
      "Output directory: output/sim_98\n",
      "Confinement: 425\n",
      "Number of particles calculated from density in snapshots: \n",
      "[1000.0, 1000.0000000000001, 1000.0]\n",
      "\n",
      "Output directory: output/sim_99\n",
      "Confinement: 450\n",
      "Number of particles calculated from density in snapshots: \n",
      "[1000.0, 1000.0000000000001, 1000.0000000000001]\n",
      "\n",
      "Output directory: output/sim_100\n",
      "Confinement: 475\n",
      "Number of particles calculated from density in snapshots: \n",
      "[1000.0, 999.9999999999999, 1000.0]\n",
      "\n",
      "Output directory: output/sim_101\n",
      "Confinement: 500\n",
      "Number of particles calculated from density in snapshots: \n",
      "[1000.0000000000001, 1000.0, 999.9999999999999]\n",
      "\n",
      "Output directory: output/sim_102\n",
      "Confinement: 525\n",
      "Number of particles calculated from density in snapshots: \n",
      "[1000.0000000000001, 999.9999999999999, 1000.0]\n",
      "\n",
      "Output directory: output/sim_103\n",
      "Confinement: 550\n",
      "Number of particles calculated from density in snapshots: \n",
      "[999.9999999999999, 999.9999999999999, 999.9999999999998]\n",
      "\n",
      "Output directory: output/sim_104\n",
      "Confinement: 575\n",
      "Number of particles calculated from density in snapshots: \n",
      "[1000.0, 1000.0, 1000.0]\n",
      "\n",
      "Output directory: output/sim_105\n",
      "Confinement: 600\n",
      "Number of particles calculated from density in snapshots: \n",
      "[999.9999999999999, 1000.0, 1000.0000000000001]\n",
      "\n",
      "Output directory: output/sim_106\n",
      "Confinement: 625\n",
      "Number of particles calculated from density in snapshots: \n",
      "[1000.0, 1000.0000000000001, 1000.0]\n",
      "\n",
      "Output directory: output/sim_107\n",
      "Confinement: 650\n",
      "Number of particles calculated from density in snapshots: \n",
      "[1000.0000000000001, 1000.0000000000001, 1000.0000000000001]\n",
      "\n",
      "Output directory: output/sim_108\n",
      "Confinement: 675\n",
      "Number of particles calculated from density in snapshots: \n",
      "[1000.0, 1000.0000000000001, 1000.0]\n",
      "\n",
      "Output directory: output/sim_109\n",
      "Confinement: 700\n",
      "Number of particles calculated from density in snapshots: \n",
      "[1000.0000000000001, 1000.0, 1000.0000000000001]\n",
      "\n",
      "Output directory: output/sim_110\n",
      "Confinement: 725\n",
      "Number of particles calculated from density in snapshots: \n",
      "[1000.0, 1000.0, 1000.0]\n",
      "\n",
      "Output directory: output/sim_111\n",
      "Confinement: 750\n",
      "Number of particles calculated from density in snapshots: \n",
      "[1000.0000000000001, 1000.0, 1000.0]\n",
      "\n",
      "Output directory: output/sim_112\n",
      "Confinement: 775\n",
      "Number of particles calculated from density in snapshots: \n",
      "[999.9999999999999, 1000.0, 1000.0]\n",
      "\n",
      "Output directory: output/sim_113\n",
      "Confinement: 800\n",
      "Number of particles calculated from density in snapshots: \n",
      "[1000.0000000000001, 1000.0, 1000.0]\n",
      "\n",
      "Output directory: output/sim_114\n",
      "Confinement: 825\n",
      "Number of particles calculated from density in snapshots: \n",
      "[1000.0, 1000.0, 1000.0]\n",
      "\n",
      "Output directory: output/sim_115\n",
      "Confinement: 850\n",
      "Number of particles calculated from density in snapshots: \n",
      "[1000.0000000000001, 999.9999999999999, 999.9999999999999]\n",
      "\n",
      "Output directory: output/sim_116\n",
      "Confinement: 875\n",
      "Number of particles calculated from density in snapshots: \n",
      "[999.9999999999999, 1000.0000000000001, 1000.0]\n",
      "\n",
      "Output directory: output/sim_117\n",
      "Confinement: 900\n",
      "Number of particles calculated from density in snapshots: \n",
      "[1000.0, 1000.0000000000001, 1000.0000000000001]\n",
      "\n"
     ]
    }
   ],
   "source": [
    "for h, out_dir in enumerate(out_dirs):\n",
    "\n",
    "    chromatin = chromatins[h]\n",
    "\n",
    "    output_files = os.listdir(out_dir)\n",
    "    output_files = [\n",
    "        f for f in output_files if f.endswith(\".csv\") and f.startswith(\"Chr\")\n",
    "    ]\n",
    "    snapshot = [int(f.split(\"-\")[-1].split(\".\")[0]) for f in output_files]\n",
    "    sorted_snap = np.sort(np.array(snapshot))\n",
    "    output_files = [f for _, f in sorted(zip(snapshot, output_files))]\n",
    "\n",
    "    num_particles_round_trip = []\n",
    "    all_energies = []\n",
    "    polymer_energies = []\n",
    "    field_energies = []\n",
    "\n",
    "    for i, f in enumerate(output_files):\n",
    "        snap = sorted_snap[i]\n",
    "        output_path = str(out_dir) + '/' + f\n",
    "\n",
    "        r = pd.read_csv(\n",
    "            output_path,\n",
    "            header=0,\n",
    "            skiprows=1,\n",
    "            usecols=[1, 2, 3],\n",
    "            dtype=float\n",
    "        ).to_numpy()\n",
    "\n",
    "        t3 = pd.read_csv(\n",
    "            output_path,\n",
    "            header=0,\n",
    "            skiprows=1,\n",
    "            usecols=[4, 5, 6],\n",
    "            dtype=float\n",
    "        ).to_numpy()\n",
    "\n",
    "        states = pd.read_csv(\n",
    "            output_path,\n",
    "            header=0,\n",
    "            skiprows=1,\n",
    "            usecols=[10, 11],\n",
    "            dtype=int\n",
    "        ).to_numpy()\n",
    "\n",
    "        chromatin.r = r.copy()\n",
    "        chromatin.t3 = t3.copy()\n",
    "        chromatin.states = states.copy()\n",
    "\n",
    "        udfs[h].update_all_densities(chromatin, np.arange(num_beads), num_beads)\n",
    "        num_particles_round_trip.append(\n",
    "            np.sum(np.multiply(np.array(udfs[h].density)[:, 0], np.array(list(udfs[h].access_vols.values()))))\n",
    "        )\n",
    "\n",
    "    print(f\"Output directory: {out_dir}\")\n",
    "    print(f\"Confinement: {radii[h]}\")\n",
    "    print(\"Number of particles calculated from density in snapshots: \")\n",
    "    print(num_particles_round_trip)\n",
    "    print()"
   ]
  },
  {
   "cell_type": "markdown",
   "metadata": {
    "collapsed": false,
    "pycharm": {
     "name": "#%% md\n"
    }
   },
   "source": [
    "### Calculate densities in the field (current configuration - HP1)\n",
    "\n",
    "Should be close to zero. We start with no HP1s bound, and we maintain a very low HP1 concentration (chemical potential), which biases against HP1 binding. Note, non-zero values may be related to random binding move acceptances. In all cases, the number of bound HP1s should be the same when calculated from voxel densities or bead states."
   ]
  },
  {
   "cell_type": "code",
   "execution_count": 9,
   "metadata": {
    "collapsed": false,
    "pycharm": {
     "name": "#%%\n"
    }
   },
   "outputs": [
    {
     "name": "stdout",
     "output_type": "stream",
     "text": [
      "Output directory: output/sim_85\n",
      "Confinement: 100\n",
      "Number of particles calculated from density in snapshots: \n",
      "[96.0, 150.0, 195.0]\n",
      "\n",
      "Output directory: output/sim_86\n",
      "Confinement: 125\n",
      "Number of particles calculated from density in snapshots: \n",
      "[221.0, 227.00000000000003, 231.00000000000003]\n",
      "\n",
      "Output directory: output/sim_87\n",
      "Confinement: 150\n",
      "Number of particles calculated from density in snapshots: \n",
      "[226.00000000000003, 228.0, 220.0]\n",
      "\n",
      "Output directory: output/sim_88\n",
      "Confinement: 175\n",
      "Number of particles calculated from density in snapshots: \n",
      "[196.99999999999994, 191.00000000000003, 171.00000000000003]\n",
      "\n",
      "Output directory: output/sim_89\n",
      "Confinement: 200\n",
      "Number of particles calculated from density in snapshots: \n",
      "[159.0, 132.0, 112.0]\n",
      "\n",
      "Output directory: output/sim_90\n",
      "Confinement: 225\n",
      "Number of particles calculated from density in snapshots: \n",
      "[95.00000000000001, 84.0, 76.0]\n",
      "\n",
      "Output directory: output/sim_91\n",
      "Confinement: 250\n",
      "Number of particles calculated from density in snapshots: \n",
      "[59.0, 49.0, 41.0]\n",
      "\n",
      "Output directory: output/sim_92\n",
      "Confinement: 275\n",
      "Number of particles calculated from density in snapshots: \n",
      "[31.0, 27.0, 24.0]\n",
      "\n",
      "Output directory: output/sim_93\n",
      "Confinement: 300\n",
      "Number of particles calculated from density in snapshots: \n",
      "[21.0, 19.0, 15.0]\n",
      "\n",
      "Output directory: output/sim_94\n",
      "Confinement: 325\n",
      "Number of particles calculated from density in snapshots: \n",
      "[11.0, 10.0, 9.0]\n",
      "\n",
      "Output directory: output/sim_95\n",
      "Confinement: 350\n",
      "Number of particles calculated from density in snapshots: \n",
      "[7.0, 5.0, 5.0]\n",
      "\n",
      "Output directory: output/sim_96\n",
      "Confinement: 375\n",
      "Number of particles calculated from density in snapshots: \n",
      "[5.0, 5.0, 4.0]\n",
      "\n",
      "Output directory: output/sim_97\n",
      "Confinement: 400\n",
      "Number of particles calculated from density in snapshots: \n",
      "[3.0, 3.0, 3.0]\n",
      "\n",
      "Output directory: output/sim_98\n",
      "Confinement: 425\n",
      "Number of particles calculated from density in snapshots: \n",
      "[2.0, 1.0, 1.0]\n",
      "\n",
      "Output directory: output/sim_99\n",
      "Confinement: 450\n",
      "Number of particles calculated from density in snapshots: \n",
      "[0.9999999999999999, 1.0, 0.9999999999999999]\n",
      "\n",
      "Output directory: output/sim_100\n",
      "Confinement: 475\n",
      "Number of particles calculated from density in snapshots: \n",
      "[1.0, 1.0, 1.0]\n",
      "\n",
      "Output directory: output/sim_101\n",
      "Confinement: 500\n",
      "Number of particles calculated from density in snapshots: \n",
      "[1.0, 0.9999999999999999, 1.0]\n",
      "\n",
      "Output directory: output/sim_102\n",
      "Confinement: 525\n",
      "Number of particles calculated from density in snapshots: \n",
      "[1.0, 1.0, 1.0]\n",
      "\n",
      "Output directory: output/sim_103\n",
      "Confinement: 550\n",
      "Number of particles calculated from density in snapshots: \n",
      "[1.0, 0.9999999999999999, 0.9999999999999999]\n",
      "\n",
      "Output directory: output/sim_104\n",
      "Confinement: 575\n",
      "Number of particles calculated from density in snapshots: \n",
      "[1.0, 1.0, 1.0]\n",
      "\n",
      "Output directory: output/sim_105\n",
      "Confinement: 600\n",
      "Number of particles calculated from density in snapshots: \n",
      "[1.0, 1.0, 1.0]\n",
      "\n",
      "Output directory: output/sim_106\n",
      "Confinement: 625\n",
      "Number of particles calculated from density in snapshots: \n",
      "[1.0, 1.0, 1.0]\n",
      "\n",
      "Output directory: output/sim_107\n",
      "Confinement: 650\n",
      "Number of particles calculated from density in snapshots: \n",
      "[1.0, 2.0, 2.0]\n",
      "\n",
      "Output directory: output/sim_108\n",
      "Confinement: 675\n",
      "Number of particles calculated from density in snapshots: \n",
      "[2.0, 2.0, 2.0]\n",
      "\n",
      "Output directory: output/sim_109\n",
      "Confinement: 700\n",
      "Number of particles calculated from density in snapshots: \n",
      "[1.0, 1.0, 1.0]\n",
      "\n",
      "Output directory: output/sim_110\n",
      "Confinement: 725\n",
      "Number of particles calculated from density in snapshots: \n",
      "[2.0, 2.0, 2.0]\n",
      "\n",
      "Output directory: output/sim_111\n",
      "Confinement: 750\n",
      "Number of particles calculated from density in snapshots: \n",
      "[1.9999999999999996, 2.0, 1.0]\n",
      "\n",
      "Output directory: output/sim_112\n",
      "Confinement: 775\n",
      "Number of particles calculated from density in snapshots: \n",
      "[1.0, 0.9999999999999999, 1.0]\n",
      "\n",
      "Output directory: output/sim_113\n",
      "Confinement: 800\n",
      "Number of particles calculated from density in snapshots: \n",
      "[1.0, 1.0, 1.0]\n",
      "\n",
      "Output directory: output/sim_114\n",
      "Confinement: 825\n",
      "Number of particles calculated from density in snapshots: \n",
      "[1.0, 1.0, 1.0]\n",
      "\n",
      "Output directory: output/sim_115\n",
      "Confinement: 850\n",
      "Number of particles calculated from density in snapshots: \n",
      "[1.0, 1.0, 2.0]\n",
      "\n",
      "Output directory: output/sim_116\n",
      "Confinement: 875\n",
      "Number of particles calculated from density in snapshots: \n",
      "[2.0, 2.0, 1.0]\n",
      "\n",
      "Output directory: output/sim_117\n",
      "Confinement: 900\n",
      "Number of particles calculated from density in snapshots: \n",
      "[1.0, 1.0000000000000002, 2.0]\n",
      "\n"
     ]
    }
   ],
   "source": [
    "for h, out_dir in enumerate(out_dirs):\n",
    "\n",
    "    chromatin = chromatins[h]\n",
    "\n",
    "    output_files = os.listdir(out_dir)\n",
    "    output_files = [\n",
    "        f for f in output_files if f.endswith(\".csv\") and f.startswith(\"Chr\")\n",
    "    ]\n",
    "    snapshot = [int(f.split(\"-\")[-1].split(\".\")[0]) for f in output_files]\n",
    "    sorted_snap = np.sort(np.array(snapshot))\n",
    "    output_files = [f for _, f in sorted(zip(snapshot, output_files))]\n",
    "\n",
    "    num_particles_round_trip = []\n",
    "    all_energies = []\n",
    "    polymer_energies = []\n",
    "    field_energies = []\n",
    "\n",
    "    for i, f in enumerate(output_files):\n",
    "        snap = sorted_snap[i]\n",
    "        output_path = str(out_dir) + '/' + f\n",
    "\n",
    "        r = pd.read_csv(\n",
    "            output_path,\n",
    "            header=None,\n",
    "            skiprows=2,\n",
    "            usecols=[1, 2, 3],\n",
    "            dtype=float\n",
    "        ).to_numpy()\n",
    "\n",
    "        t3 = pd.read_csv(\n",
    "            output_path,\n",
    "            header=None,\n",
    "            skiprows=2,\n",
    "            usecols=[4, 5, 6],\n",
    "            dtype=float\n",
    "        ).to_numpy()\n",
    "\n",
    "        states = pd.read_csv(\n",
    "            output_path,\n",
    "            header=None,\n",
    "            skiprows=2,\n",
    "            usecols=[10],\n",
    "            dtype=int\n",
    "        ).to_numpy()\n",
    "\n",
    "        chromatin.r = r.copy()\n",
    "        chromatin.t3 = t3.copy()\n",
    "        chromatin.states = states.copy()\n",
    "\n",
    "        udfs[h].update_all_densities(chromatin, np.arange(num_beads), num_beads)\n",
    "        num_particles_round_trip.append(\n",
    "            np.sum(np.multiply(np.array(udfs[h].density)[:, 1], np.array(list(udfs[h].access_vols.values()))))\n",
    "        )\n",
    "\n",
    "    print(f\"Output directory: {out_dir}\")\n",
    "    print(f\"Confinement: {radii[h]}\")\n",
    "    print(\"Number of particles calculated from density in snapshots: \")\n",
    "    print(num_particles_round_trip)\n",
    "    print()"
   ]
  }
 ],
 "metadata": {
  "kernelspec": {
   "display_name": "Python 3",
   "language": "python",
   "name": "python3"
  },
  "language_info": {
   "codemirror_mode": {
    "name": "ipython",
    "version": 3
   },
   "file_extension": ".py",
   "mimetype": "text/x-python",
   "name": "python",
   "nbconvert_exporter": "python",
   "pygments_lexer": "ipython3",
   "version": "3.7.6"
  }
 },
 "nbformat": 4,
 "nbformat_minor": 0
}