{
 "cells": [
  {
   "cell_type": "markdown",
   "metadata": {},
   "source": [
    "# Write Slurm Files for a Set of Simulation Contact Maps"
   ]
  },
  {
   "cell_type": "markdown",
   "metadata": {},
   "source": [
    "### Import Modules"
   ]
  },
  {
   "cell_type": "code",
   "execution_count": 1,
   "metadata": {},
   "outputs": [],
   "source": [
    "import numpy as np"
   ]
  },
  {
   "cell_type": "markdown",
   "metadata": {},
   "source": [
    "### Specify Run Parameters"
   ]
  },
  {
   "cell_type": "code",
   "execution_count": 5,
   "metadata": {},
   "outputs": [],
   "source": [
    "slurm_dir = \"slurm_files_cmap\"\n",
    "slurm_file_prefix = \"cmap_generation\"\n",
    "slurm_files = []\n",
    "job_name_prefix = \"get_cmap\"\n",
    "runtime = \"4:59:59\"\n",
    "num_tasks = \"1\"\n",
    "cpus_per_task = \"1\"\n",
    "mem_per_cpu = \"20G\"\n",
    "slurm_run_script = \"run_jobs_cmap.sh\""
   ]
  },
  {
   "cell_type": "markdown",
   "metadata": {},
   "source": [
    "### Specify Simulation Parameters"
   ]
  },
  {
   "cell_type": "code",
   "execution_count": 6,
   "metadata": {},
   "outputs": [],
   "source": [
    "sim_inds = np.arange(33, 64+1, dtype=int)"
   ]
  },
  {
   "cell_type": "code",
   "execution_count": 7,
   "metadata": {},
   "outputs": [],
   "source": [
    "run = 0\n",
    "\n",
    "for sim_ind in sim_inds:\n",
    "    slurm_file_name = f\"{slurm_file_prefix}_{run}.slurm\"\n",
    "    job_name = f\"{job_name_prefix}_{run}\"\n",
    "    slurm_files.append(slurm_file_name)\n",
    "\n",
    "    with open(f\"{slurm_dir}/{slurm_file_name}\", 'w') as f:\n",
    "        f.write(\"#!/bin/bash\\n\\n\")\n",
    "\n",
    "        f.write(f\"#SBATCH --job-name={job_name}\\n\")\n",
    "        f.write(f\"#SBATCH --time={runtime}\\n\")\n",
    "        f.write(f\"#SBATCH --ntasks={num_tasks}\\n\")\n",
    "        f.write(f\"#SBATCH --cpus-per-task={cpus_per_task}\\n\")\n",
    "        f.write(f\"#SBATCH --mem-per-cpu={mem_per_cpu}\\n\\n\")\n",
    "\n",
    "        f.write(f\"source ~/.bashrc\\n\")\n",
    "        f.write(f\"cd /scratch/users/jwakim/chromo_two_mark_phase_transition/doc/plots/\\n\")\n",
    "        f.write(f\"echo 'Changed to \\$SCRATCH directory. Proceeding to run bash script...'\\n\")\n",
    "        f.write(f\"python cmap_detailed.py {sim_ind} 3.0\\n\")\n",
    "        f.write(f\"echo 'Job complete!'\\n\")\n",
    "        run += 1\n",
    "\n",
    "with open(f\"{slurm_dir}/{slurm_run_script}\", 'w') as f:\n",
    "    for slurm_file in slurm_files:\n",
    "        f.write(f\"sbatch {slurm_file}\\n\")"
   ]
  },
  {
   "cell_type": "code",
   "execution_count": null,
   "metadata": {},
   "outputs": [],
   "source": []
  }
 ],
 "metadata": {
  "kernelspec": {
   "display_name": "Python 3 (ipykernel)",
   "language": "python",
   "name": "python3"
  },
  "language_info": {
   "codemirror_mode": {
    "name": "ipython",
    "version": 3
   },
   "file_extension": ".py",
   "mimetype": "text/x-python",
   "name": "python",
   "nbconvert_exporter": "python",
   "pygments_lexer": "ipython3",
   "version": "3.7.6"
  }
 },
 "nbformat": 4,
 "nbformat_minor": 4
}
