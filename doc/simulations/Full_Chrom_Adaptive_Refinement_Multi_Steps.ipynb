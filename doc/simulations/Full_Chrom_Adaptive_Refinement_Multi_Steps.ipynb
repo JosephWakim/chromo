{
 "cells": [
  {
   "cell_type": "markdown",
   "metadata": {},
   "source": [
    "# Full Chromatin Simulation with Adaptable Refinement\n",
    "\n",
    "In this notebook, we demonstrate a Monte Carlo simulation of chromatin organization where the level of detail is adaptibly confined to improve convergence onto a globally optimal configuration."
   ]
  },
  {
   "cell_type": "markdown",
   "metadata": {},
   "source": [
    "### Import Modules"
   ]
  },
  {
   "cell_type": "code",
   "execution_count": 1,
   "metadata": {},
   "outputs": [],
   "source": [
    "%load_ext autoreload"
   ]
  },
  {
   "cell_type": "code",
   "execution_count": 2,
   "metadata": {},
   "outputs": [],
   "source": [
    "%autoreload 2"
   ]
  },
  {
   "cell_type": "code",
   "execution_count": 3,
   "metadata": {},
   "outputs": [],
   "source": [
    "import os\n",
    "import sys\n",
    "from inspect import getmembers, isfunction\n",
    "\n",
    "import numpy as np\n",
    "import pandas as pd\n",
    "import matplotlib.pyplot as plt"
   ]
  },
  {
   "cell_type": "code",
   "execution_count": 4,
   "metadata": {},
   "outputs": [
    {
     "name": "stdout",
     "output_type": "stream",
     "text": [
      "Root Directory: \n",
      "/home/users/jwakim/CodeDev/chromo_adaptable_refinement/chromo\n"
     ]
    }
   ],
   "source": [
    "cwd = os.getcwd()\n",
    "parent_dir = cwd + \"/../..\"\n",
    "sys.path.insert(1, parent_dir)\n",
    "os.chdir(parent_dir)\n",
    "\n",
    "print(\"Root Directory: \")\n",
    "print(os.getcwd())"
   ]
  },
  {
   "cell_type": "code",
   "execution_count": 5,
   "metadata": {},
   "outputs": [],
   "source": [
    "import chromo.mc as mc\n",
    "from chromo.polymers import Chromatin\n",
    "import chromo.binders\n",
    "from chromo.fields import UniformDensityField\n",
    "import chromo.mc.mc_controller as ctrl\n",
    "from chromo.util.reproducibility import get_unique_subfolder_name\n",
    "from chromo.util.poly_paths import gaussian_walk\n",
    "import chromo.util.rediscretize as rd\n",
    "import doc.tools.mu_schedules as ms"
   ]
  },
  {
   "cell_type": "markdown",
   "metadata": {},
   "source": [
    "### Generate Initial Chromatin Fiber"
   ]
  },
  {
   "cell_type": "code",
   "execution_count": 6,
   "metadata": {},
   "outputs": [],
   "source": [
    "# Binders\n",
    "hp1 = chromo.binders.get_by_name(\"HP1\")\n",
    "hp1.chemical_potential = -0.4\n",
    "binders = chromo.binders.make_binder_collection([hp1])"
   ]
  },
  {
   "cell_type": "code",
   "execution_count": 7,
   "metadata": {},
   "outputs": [],
   "source": [
    "# Confinement\n",
    "confine_type = \"Spherical\"\n",
    "confine_length = 900"
   ]
  },
  {
   "cell_type": "code",
   "execution_count": 8,
   "metadata": {},
   "outputs": [],
   "source": [
    "num_beads = 393216\n",
    "bead_spacing = 16.5\n",
    "chem_mods_path = np.array([\"chromo/chemical_mods/meth\"])\n",
    "chemical_mods = Chromatin.load_seqs(chem_mods_path)\n",
    "states = np.zeros(chemical_mods.shape, dtype=int)"
   ]
  },
  {
   "cell_type": "code",
   "execution_count": null,
   "metadata": {},
   "outputs": [],
   "source": [
    "# Polymer\n",
    "p = Chromatin.confined_gaussian_walk(\n",
    "    'Chr-1',\n",
    "    num_beads,\n",
    "    bead_spacing,\n",
    "    states=np.zeros(chemical_mods.shape, dtype=int),\n",
    "    confine_type=confine_type,\n",
    "    confine_length=confine_length,\n",
    "    binder_names=np.array(['HP1']),\n",
    "    chemical_mods=chemical_mods,\n",
    "    chemical_mod_names=np.array(['H3K9me3'])\n",
    ")"
   ]
  },
  {
   "cell_type": "code",
   "execution_count": null,
   "metadata": {},
   "outputs": [],
   "source": [
    "fig = plt.figure()\n",
    "ax = fig.add_subplot(projection='3d')\n",
    "ax.scatter(p.r[:,0], p.r[:,1], p.r[:,2], s=0.5, alpha=0.5)\n",
    "ax.set_xticks(np.arange(-900, 901, 300))\n",
    "ax.set_yticks(np.arange(-900, 901, 300))\n",
    "ax.set_zticks(np.arange(-900, 901, 300))\n",
    "plt.show()"
   ]
  },
  {
   "cell_type": "code",
   "execution_count": null,
   "metadata": {},
   "outputs": [],
   "source": [
    "# Field\n",
    "n_bins_x = 63\n",
    "x_width = 2 * confine_length * (1 + 1/n_bins_x)\n",
    "n_bins_y = n_bins_x\n",
    "y_width = x_width\n",
    "n_bins_z = n_bins_x\n",
    "z_width = x_width\n",
    "udf = UniformDensityField(\n",
    "    [p], binders, x_width, n_bins_x, y_width,\n",
    "    n_bins_y, z_width, n_bins_z, confine_type=confine_type,\n",
    "    confine_length=confine_length, chi=1,\n",
    "    assume_fully_accessible=1, fast_field=1, n_points=1000\n",
    ")"
   ]
  },
  {
   "cell_type": "markdown",
   "metadata": {},
   "source": [
    "### Determine Chemical Modification States at Various Levels of Coarse-Graining"
   ]
  },
  {
   "cell_type": "code",
   "execution_count": 11,
   "metadata": {},
   "outputs": [
    {
     "name": "stdout",
     "output_type": "stream",
     "text": [
      "Number of Beads in 1:100 scale simulation: 3933\n",
      "Number of Beads in 1:50 scale simulation: 7865\n",
      "Number of Beads in 1:25 scale simulation: 15729\n",
      "Number of Beads in 1:5 scale simulation: 78644\n"
     ]
    }
   ],
   "source": [
    "intervals_1_100 = rd.get_cg_bead_intervals(num_beads, cg_factor=100)\n",
    "intervals_1_50 = rd.get_cg_bead_intervals(num_beads, cg_factor=50)\n",
    "intervals_1_25 = rd.get_cg_bead_intervals(num_beads, cg_factor=25)\n",
    "intervals_1_5 = rd.get_cg_bead_intervals(num_beads, cg_factor=5)\n",
    "\n",
    "chemical_mods_1_100 = rd.get_majority_state_in_interval(chemical_mods, intervals_1_100)\n",
    "chemical_mods_1_50 = rd.get_majority_state_in_interval(chemical_mods, intervals_1_50)\n",
    "chemical_mods_1_25 = rd.get_majority_state_in_interval(chemical_mods, intervals_1_25)\n",
    "chemical_mods_1_5 = rd.get_majority_state_in_interval(chemical_mods, intervals_1_5)\n",
    "\n",
    "num_beads_1_100 = len(chemical_mods_1_100)\n",
    "num_beads_1_50 = len(chemical_mods_1_50)\n",
    "num_beads_1_25 = len(chemical_mods_1_25)\n",
    "num_beads_1_5 = len(chemical_mods_1_5)\n",
    "\n",
    "print(f\"Number of Beads in 1:100 scale simulation: {num_beads_1_100}\")\n",
    "print(f\"Number of Beads in 1:50 scale simulation: {num_beads_1_50}\")\n",
    "print(f\"Number of Beads in 1:25 scale simulation: {num_beads_1_25}\")\n",
    "print(f\"Number of Beads in 1:5 scale simulation: {num_beads_1_5}\")"
   ]
  },
  {
   "cell_type": "markdown",
   "metadata": {},
   "source": [
    "### Determine Bead Spacing at Various Levels of Coarse-Graining"
   ]
  },
  {
   "cell_type": "code",
   "execution_count": null,
   "metadata": {},
   "outputs": [],
   "source": [
    "bead_spacing_1_50 = np.sqrt(\n",
    "    2 * p.lp**2 * (\n",
    "        (50 * bead_spacing) / lp - 1 +\n",
    "        np.exp(-((50 * bead_spacing) / lp))\n",
    "    )\n",
    ")\n",
    "\n",
    "bead_spacing_1_25 = np.sqrt(\n",
    "    2 * p.lp**2 * (\n",
    "        (25 * bead_spacing) / lp - 1 +\n",
    "        np.exp(-((25 * bead_spacing) / lp))\n",
    "    )\n",
    ")\n",
    "\n",
    "bead_spacing_1_5 = np.sqrt(\n",
    "    2 * p.lp**2 * (\n",
    "        (5 * bead_spacing) / lp - 1 +\n",
    "        np.exp(-((5 * bead_spacing) / lp))\n",
    "    )\n",
    ")"
   ]
  },
  {
   "cell_type": "markdown",
   "metadata": {},
   "source": [
    "### Initialize Binders at Various Levels of Coarse-Graining"
   ]
  },
  {
   "cell_type": "code",
   "execution_count": null,
   "metadata": {},
   "outputs": [],
   "source": [
    "binders_cg_50 = rd.get_cg_binders(\n",
    "    binders_refined = binders,\n",
    "    cg_factor = 50\n",
    ")\n",
    "\n",
    "binders_cg_25 = rd.get_cg_binders(\n",
    "    binders_refined = binders,\n",
    "    cg_factor = 25\n",
    ")\n",
    "\n",
    "binders_cg_5 = rd.get_cg_binders(\n",
    "    binders_refined = binders,\n",
    "    cg_factor = 5\n",
    ")"
   ]
  },
  {
   "cell_type": "markdown",
   "metadata": {},
   "source": [
    "### Coarse-Grain the Original Polymer"
   ]
  },
  {
   "cell_type": "code",
   "execution_count": null,
   "metadata": {},
   "outputs": [],
   "source": [
    "cg_factor = 100"
   ]
  },
  {
   "cell_type": "code",
   "execution_count": null,
   "metadata": {},
   "outputs": [],
   "source": [
    "p_cg_100 = rd.get_cg_chromatin(\n",
    "    polymer = p,\n",
    "    cg_factor = cg_factor,\n",
    "    name_cg = \"Chr_CG_100\"\n",
    ")"
   ]
  },
  {
   "cell_type": "code",
   "execution_count": null,
   "metadata": {},
   "outputs": [],
   "source": [
    "fig = plt.figure()\n",
    "ax = fig.add_subplot(projection='3d')\n",
    "ax.scatter(p_cg.r[:,0], p_cg.r[:,1], p_cg.r[:,2], s=10, alpha=0.5)\n",
    "ax.set_xticks(np.arange(-900, 901, 300))\n",
    "ax.set_yticks(np.arange(-900, 901, 300))\n",
    "ax.set_zticks(np.arange(-900, 901, 300))\n",
    "plt.show()"
   ]
  },
  {
   "cell_type": "code",
   "execution_count": null,
   "metadata": {},
   "outputs": [],
   "source": [
    "udf_cg_100 = rd.get_cg_udf(\n",
    "    udf_refined_dict = udf.dict_,\n",
    "    binders_refined = binders,\n",
    "    cg_factor = cg_factor,\n",
    "    polymers_cg = [p_cg_100]\n",
    ")"
   ]
  },
  {
   "cell_type": "code",
   "execution_count": null,
   "metadata": {},
   "outputs": [],
   "source": [
    "binders_cg_100 = rd.get_cg_binders(\n",
    "    binders_refined = binders,\n",
    "    cg_factor = cg_factor\n",
    ")"
   ]
  },
  {
   "cell_type": "markdown",
   "metadata": {},
   "source": [
    "### Equilibrate the Coarse-Grained Polymer"
   ]
  },
  {
   "cell_type": "code",
   "execution_count": null,
   "metadata": {},
   "outputs": [],
   "source": [
    "amp_bead_bounds, amp_move_bounds = mc.get_amplitude_bounds([p_cg_100])\n",
    "num_snapshots = 200\n",
    "mc_steps_per_snapshot = 1000\n",
    "\n",
    "# Create a list of mu schedules, which are defined in another file\n",
    "schedules = [func[0] for func in getmembers(ms, isfunction)]\n",
    "select_schedule = \"linear_step_for_negative_cp\"\n",
    "mu_schedules = [\n",
    "    ms.Schedule(getattr(ms, func_name)) for func_name in schedules\n",
    "]\n",
    "mu_schedules = [sch for sch in mu_schedules if sch.name == select_schedule]"
   ]
  },
  {
   "cell_type": "code",
   "execution_count": null,
   "metadata": {},
   "outputs": [],
   "source": [
    "polymers_cg = mc.polymer_in_field(\n",
    "    [p_cg_100],\n",
    "    binders_cg_100,\n",
    "    udf_cg_100,\n",
    "    mc_steps_per_snapshot,\n",
    "    num_snapshots,\n",
    "    amp_bead_bounds,\n",
    "    amp_move_bounds,\n",
    "    output_dir='output',\n",
    "    mu_schedule=mu_schedules[0],\n",
    "    random_seed=np.random.randint(0, 1E5)\n",
    ")"
   ]
  },
  {
   "cell_type": "code",
   "execution_count": null,
   "metadata": {},
   "outputs": [],
   "source": [
    "p_cg_100 = polymers_cg[0]"
   ]
  },
  {
   "cell_type": "code",
   "execution_count": null,
   "metadata": {},
   "outputs": [],
   "source": [
    "fig = plt.figure()\n",
    "ax = fig.add_subplot(projection='3d')\n",
    "ax.scatter(p_cg_100.r[:,0], p_cg_100.r[:,1], p_cg_100.r[:,2], s=10, alpha=0.5)\n",
    "ax.set_xticks(np.arange(-900, 901, 300))\n",
    "ax.set_yticks(np.arange(-900, 901, 300))\n",
    "ax.set_zticks(np.arange(-900, 901, 300))\n",
    "plt.show()"
   ]
  },
  {
   "cell_type": "markdown",
   "metadata": {},
   "source": [
    "### First Level of Refinement"
   ]
  },
  {
   "cell_type": "code",
   "execution_count": null,
   "metadata": {},
   "outputs": [],
   "source": [
    "n_bind_eq = 100000\n",
    "p_cg_50, udf_cg_50 = rd.refine_chromatin(\n",
    "    polymer_cg = p_cg_100,\n",
    "    num_beads_refined = num_beads_1_50,\n",
    "    bead_spacing = bead_spacing_1_50,\n",
    "    chemical_mods = chemical_mods_1_50,\n",
    "    udf_cg = udf_cg_100,\n",
    "    binding_equilibration = n_bind_eq,\n",
    "    name_refine = \"Chr_CG_50\",\n",
    "    output_dir = \"output\"\n",
    ")"
   ]
  },
  {
   "cell_type": "code",
   "execution_count": null,
   "metadata": {},
   "outputs": [],
   "source": [
    "fig = plt.figure()\n",
    "ax = fig.add_subplot(projection='3d')\n",
    "ax.scatter(p_cg_50.r[:,0], p_cg_50.r[:,1], p_cg_50.r[:,2], s=0.5, alpha=0.5)\n",
    "ax.set_xticks(np.arange(-900, 901, 300))\n",
    "ax.set_yticks(np.arange(-900, 901, 300))\n",
    "ax.set_zticks(np.arange(-900, 901, 300))\n",
    "plt.show()"
   ]
  },
  {
   "cell_type": "code",
   "execution_count": null,
   "metadata": {},
   "outputs": [],
   "source": [
    "amp_bead_bounds, amp_move_bounds = mc.get_amplitude_bounds([p_cg_50])\n",
    "num_snapshots = 200\n",
    "mc_steps_per_snapshot = 5000\n",
    "\n",
    "# Create a list of mu schedules, which are defined in another file\n",
    "schedules = [func[0] for func in getmembers(ms, isfunction)]\n",
    "select_schedule = \"linear_step_for_negative_cp_mild\"\n",
    "mu_schedules = [\n",
    "    ms.Schedule(getattr(ms, func_name)) for func_name in schedules\n",
    "]\n",
    "mu_schedules = [sch for sch in mu_schedules if sch.name == select_schedule]"
   ]
  },
  {
   "cell_type": "code",
   "execution_count": null,
   "metadata": {},
   "outputs": [],
   "source": [
    "polymers_cg = mc.polymer_in_field(\n",
    "    [p_cg_50],\n",
    "    binders_cg_50,\n",
    "    udf_cg_50,\n",
    "    mc_steps_per_snapshot,\n",
    "    num_snapshots,\n",
    "    amp_bead_bounds,\n",
    "    amp_move_bounds,\n",
    "    output_dir='output',\n",
    "    mu_schedule=mu_schedules[0],\n",
    "    random_seed=np.random.randint(0, 1E5)\n",
    ")"
   ]
  },
  {
   "cell_type": "code",
   "execution_count": null,
   "metadata": {},
   "outputs": [],
   "source": [
    "p_cg_50 = polymers_cg[0]"
   ]
  },
  {
   "cell_type": "code",
   "execution_count": null,
   "metadata": {},
   "outputs": [],
   "source": [
    "fig = plt.figure()\n",
    "ax = fig.add_subplot(projection='3d')\n",
    "ax.scatter(p_cg_50.r[:,0], p_cg_50.r[:,1], p_cg_50.r[:,2], s=0.5, alpha=0.5)\n",
    "ax.set_xticks(np.arange(-900, 901, 300))\n",
    "ax.set_yticks(np.arange(-900, 901, 300))\n",
    "ax.set_zticks(np.arange(-900, 901, 300))\n",
    "plt.show()"
   ]
  },
  {
   "cell_type": "markdown",
   "metadata": {},
   "source": [
    "### Second Level of Refinement"
   ]
  },
  {
   "cell_type": "code",
   "execution_count": null,
   "metadata": {},
   "outputs": [],
   "source": [
    "n_bind_eq = 100000\n",
    "p_cg_25, udf_cg_25 = rd.refine_chromatin(\n",
    "    polymer_cg = p_cg_50,\n",
    "    num_beads_refined = num_beads_1_25,\n",
    "    bead_spacing = bead_spacing_1_25,\n",
    "    chemical_mods = chemical_mods_1_25,\n",
    "    udf_cg = udf_cg_50,\n",
    "    binding_equilibration = n_bind_eq,\n",
    "    name_refine = \"Chr_CG_25\",\n",
    "    output_dir = \"output\"\n",
    ")"
   ]
  },
  {
   "cell_type": "code",
   "execution_count": null,
   "metadata": {},
   "outputs": [],
   "source": [
    "fig = plt.figure()\n",
    "ax = fig.add_subplot(projection='3d')\n",
    "ax.scatter(p_cg_25.r[:,0], p_cg_25.r[:,1], p_cg_25.r[:,2], s=0.5, alpha=0.5)\n",
    "ax.set_xticks(np.arange(-900, 901, 300))\n",
    "ax.set_yticks(np.arange(-900, 901, 300))\n",
    "ax.set_zticks(np.arange(-900, 901, 300))\n",
    "plt.show()"
   ]
  },
  {
   "cell_type": "code",
   "execution_count": null,
   "metadata": {},
   "outputs": [],
   "source": [
    "amp_bead_bounds, amp_move_bounds = mc.get_amplitude_bounds([p_cg_25])\n",
    "num_snapshots = 200\n",
    "mc_steps_per_snapshot = 5000\n",
    "\n",
    "# Create a list of mu schedules, which are defined in another file\n",
    "schedules = [func[0] for func in getmembers(ms, isfunction)]\n",
    "select_schedule = \"linear_step_for_negative_cp_mild\"\n",
    "mu_schedules = [\n",
    "    ms.Schedule(getattr(ms, func_name)) for func_name in schedules\n",
    "]\n",
    "mu_schedules = [sch for sch in mu_schedules if sch.name == select_schedule]"
   ]
  },
  {
   "cell_type": "code",
   "execution_count": null,
   "metadata": {},
   "outputs": [],
   "source": [
    "polymers_cg = mc.polymer_in_field(\n",
    "    [p_cg_25],\n",
    "    binders_cg_25,\n",
    "    udf_cg_25,\n",
    "    mc_steps_per_snapshot,\n",
    "    num_snapshots,\n",
    "    amp_bead_bounds,\n",
    "    amp_move_bounds,\n",
    "    output_dir='output',\n",
    "    mu_schedule=mu_schedules[0],\n",
    "    random_seed=np.random.randint(0, 1E5)\n",
    ")"
   ]
  },
  {
   "cell_type": "code",
   "execution_count": null,
   "metadata": {},
   "outputs": [],
   "source": [
    "p_cg_25 = polymers_cg[0]"
   ]
  },
  {
   "cell_type": "code",
   "execution_count": null,
   "metadata": {},
   "outputs": [],
   "source": [
    "fig = plt.figure()\n",
    "ax = fig.add_subplot(projection='3d')\n",
    "ax.scatter(p_cg_25.r[:,0], p_cg_25.r[:,1], p_cg_25.r[:,2], s=0.5, alpha=0.5)\n",
    "ax.set_xticks(np.arange(-900, 901, 300))\n",
    "ax.set_yticks(np.arange(-900, 901, 300))\n",
    "ax.set_zticks(np.arange(-900, 901, 300))\n",
    "plt.show()"
   ]
  },
  {
   "cell_type": "markdown",
   "metadata": {},
   "source": [
    "### Third Level of Refinement"
   ]
  },
  {
   "cell_type": "code",
   "execution_count": null,
   "metadata": {},
   "outputs": [],
   "source": [
    "n_bind_eq = 100000\n",
    "p_cg_5, udf_cg_5 = rd.refine_chromatin(\n",
    "    polymer_cg = p_cg_25,\n",
    "    num_beads_refined = num_beads_1_5,\n",
    "    bead_spacing = bead_spacing_1_5,\n",
    "    chemical_mods = chemical_mods_1_5,\n",
    "    udf_cg = udf_cg_25,\n",
    "    binding_equilibration = n_bind_eq,\n",
    "    name_refine = \"Chr_CG_5\",\n",
    "    output_dir = \"output\"\n",
    ")"
   ]
  },
  {
   "cell_type": "code",
   "execution_count": null,
   "metadata": {},
   "outputs": [],
   "source": [
    "fig = plt.figure()\n",
    "ax = fig.add_subplot(projection='3d')\n",
    "ax.scatter(p_cg_5.r[:,0], p_cg_5.r[:,1], p_cg_5.r[:,2], s=0.5, alpha=0.5)\n",
    "ax.set_xticks(np.arange(-900, 901, 300))\n",
    "ax.set_yticks(np.arange(-900, 901, 300))\n",
    "ax.set_zticks(np.arange(-900, 901, 300))\n",
    "plt.show()"
   ]
  },
  {
   "cell_type": "code",
   "execution_count": null,
   "metadata": {},
   "outputs": [],
   "source": [
    "amp_bead_bounds, amp_move_bounds = mc.get_amplitude_bounds([p_cg_5])\n",
    "num_snapshots = 200\n",
    "mc_steps_per_snapshot = 5000\n",
    "\n",
    "# Create a list of mu schedules, which are defined in another file\n",
    "schedules = [func[0] for func in getmembers(ms, isfunction)]\n",
    "select_schedule = \"linear_step_for_negative_cp_mild\"\n",
    "mu_schedules = [\n",
    "    ms.Schedule(getattr(ms, func_name)) for func_name in schedules\n",
    "]\n",
    "mu_schedules = [sch for sch in mu_schedules if sch.name == select_schedule]"
   ]
  },
  {
   "cell_type": "code",
   "execution_count": null,
   "metadata": {},
   "outputs": [],
   "source": [
    "polymers_cg = mc.polymer_in_field(\n",
    "    [p_cg_5],\n",
    "    binders_cg_5,\n",
    "    udf_cg_5,\n",
    "    mc_steps_per_snapshot,\n",
    "    num_snapshots,\n",
    "    amp_bead_bounds,\n",
    "    amp_move_bounds,\n",
    "    output_dir='output',\n",
    "    mu_schedule=mu_schedules[0],\n",
    "    random_seed=np.random.randint(0, 1E5)\n",
    ")"
   ]
  },
  {
   "cell_type": "code",
   "execution_count": null,
   "metadata": {},
   "outputs": [],
   "source": [
    "p_cg_5 = polymers_cg[0]"
   ]
  },
  {
   "cell_type": "code",
   "execution_count": null,
   "metadata": {},
   "outputs": [],
   "source": [
    "fig = plt.figure()\n",
    "ax = fig.add_subplot(projection='3d')\n",
    "ax.scatter(p_cg_5.r[:,0], p_cg_5.r[:,1], p_cg_5.r[:,2], s=0.5, alpha=0.5)\n",
    "ax.set_xticks(np.arange(-900, 901, 300))\n",
    "ax.set_yticks(np.arange(-900, 901, 300))\n",
    "ax.set_zticks(np.arange(-900, 901, 300))\n",
    "plt.show()"
   ]
  },
  {
   "cell_type": "markdown",
   "metadata": {},
   "source": [
    "### Refine the Coarse-Grained Polymer"
   ]
  },
  {
   "cell_type": "code",
   "execution_count": null,
   "metadata": {},
   "outputs": [],
   "source": [
    "n_bind_eq = 1000000\n",
    "p_refine, udf_refine = rd.refine_chromatin(\n",
    "    polymer_cg = p_cg_5,\n",
    "    num_beads_refined = num_beads,\n",
    "    bead_spacing = bead_spacing,\n",
    "    chemical_mods = chemical_mods,\n",
    "    udf_cg = udf_cg_5,\n",
    "    binding_equilibration = n_bind_eq,\n",
    "    name_refine = \"Chr_refine\",\n",
    "    output_dir = \"output\"\n",
    ")"
   ]
  },
  {
   "cell_type": "code",
   "execution_count": null,
   "metadata": {},
   "outputs": [],
   "source": [
    "fig = plt.figure()\n",
    "ax = fig.add_subplot(projection='3d')\n",
    "ax.scatter(p_refine.r[:,0], p_refine.r[:,1], p_refine.r[:,2], s=0.5, alpha=0.5)\n",
    "ax.set_xticks(np.arange(-900, 901, 300))\n",
    "ax.set_yticks(np.arange(-900, 901, 300))\n",
    "ax.set_zticks(np.arange(-900, 901, 300))\n",
    "plt.show()"
   ]
  },
  {
   "cell_type": "markdown",
   "metadata": {},
   "source": [
    "### Equilibrate the Refined Polymer"
   ]
  },
  {
   "cell_type": "code",
   "execution_count": null,
   "metadata": {},
   "outputs": [],
   "source": [
    "amp_bead_bounds, amp_move_bounds = mc.get_amplitude_bounds([p_refine])\n",
    "num_snapshots = 200\n",
    "mc_steps_per_snapshot = 20000\n",
    "\n",
    "# Create a list of mu schedules, which are defined in another file\n",
    "schedules = [func[0] for func in getmembers(ms, isfunction)]\n",
    "select_schedule = \"linear_step_for_negative_cp_mild\"\n",
    "mu_schedules = [\n",
    "    ms.Schedule(getattr(ms, func_name)) for func_name in schedules\n",
    "]\n",
    "mu_schedules = [sch for sch in mu_schedules if sch.name == select_schedule]"
   ]
  },
  {
   "cell_type": "code",
   "execution_count": null,
   "metadata": {},
   "outputs": [],
   "source": [
    "polymers_refined = mc.polymer_in_field(\n",
    "    [p_refine],\n",
    "    binders,\n",
    "    udf,\n",
    "    mc_steps_per_snapshot,\n",
    "    num_snapshots,\n",
    "    amp_bead_bounds,\n",
    "    amp_move_bounds,\n",
    "    output_dir='output',\n",
    "    mu_schedule=mu_schedules[0],\n",
    "    random_seed=np.random.randint(0, 1E5)\n",
    ")"
   ]
  },
  {
   "cell_type": "code",
   "execution_count": null,
   "metadata": {},
   "outputs": [],
   "source": [
    "p_refine = polymers_refined[0]"
   ]
  },
  {
   "cell_type": "code",
   "execution_count": null,
   "metadata": {},
   "outputs": [],
   "source": [
    "fig = plt.figure()\n",
    "ax = fig.add_subplot(projection='3d')\n",
    "ax.scatter(p_refine.r[:,0], p_refine.r[:,1], p_refine.r[:,2], s=0.5, alpha=0.5)\n",
    "ax.set_xticks(np.arange(-900, 901, 300))\n",
    "ax.set_yticks(np.arange(-900, 901, 300))\n",
    "ax.set_zticks(np.arange(-900, 901, 300))\n",
    "plt.show()"
   ]
  },
  {
   "cell_type": "code",
   "execution_count": null,
   "metadata": {},
   "outputs": [],
   "source": []
  }
 ],
 "metadata": {
  "kernelspec": {
   "display_name": "Python 3",
   "language": "python",
   "name": "python3"
  },
  "language_info": {
   "codemirror_mode": {
    "name": "ipython",
    "version": 3
   },
   "file_extension": ".py",
   "mimetype": "text/x-python",
   "name": "python",
   "nbconvert_exporter": "python",
   "pygments_lexer": "ipython3",
   "version": "3.7.6"
  }
 },
 "nbformat": 4,
 "nbformat_minor": 4
}
