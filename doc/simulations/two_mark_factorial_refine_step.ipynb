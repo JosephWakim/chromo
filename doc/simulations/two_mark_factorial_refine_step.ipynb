{
 "cells": [
  {
   "cell_type": "markdown",
   "id": "a73efef6",
   "metadata": {},
   "source": [
    "### Import Modules"
   ]
  },
  {
   "cell_type": "code",
   "execution_count": null,
   "id": "fc78f65e",
   "metadata": {},
   "outputs": [],
   "source": [
    "import os\n",
    "import sys\n",
    "from inspect import getmembers, isfunction\n",
    "import json\n",
    "\n",
    "import numpy as np\n",
    "import pandas as pd\n",
    "import matplotlib.pyplot as plt\n",
    "\n",
    "cwd = os.getcwd()\n",
    "parent_dir = cwd + \"/../..\"\n",
    "sys.path.insert(1, parent_dir)\n",
    "os.chdir(parent_dir)\n",
    "\n",
    "print(\"Root Directory: \")\n",
    "print(os.getcwd())\n",
    "\n",
    "import chromo.mc as mc\n",
    "from chromo.polymers import Chromatin\n",
    "import chromo.binders\n",
    "from chromo.fields import UniformDensityField\n",
    "import chromo.mc.mc_controller as ctrl\n",
    "from chromo.util.reproducibility import get_unique_subfolder_name\n",
    "from chromo.util.poly_paths import gaussian_walk\n",
    "import chromo.util.rediscretize as rd\n",
    "import doc.tools.mu_schedules as ms"
   ]
  },
  {
   "cell_type": "markdown",
   "id": "624df405",
   "metadata": {},
   "source": [
    "### Specify Simulation\n",
    "\n",
    "Make adjustments to this code block."
   ]
  },
  {
   "cell_type": "code",
   "execution_count": null,
   "id": "e7d2118b",
   "metadata": {},
   "outputs": [],
   "source": [
    "sim_id = 1\n",
    "polymer_prefix = \"Chr\"\n",
    "output_dir = f\"/scratch/users/jwakim/chromo_two_mark_phase_transition/output/sim_{sim_id}\"\n",
    "binder_path = f\"{output_dir}/binders\"\n",
    "udf_path = f\"{output_dir}/UniformDensityField\"\n",
    "\n",
    "confine_type = \"Spherical\"\n",
    "confine_length = 900\n",
    "\n",
    "num_beads = 393216\n",
    "bead_spacing = 16.5\n",
    "\n",
    "num_snapshots = 200\n",
    "mc_steps_per_snapshot = 5000"
   ]
  },
  {
   "cell_type": "markdown",
   "id": "395ce41d",
   "metadata": {},
   "source": [
    "### Load Chemical Modifications"
   ]
  },
  {
   "cell_type": "code",
   "execution_count": null,
   "id": "a32165e2",
   "metadata": {},
   "outputs": [],
   "source": [
    "chem_mods_path = np.array([\n",
    "    \"chromo/chemical_mods/HNCFF683HCZ_H3K9me3_methyl.txt\",\n",
    "    \"chromo/chemical_mods/ENCFF919DOR_H3K27me3_methyl.txt\"\n",
    "])\n",
    "chemical_mods = Chromatin.load_seqs(chem_mods_path)[:num_beads]"
   ]
  },
  {
   "cell_type": "markdown",
   "id": "08a86a2d",
   "metadata": {},
   "source": [
    "### Get Latest Simulation Output"
   ]
  },
  {
   "cell_type": "code",
   "execution_count": null,
   "id": "867311bf",
   "metadata": {},
   "outputs": [],
   "source": [
    "files = os.listdir(output_dir)\n",
    "files = [file for file in files if file.endswith(\".csv\") and file.startswith(polymer_prefix)]\n",
    "snaps = [int(file.split(\".\")[0].split(\"-\")[-1]) for file in files]\n",
    "files = [file for _, file in sorted(zip(snaps, files))]\n",
    "latest_snap = files[-1]\n",
    "latest_snap_path = f\"{output_dir}/{latest_snap}\""
   ]
  },
  {
   "cell_type": "markdown",
   "id": "d4b8822a",
   "metadata": {},
   "source": [
    "### Initialize Binders"
   ]
  },
  {
   "cell_type": "code",
   "execution_count": null,
   "id": "2e445c35",
   "metadata": {},
   "outputs": [],
   "source": [
    "hp1 = chromo.binders.get_by_name(\"HP1\")\n",
    "prc1 = chromo.binders.get_by_name(\"PRC1\")\n",
    "binders_list = [hp1, prc1]"
   ]
  },
  {
   "cell_type": "markdown",
   "id": "efbaf4c3",
   "metadata": {},
   "source": [
    "### Load Binder Parameters"
   ]
  },
  {
   "cell_type": "code",
   "execution_count": null,
   "id": "03f3584b",
   "metadata": {},
   "outputs": [],
   "source": [
    "df_binders = pd.read_csv(binder_path, index_col=\"name\")\n",
    "cp_HP1 = df_binders.loc[\"HP1\", \"chemical_potential\"]\n",
    "cp_PRC1 = df_binders.loc[\"PRC1\", \"chemical_potential\"]\n",
    "self_interact_HP1 = df_binders.loc[\"HP1\", \"interaction_energy\"]\n",
    "self_interact_PRC1 = df_binders.loc[\"PRC1\", \"interaction_energy\"]\n",
    "cross_interact = json.loads(\n",
    "    df_binders.loc[\"HP1\", \"cross_talk_interaction_energy\"].replace(\"'\", \"\\\"\")\n",
    ")[\"PRC1\"]\n",
    "binders_list[0].chemical_potential = float(cp_HP1)\n",
    "binders_list[1].chemical_potential = float(cp_PRC1)\n",
    "binders_list[0].interaction_energy = float(self_interact_HP1)\n",
    "binders_list[1].interaction_energy = float(self_interact_PRC1)\n",
    "binders_list[0].cross_talk_interaction_energy[\"PRC1\"] = float(cross_interact)\n",
    "binders = chromo.binders.make_binder_collection(binders_list)"
   ]
  },
  {
   "cell_type": "markdown",
   "id": "49add136",
   "metadata": {},
   "source": [
    "### Load Coarse-Grained Polymer Configuration"
   ]
  },
  {
   "cell_type": "code",
   "execution_count": null,
   "id": "fe131e48",
   "metadata": {},
   "outputs": [],
   "source": [
    "p_cg = Chromatin.from_file(latest_snap_path, name=\"Chr_CG\")"
   ]
  },
  {
   "cell_type": "markdown",
   "id": "ed2777d6",
   "metadata": {},
   "source": [
    "### Load Coarse-Grained Field"
   ]
  },
  {
   "cell_type": "code",
   "execution_count": null,
   "id": "db322e6e",
   "metadata": {},
   "outputs": [],
   "source": [
    "field_params = pd.read_csv(udf_path, header=None, names=[\"Attribute\", \"Value\"], index_col=0)\n",
    "x_width = float(field_params.loc[\"x_width\", \"Value\"])\n",
    "y_width = float(field_params.loc[\"y_width\", \"Value\"])\n",
    "z_width = float(field_params.loc[\"z_width\", \"Value\"])\n",
    "nx = int(field_params.loc[\"nx\", \"Value\"])\n",
    "ny = int(field_params.loc[\"ny\", \"Value\"])\n",
    "nz = int(field_params.loc[\"nz\", \"Value\"])\n",
    "confine_type_cg = field_params.loc[\"confine_type\", \"Value\"]\n",
    "confine_length_cg = float(field_params.loc[\"confine_length\", \"Value\"])\n",
    "chi = float(field_params.loc[\"chi\", \"Value\"])\n",
    "assume_fully_accessible = (field_params.loc[\"assume_fully_accessible\", \"Value\"] == \"True\")\n",
    "fast_field = int(field_params.loc[\"fast_field\", \"Value\"] == \"True\")"
   ]
  },
  {
   "cell_type": "code",
   "execution_count": null,
   "id": "a0d8d189",
   "metadata": {},
   "outputs": [],
   "source": [
    "udf_cg = UniformDensityField(\n",
    "    [p_cg], binders, x_width, nx, y_width, ny, z_width, nz,\n",
    "    confine_type=confine_type_cg, confine_length=confine_length_cg,\n",
    "    chi=chi, assume_fully_accessible=assume_fully_accessible,\n",
    "    fast_field=fast_field\n",
    ")"
   ]
  },
  {
   "cell_type": "markdown",
   "id": "39479e59",
   "metadata": {},
   "source": [
    "### Refine Polymer"
   ]
  },
  {
   "cell_type": "code",
   "execution_count": null,
   "id": "1cc91fab",
   "metadata": {},
   "outputs": [],
   "source": [
    "n_bind_eq = 1000000\n",
    "p_refine, udf_refine = rd.refine_chromatin(\n",
    "    polymer_cg=p_cg,\n",
    "    num_beads_refined=num_beads,\n",
    "    bead_spacing=bead_spacing,\n",
    "    chemical_mods=chemical_mods,\n",
    "    udf_cg=udf_cg,\n",
    "    binding_equilibration=n_bind_eq,\n",
    "    name_refine=\"Chr_refine\",\n",
    "    output_dir=\"output\"\n",
    ")"
   ]
  },
  {
   "cell_type": "markdown",
   "id": "62fc1437",
   "metadata": {},
   "source": [
    "### Run the simulation"
   ]
  },
  {
   "cell_type": "code",
   "execution_count": null,
   "id": "75e5200f",
   "metadata": {},
   "outputs": [],
   "source": [
    "amp_bead_bounds, amp_move_bounds = mc.get_amplitude_bounds([p_refine])"
   ]
  },
  {
   "cell_type": "code",
   "execution_count": null,
   "id": "3c462ba4",
   "metadata": {},
   "outputs": [],
   "source": [
    "schedules = [func[0] for func in getmembers(ms, isfunction)]\n",
    "select_schedule = \"linear_step_for_negative_cp_mild\"\n",
    "mu_schedules = [\n",
    "    ms.Schedule(getattr(ms, func_name)) for func_name in schedules\n",
    "]\n",
    "mu_schedules = [sch for sch in mu_schedules if sch.name == select_schedule]"
   ]
  },
  {
   "cell_type": "code",
   "execution_count": null,
   "id": "0edc1d43",
   "metadata": {},
   "outputs": [],
   "source": [
    "polymers_refined = mc.polymer_in_field(\n",
    "    [p_refine],\n",
    "    binders,\n",
    "    udf_refine,\n",
    "    mc_steps_per_snapshot,\n",
    "    num_snapshots,\n",
    "    amp_bead_bounds,\n",
    "    amp_move_bounds,\n",
    "    output_dir='output',\n",
    "    mu_schedule=mu_schedules[0],\n",
    "    random_seed=np.random.randint(0, 1E5)\n",
    ")"
   ]
  }
 ],
 "metadata": {
  "kernelspec": {
   "display_name": "base",
   "language": "python",
   "name": "base"
  },
  "language_info": {
   "codemirror_mode": {
    "name": "ipython",
    "version": 3
   },
   "file_extension": ".py",
   "mimetype": "text/x-python",
   "name": "python",
   "nbconvert_exporter": "python",
   "pygments_lexer": "ipython3",
   "version": "3.9.12"
  }
 },
 "nbformat": 4,
 "nbformat_minor": 5
}
