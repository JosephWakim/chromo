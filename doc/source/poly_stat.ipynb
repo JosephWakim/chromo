{
 "metadata": {
  "language_info": {
   "codemirror_mode": {
    "name": "ipython",
    "version": 3
   },
   "file_extension": ".py",
   "mimetype": "text/x-python",
   "name": "python",
   "nbconvert_exporter": "python",
   "pygments_lexer": "ipython3",
   "version": "3.7.3"
  },
  "orig_nbformat": 2,
  "kernelspec": {
   "name": "python373jvsc74a57bd0865d95156a1b6238df17bd0086e5ad34b316e96e7d0b64c77c6e81d7f7a36cb5",
   "display_name": "Python 3.7.3 64-bit ('base': conda)"
  }
 },
 "nbformat": 4,
 "nbformat_minor": 2,
 "cells": [
  {
   "source": [
    "# Generate Polymer Statistics\n",
    "\n",
    "Load polymer configurations from simulation output directory and calculate basic polymer statistics from configurations."
   ],
   "cell_type": "markdown",
   "metadata": {}
  },
  {
   "source": [
    "## Import directories"
   ],
   "cell_type": "markdown",
   "metadata": {}
  },
  {
   "cell_type": "code",
   "execution_count": null,
   "metadata": {},
   "outputs": [],
   "source": [
    "import importlib\n",
    "import os\n",
    "import sys\n",
    "from io import StringIO\n",
    "\n",
    "import numpy as np\n",
    "import pandas as pd\n",
    "\n",
    "cwd = os.getcwd()\n",
    "sys.path[8] = sys.path[0]\n",
    "os.chdir(\"../..\")\n",
    "print(\"Current Working Directory: \")\n",
    "print(os.getcwd())\n",
    "sys.path.append(os.getcwd())\n"
   ]
  },
  {
   "source": [
    "## Load local modules"
   ],
   "cell_type": "markdown",
   "metadata": {}
  },
  {
   "cell_type": "code",
   "execution_count": null,
   "metadata": {},
   "outputs": [],
   "source": [
    "import chromo.util.poly_stat as ps"
   ]
  },
  {
   "source": [
    "## List configuration files"
   ],
   "cell_type": "markdown",
   "metadata": {}
  },
  {
   "cell_type": "code",
   "execution_count": null,
   "metadata": {
    "tags": []
   },
   "outputs": [],
   "source": [
    "# Specify the simulation ID on which to run the analysis\n",
    "sim_ID = 56\n",
    "\n",
    "# Open the output directory\n",
    "os.chdir(cwd + \"/../../\")\n",
    "output_dir = os.getcwd() + \"/output/sim_\" + str(sim_ID)\n",
    "\n",
    "# Generate a list of CSV configuration files in the output directory\n",
    "output_files = os.listdir(output_dir)\n",
    "output_files = [f for f in output_files if f.endswith(\".csv\")]\n",
    "output_files = [f for f in output_files if len(f.split(\"_\")) == 1]\n",
    "\n",
    "# Sort the CSV configuration files by snapshot number\n",
    "snapshot = [int(f.split(\"-\")[-1].split(\".\")[0]) for f in output_files]\n",
    "output_files = [f for _, f in sorted(zip(snapshot, output_files))]"
   ]
  },
  {
   "source": [
    "## Calculate end-to-end distances"
   ],
   "cell_type": "markdown",
   "metadata": {}
  },
  {
   "cell_type": "code",
   "execution_count": null,
   "metadata": {
    "tags": []
   },
   "outputs": [],
   "source": [
    "os.chdir(cwd + \"/../../chromo/util\")\n",
    "\n",
    "r2 = []\n",
    "for i, f in enumerate(output_files):\n",
    "    if (i+1) % 10 == 0:\n",
    "        print(\"Snapshot: \" + str(i+1) + \" of \" + str(len(output_files)))\n",
    "        print(\"File: \" + f)\n",
    "        print()\n",
    "    \n",
    "    poly_stat = ps.PolyStat(\"output/sim_\" + str(sim_ID) + \"/\" + f)\n",
    "    r2.append(\n",
    "        poly_stat.get_avg_r2(sampling_scheme=\"overlap_slide\", bead_separation=10)\n",
    "    )"
   ]
  },
  {
   "source": [
    "## Visualize polymer statistics"
   ],
   "cell_type": "markdown",
   "metadata": {}
  },
  {
   "cell_type": "code",
   "execution_count": null,
   "metadata": {},
   "outputs": [],
   "source": [
    "import matplotlib.pyplot as plt\n",
    "from mpl_toolkits.mplot3d import Axes3D\n",
    "\n",
    "plt.plot(r2)\n",
    "plt.xlabel(\"Snapshot\")\n",
    "plt.ylabel(\"Mean R2 (10 nucleosomes)\")\n",
    "plt.show()"
   ]
  },
  {
   "source": [
    "## Visualize Polymer Configuration\n",
    "\n",
    "Why do later snapshots of polymer configuration show such large mean squared R2?"
   ],
   "cell_type": "markdown",
   "metadata": {}
  },
  {
   "cell_type": "code",
   "execution_count": null,
   "metadata": {},
   "outputs": [],
   "source": [
    "# Specify path to the final snapshot\n",
    "final_snapshot = output_files[-1]\n",
    "os.chdir(cwd)\n",
    "os.chdir(\"../../output/sim_\" + str(sim_ID))\n",
    "\n",
    "# Load the final snapshot\n",
    "final_snapshot_data = pd.read_csv(final_snapshot, skiprows=1, index_col=0, usecols=[0,1,2,3])\n",
    "final_snapshot_data.head()\n"
   ]
  },
  {
   "cell_type": "code",
   "execution_count": null,
   "metadata": {},
   "outputs": [],
   "source": [
    "x = final_snapshot_data.x.values\n",
    "y = final_snapshot_data.y.values\n",
    "z = final_snapshot_data.z.values"
   ]
  },
  {
   "cell_type": "code",
   "execution_count": null,
   "metadata": {},
   "outputs": [],
   "source": [
    "fig = plt.figure(figsize=(10, 10))\n",
    "ax = plt.axes(projection='3d')\n",
    "ax.scatter3D(x, y, z)\n",
    "ax.set_xlabel('x', fontsize=16)\n",
    "ax.set_ylabel('y', fontsize=16)\n",
    "ax.set_zlabel('z', fontsize=16)\n",
    "plt.show()"
   ]
  },
  {
   "cell_type": "code",
   "execution_count": null,
   "metadata": {},
   "outputs": [],
   "source": []
  }
 ]
}