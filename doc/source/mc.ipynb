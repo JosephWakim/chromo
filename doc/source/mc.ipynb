{
 "cells": [
  {
   "cell_type": "markdown",
   "metadata": {},
   "source": [
    "# How to use MC simulation"
   ]
  },
  {
   "cell_type": "markdown",
   "metadata": {},
   "source": [
    "The main entry point for MC simulation in the current code base is currently found in `chromo.mc.polymer_in_field`. This file shows the basic usage of that function."
   ]
  },
  {
   "cell_type": "markdown",
   "metadata": {},
   "source": [
    "# Import modules"
   ]
  },
  {
   "cell_type": "code",
   "execution_count": 1,
   "metadata": {},
   "outputs": [
    {
     "output_type": "stream",
     "name": "stdout",
     "text": [
      "Current Working Directory: \n/Users/jwakim/Documents/Wakim_Research/Scripts/testing_chromo_16-Mar-2021\n"
     ]
    }
   ],
   "source": [
    "import importlib\n",
    "import os\n",
    "import sys\n",
    "from io import StringIO\n",
    "\n",
    "import numpy as np\n",
    "import pandas as pd\n",
    "\n",
    "cwd = os.getcwd()\n",
    "sys.path[8] = sys.path[0]\n",
    "os.chdir(\"../..\")\n",
    "print(\"Current Working Directory: \")\n",
    "print(os.getcwd())"
   ]
  },
  {
   "cell_type": "code",
   "execution_count": 2,
   "metadata": {},
   "outputs": [],
   "source": [
    "import chromo\n",
    "import chromo.mc as mc\n",
    "from chromo.components import Polymer\n",
    "import chromo.marks\n",
    "from chromo.fields import UniformDensityField"
   ]
  },
  {
   "cell_type": "markdown",
   "metadata": {},
   "source": [
    "# Define the simulation"
   ]
  },
  {
   "cell_type": "markdown",
   "metadata": {},
   "source": [
    "Begin by defining the components involved in the simulation.\n",
    "This includes specifying the list of epigenetic marks (with attributes),\n",
    "the list of polymers, and the field. Then run the Monte Carlo for the specified number of steps and save points, and save the output configurations. "
   ]
  },
  {
   "cell_type": "markdown",
   "metadata": {},
   "source": [
    "First specify what epigenetic marks should be used."
   ]
  },
  {
   "cell_type": "code",
   "execution_count": 3,
   "metadata": {},
   "outputs": [],
   "source": [
    "epimarks = [chromo.marks.get_by_name('HP1')]\n",
    "#or just e.g. epimarks = [chromo.marks.hp1]\n",
    "# making it a list is optional since there's only one element"
   ]
  },
  {
   "cell_type": "code",
   "execution_count": 4,
   "metadata": {},
   "outputs": [
    {
     "output_type": "execute_result",
     "data": {
      "text/plain": [
       "[Epigenmark(name='HP1', bind_energy=1, interaction_energy=1, chemical_potential=1)]"
      ]
     },
     "metadata": {},
     "execution_count": 4
    }
   ],
   "source": [
    "epimarks"
   ]
  },
  {
   "cell_type": "markdown",
   "metadata": {},
   "source": [
    "They are expected in a DataFrame format."
   ]
  },
  {
   "cell_type": "code",
   "execution_count": 5,
   "metadata": {},
   "outputs": [
    {
     "output_type": "execute_result",
     "data": {
      "text/plain": [
       "  name bind_energy interaction_energy chemical_potential\n",
       "0  HP1           1                  1                  1"
      ],
      "text/html": "<div>\n<style scoped>\n    .dataframe tbody tr th:only-of-type {\n        vertical-align: middle;\n    }\n\n    .dataframe tbody tr th {\n        vertical-align: top;\n    }\n\n    .dataframe thead th {\n        text-align: right;\n    }\n</style>\n<table border=\"1\" class=\"dataframe\">\n  <thead>\n    <tr style=\"text-align: right;\">\n      <th></th>\n      <th>name</th>\n      <th>bind_energy</th>\n      <th>interaction_energy</th>\n      <th>chemical_potential</th>\n    </tr>\n  </thead>\n  <tbody>\n    <tr>\n      <th>0</th>\n      <td>HP1</td>\n      <td>1</td>\n      <td>1</td>\n      <td>1</td>\n    </tr>\n  </tbody>\n</table>\n</div>"
     },
     "metadata": {},
     "execution_count": 5
    }
   ],
   "source": [
    "marks = chromo.marks.make_mark_collection(epimarks)\n",
    "marks.head()"
   ]
  },
  {
   "cell_type": "markdown",
   "metadata": {},
   "source": [
    "Now specify the initial state of the polymer(s). We will use just one here."
   ]
  },
  {
   "cell_type": "code",
   "execution_count": 6,
   "metadata": {},
   "outputs": [],
   "source": [
    "p = Polymer.straight_line_in_x('Chr-1', 10000, 0.2, states=np.zeros((10000,)), mark_names=['HP1'])"
   ]
  },
  {
   "cell_type": "markdown",
   "metadata": {},
   "source": [
    "Finally create a field object to contain the polymers."
   ]
  },
  {
   "cell_type": "code",
   "execution_count": 7,
   "metadata": {
    "scrolled": false
   },
   "outputs": [],
   "source": [
    "udf = UniformDensityField([p], marks, 20, 20, 20, 20, 20, 20)"
   ]
  },
  {
   "cell_type": "markdown",
   "metadata": {},
   "source": [
    "As per the docs of `chromo.util.reproducibility.make_reproducible`, check the `simulations.csv` file in the requested output folder (i.e. `{current working directory of this Notebook}/{output_dir}`) to see information about all simulations that have been run so far.\n",
    "\n",
    "All inputs are saved in the output folder as well, for exact reproducibility."
   ]
  },
  {
   "cell_type": "markdown",
   "metadata": {},
   "source": [
    "# Run the simulation"
   ]
  },
  {
   "cell_type": "code",
   "execution_count": 8,
   "metadata": {
    "scrolled": false,
    "tags": [
     "outputPrepend"
    ]
   },
   "outputs": [
    {
     "output_type": "stream",
     "name": "stderr",
     "text": [
      "ct at 0x114195eb8>, <chromo.mc.moves.MCAdapter object at 0x11537c978>]\n",
      "[<chromo.mc.moves.MCAdapter object at 0x113e97f28>, <chromo.mc.moves.MCAdapter object at 0x113e97f98>, <chromo.mc.moves.MCAdapter object at 0x114195eb8>, <chromo.mc.moves.MCAdapter object at 0x11537c978>]\n",
      "[<chromo.mc.moves.MCAdapter object at 0x113e97f28>, <chromo.mc.moves.MCAdapter object at 0x113e97f98>, <chromo.mc.moves.MCAdapter object at 0x114195eb8>, <chromo.mc.moves.MCAdapter object at 0x11537c978>]\n",
      "[<chromo.mc.moves.MCAdapter object at 0x113e97f28>, <chromo.mc.moves.MCAdapter object at 0x113e97f98>, <chromo.mc.moves.MCAdapter object at 0x114195eb8>, <chromo.mc.moves.MCAdapter object at 0x11537c978>]\n",
      "[<chromo.mc.moves.MCAdapter object at 0x113e97f28>, <chromo.mc.moves.MCAdapter object at 0x113e97f98>, <chromo.mc.moves.MCAdapter object at 0x114195eb8>, <chromo.mc.moves.MCAdapter object at 0x11537c978>]\n",
      "[<chromo.mc.moves.MCAdapter object at 0x113e97f28>, <chromo.mc.moves.MCAdapter object at 0x113e97f98>, <chromo.mc.moves.MCAdapter object at 0x114195eb8>, <chromo.mc.moves.MCAdapter object at 0x11537c978>]\n",
      "[<chromo.mc.moves.MCAdapter object at 0x113e97f28>, <chromo.mc.moves.MCAdapter object at 0x113e97f98>, <chromo.mc.moves.MCAdapter object at 0x114195eb8>, <chromo.mc.moves.MCAdapter object at 0x11537c978>]\n",
      "[<chromo.mc.moves.MCAdapter object at 0x113e97f28>, <chromo.mc.moves.MCAdapter object at 0x113e97f98>, <chromo.mc.moves.MCAdapter object at 0x114195eb8>, <chromo.mc.moves.MCAdapter object at 0x11537c978>]\n",
      "[<chromo.mc.moves.MCAdapter object at 0x113e97f28>, <chromo.mc.moves.MCAdapter object at 0x113e97f98>, <chromo.mc.moves.MCAdapter object at 0x114195eb8>, <chromo.mc.moves.MCAdapter object at 0x11537c978>]\n",
      "[<chromo.mc.moves.MCAdapter object at 0x113e97f28>, <chromo.mc.moves.MCAdapter object at 0x113e97f98>, <chromo.mc.moves.MCAdapter object at 0x114195eb8>, <chromo.mc.moves.MCAdapter object at 0x11537c978>]\n",
      "[<chromo.mc.moves.MCAdapter object at 0x113e97f28>, <chromo.mc.moves.MCAdapter object at 0x113e97f98>, <chromo.mc.moves.MCAdapter object at 0x114195eb8>, <chromo.mc.moves.MCAdapter object at 0x11537c978>]\n",
      "[<chromo.mc.moves.MCAdapter object at 0x113e97f28>, <chromo.mc.moves.MCAdapter object at 0x113e97f98>, <chromo.mc.moves.MCAdapter object at 0x114195eb8>, <chromo.mc.moves.MCAdapter object at 0x11537c978>]\n",
      "[<chromo.mc.moves.MCAdapter object at 0x113e97f28>, <chromo.mc.moves.MCAdapter object at 0x113e97f98>, <chromo.mc.moves.MCAdapter object at 0x114195eb8>, <chromo.mc.moves.MCAdapter object at 0x11537c978>]\n",
      "[<chromo.mc.moves.MCAdapter object at 0x113e97f28>, <chromo.mc.moves.MCAdapter object at 0x113e97f98>, <chromo.mc.moves.MCAdapter object at 0x114195eb8>, <chromo.mc.moves.MCAdapter object at 0x11537c978>]\n",
      "[<chromo.mc.moves.MCAdapter object at 0x113e97f28>, <chromo.mc.moves.MCAdapter object at 0x113e97f98>, <chromo.mc.moves.MCAdapter object at 0x114195eb8>, <chromo.mc.moves.MCAdapter object at 0x11537c978>]\n",
      "[<chromo.mc.moves.MCAdapter object at 0x113e97f28>, <chromo.mc.moves.MCAdapter object at 0x113e97f98>, <chromo.mc.moves.MCAdapter object at 0x114195eb8>, <chromo.mc.moves.MCAdapter object at 0x11537c978>]\n",
      "[<chromo.mc.moves.MCAdapter object at 0x113e97f28>, <chromo.mc.moves.MCAdapter object at 0x113e97f98>, <chromo.mc.moves.MCAdapter object at 0x114195eb8>, <chromo.mc.moves.MCAdapter object at 0x11537c978>]\n",
      "[<chromo.mc.moves.MCAdapter object at 0x113e97f28>, <chromo.mc.moves.MCAdapter object at 0x113e97f98>, <chromo.mc.moves.MCAdapter object at 0x114195eb8>, <chromo.mc.moves.MCAdapter object at 0x11537c978>]\n",
      "[<chromo.mc.moves.MCAdapter object at 0x113e97f28>, <chromo.mc.moves.MCAdapter object at 0x113e97f98>, <chromo.mc.moves.MCAdapter object at 0x114195eb8>, <chromo.mc.moves.MCAdapter object at 0x11537c978>]\n",
      "[<chromo.mc.moves.MCAdapter object at 0x113e97f28>, <chromo.mc.moves.MCAdapter object at 0x113e97f98>, <chromo.mc.moves.MCAdapter object at 0x114195eb8>, <chromo.mc.moves.MCAdapter object at 0x11537c978>]\n",
      "[<chromo.mc.moves.MCAdapter object at 0x113e97f28>, <chromo.mc.moves.MCAdapter object at 0x113e97f98>, <chromo.mc.moves.MCAdapter object at 0x114195eb8>, <chromo.mc.moves.MCAdapter object at 0x11537c978>]\n",
      "[<chromo.mc.moves.MCAdapter object at 0x113e97f28>, <chromo.mc.moves.MCAdapter object at 0x113e97f98>, <chromo.mc.moves.MCAdapter object at 0x114195eb8>, <chromo.mc.moves.MCAdapter object at 0x11537c978>]\n",
      "[<chromo.mc.moves.MCAdapter object at 0x113e97f28>, <chromo.mc.moves.MCAdapter object at 0x113e97f98>, <chromo.mc.moves.MCAdapter object at 0x114195eb8>, <chromo.mc.moves.MCAdapter object at 0x11537c978>]\n",
      "[<chromo.mc.moves.MCAdapter object at 0x113e97f28>, <chromo.mc.moves.MCAdapter object at 0x113e97f98>, <chromo.mc.moves.MCAdapter object at 0x114195eb8>, <chromo.mc.moves.MCAdapter object at 0x11537c978>]\n",
      "[<chromo.mc.moves.MCAdapter object at 0x113e97f28>, <chromo.mc.moves.MCAdapter object at 0x113e97f98>, <chromo.mc.moves.MCAdapter object at 0x114195eb8>, <chromo.mc.moves.MCAdapter object at 0x11537c978>]\n",
      "[<chromo.mc.moves.MCAdapter object at 0x113e97f28>, <chromo.mc.moves.MCAdapter object at 0x113e97f98>, <chromo.mc.moves.MCAdapter object at 0x114195eb8>, <chromo.mc.moves.MCAdapter object at 0x11537c978>]\n",
      "[<chromo.mc.moves.MCAdapter object at 0x113e97f28>, <chromo.mc.moves.MCAdapter object at 0x113e97f98>, <chromo.mc.moves.MCAdapter object at 0x114195eb8>, <chromo.mc.moves.MCAdapter object at 0x11537c978>]\n",
      "[<chromo.mc.moves.MCAdapter object at 0x113e97f28>, <chromo.mc.moves.MCAdapter object at 0x113e97f98>, <chromo.mc.moves.MCAdapter object at 0x114195eb8>, <chromo.mc.moves.MCAdapter object at 0x11537c978>]\n",
      "[<chromo.mc.moves.MCAdapter object at 0x113e97f28>, <chromo.mc.moves.MCAdapter object at 0x113e97f98>, <chromo.mc.moves.MCAdapter object at 0x114195eb8>, <chromo.mc.moves.MCAdapter object at 0x11537c978>]\n",
      "[<chromo.mc.moves.MCAdapter object at 0x113e97f28>, <chromo.mc.moves.MCAdapter object at 0x113e97f98>, <chromo.mc.moves.MCAdapter object at 0x114195eb8>, <chromo.mc.moves.MCAdapter object at 0x11537c978>]\n",
      "[<chromo.mc.moves.MCAdapter object at 0x113e97f28>, <chromo.mc.moves.MCAdapter object at 0x113e97f98>, <chromo.mc.moves.MCAdapter object at 0x114195eb8>, <chromo.mc.moves.MCAdapter object at 0x11537c978>]\n",
      "[<chromo.mc.moves.MCAdapter object at 0x113e97f28>, <chromo.mc.moves.MCAdapter object at 0x113e97f98>, <chromo.mc.moves.MCAdapter object at 0x114195eb8>, <chromo.mc.moves.MCAdapter object at 0x11537c978>]\n",
      "[<chromo.mc.moves.MCAdapter object at 0x113e97f28>, <chromo.mc.moves.MCAdapter object at 0x113e97f98>, <chromo.mc.moves.MCAdapter object at 0x114195eb8>, <chromo.mc.moves.MCAdapter object at 0x11537c978>]\n",
      "[<chromo.mc.moves.MCAdapter object at 0x113e97f28>, <chromo.mc.moves.MCAdapter object at 0x113e97f98>, <chromo.mc.moves.MCAdapter object at 0x114195eb8>, <chromo.mc.moves.MCAdapter object at 0x11537c978>]\n",
      "[<chromo.mc.moves.MCAdapter object at 0x113e97f28>, <chromo.mc.moves.MCAdapter object at 0x113e97f98>, <chromo.mc.moves.MCAdapter object at 0x114195eb8>, <chromo.mc.moves.MCAdapter object at 0x11537c978>]\n",
      "[<chromo.mc.moves.MCAdapter object at 0x113e97f28>, <chromo.mc.moves.MCAdapter object at 0x113e97f98>, <chromo.mc.moves.MCAdapter object at 0x114195eb8>, <chromo.mc.moves.MCAdapter object at 0x11537c978>]\n",
      "[<chromo.mc.moves.MCAdapter object at 0x113e97f28>, <chromo.mc.moves.MCAdapter object at 0x113e97f98>, <chromo.mc.moves.MCAdapter object at 0x114195eb8>, <chromo.mc.moves.MCAdapter object at 0x11537c978>]\n",
      "[<chromo.mc.moves.MCAdapter object at 0x113e97f28>, <chromo.mc.moves.MCAdapter object at 0x113e97f98>, <chromo.mc.moves.MCAdapter object at 0x114195eb8>, <chromo.mc.moves.MCAdapter object at 0x11537c978>]\n",
      "[<chromo.mc.moves.MCAdapter object at 0x113e97f28>, <chromo.mc.moves.MCAdapter object at 0x113e97f98>, <chromo.mc.moves.MCAdapter object at 0x114195eb8>, <chromo.mc.moves.MCAdapter object at 0x11537c978>]\n",
      "[<chromo.mc.moves.MCAdapter object at 0x113e97f28>, <chromo.mc.moves.MCAdapter object at 0x113e97f98>, <chromo.mc.moves.MCAdapter object at 0x114195eb8>, <chromo.mc.moves.MCAdapter object at 0x11537c978>]\n",
      "[<chromo.mc.moves.MCAdapter object at 0x113e97f28>, <chromo.mc.moves.MCAdapter object at 0x113e97f98>, <chromo.mc.moves.MCAdapter object at 0x114195eb8>, <chromo.mc.moves.MCAdapter object at 0x11537c978>]\n",
      "[<chromo.mc.moves.MCAdapter object at 0x113e97f28>, <chromo.mc.moves.MCAdapter object at 0x113e97f98>, <chromo.mc.moves.MCAdapter object at 0x114195eb8>, <chromo.mc.moves.MCAdapter object at 0x11537c978>]\n",
      "[<chromo.mc.moves.MCAdapter object at 0x113e97f28>, <chromo.mc.moves.MCAdapter object at 0x113e97f98>, <chromo.mc.moves.MCAdapter object at 0x114195eb8>, <chromo.mc.moves.MCAdapter object at 0x11537c978>]\n",
      "[<chromo.mc.moves.MCAdapter object at 0x113e97f28>, <chromo.mc.moves.MCAdapter object at 0x113e97f98>, <chromo.mc.moves.MCAdapter object at 0x114195eb8>, <chromo.mc.moves.MCAdapter object at 0x11537c978>]\n",
      "[<chromo.mc.moves.MCAdapter object at 0x113e97f28>, <chromo.mc.moves.MCAdapter object at 0x113e97f98>, <chromo.mc.moves.MCAdapter object at 0x114195eb8>, <chromo.mc.moves.MCAdapter object at 0x11537c978>]\n",
      "[<chromo.mc.moves.MCAdapter object at 0x113e97f28>, <chromo.mc.moves.MCAdapter object at 0x113e97f98>, <chromo.mc.moves.MCAdapter object at 0x114195eb8>, <chromo.mc.moves.MCAdapter object at 0x11537c978>]\n",
      "[<chromo.mc.moves.MCAdapter object at 0x113e97f28>, <chromo.mc.moves.MCAdapter object at 0x113e97f98>, <chromo.mc.moves.MCAdapter object at 0x114195eb8>, <chromo.mc.moves.MCAdapter object at 0x11537c978>]\n",
      "[<chromo.mc.moves.MCAdapter object at 0x113e97f28>, <chromo.mc.moves.MCAdapter object at 0x113e97f98>, <chromo.mc.moves.MCAdapter object at 0x114195eb8>, <chromo.mc.moves.MCAdapter object at 0x11537c978>]\n",
      "[<chromo.mc.moves.MCAdapter object at 0x113e97f28>, <chromo.mc.moves.MCAdapter object at 0x113e97f98>, <chromo.mc.moves.MCAdapter object at 0x114195eb8>, <chromo.mc.moves.MCAdapter object at 0x11537c978>]\n",
      "[<chromo.mc.moves.MCAdapter object at 0x113e97f28>, <chromo.mc.moves.MCAdapter object at 0x113e97f98>, <chromo.mc.moves.MCAdapter object at 0x114195eb8>, <chromo.mc.moves.MCAdapter object at 0x11537c978>]\n",
      "[<chromo.mc.moves.MCAdapter object at 0x113e97f28>, <chromo.mc.moves.MCAdapter object at 0x113e97f98>, <chromo.mc.moves.MCAdapter object at 0x114195eb8>, <chromo.mc.moves.MCAdapter object at 0x11537c978>]\n",
      "[<chromo.mc.moves.MCAdapter object at 0x113e97f28>, <chromo.mc.moves.MCAdapter object at 0x113e97f98>, <chromo.mc.moves.MCAdapter object at 0x114195eb8>, <chromo.mc.moves.MCAdapter object at 0x11537c978>]\n",
      "[<chromo.mc.moves.MCAdapter object at 0x113e97f28>, <chromo.mc.moves.MCAdapter object at 0x113e97f98>, <chromo.mc.moves.MCAdapter object at 0x114195eb8>, <chromo.mc.moves.MCAdapter object at 0x11537c978>]\n",
      "[<chromo.mc.moves.MCAdapter object at 0x113e97f28>, <chromo.mc.moves.MCAdapter object at 0x113e97f98>, <chromo.mc.moves.MCAdapter object at 0x114195eb8>, <chromo.mc.moves.MCAdapter object at 0x11537c978>]\n",
      "[<chromo.mc.moves.MCAdapter object at 0x113e97f28>, <chromo.mc.moves.MCAdapter object at 0x113e97f98>, <chromo.mc.moves.MCAdapter object at 0x114195eb8>, <chromo.mc.moves.MCAdapter object at 0x11537c978>]\n",
      "[<chromo.mc.moves.MCAdapter object at 0x113e97f28>, <chromo.mc.moves.MCAdapter object at 0x113e97f98>, <chromo.mc.moves.MCAdapter object at 0x114195eb8>, <chromo.mc.moves.MCAdapter object at 0x11537c978>]\n",
      "[<chromo.mc.moves.MCAdapter object at 0x113e97f28>, <chromo.mc.moves.MCAdapter object at 0x113e97f98>, <chromo.mc.moves.MCAdapter object at 0x114195eb8>, <chromo.mc.moves.MCAdapter object at 0x11537c978>]\n",
      "[<chromo.mc.moves.MCAdapter object at 0x113e97f28>, <chromo.mc.moves.MCAdapter object at 0x113e97f98>, <chromo.mc.moves.MCAdapter object at 0x114195eb8>, <chromo.mc.moves.MCAdapter object at 0x11537c978>]\n",
      "[<chromo.mc.moves.MCAdapter object at 0x113e97f28>, <chromo.mc.moves.MCAdapter object at 0x113e97f98>, <chromo.mc.moves.MCAdapter object at 0x114195eb8>, <chromo.mc.moves.MCAdapter object at 0x11537c978>]\n",
      "[<chromo.mc.moves.MCAdapter object at 0x113e97f28>, <chromo.mc.moves.MCAdapter object at 0x113e97f98>, <chromo.mc.moves.MCAdapter object at 0x114195eb8>, <chromo.mc.moves.MCAdapter object at 0x11537c978>]\n",
      "[<chromo.mc.moves.MCAdapter object at 0x113e97f28>, <chromo.mc.moves.MCAdapter object at 0x113e97f98>, <chromo.mc.moves.MCAdapter object at 0x114195eb8>, <chromo.mc.moves.MCAdapter object at 0x11537c978>]\n",
      "[<chromo.mc.moves.MCAdapter object at 0x113e97f28>, <chromo.mc.moves.MCAdapter object at 0x113e97f98>, <chromo.mc.moves.MCAdapter object at 0x114195eb8>, <chromo.mc.moves.MCAdapter object at 0x11537c978>]\n",
      "[<chromo.mc.moves.MCAdapter object at 0x113e97f28>, <chromo.mc.moves.MCAdapter object at 0x113e97f98>, <chromo.mc.moves.MCAdapter object at 0x114195eb8>, <chromo.mc.moves.MCAdapter object at 0x11537c978>]\n",
      "[<chromo.mc.moves.MCAdapter object at 0x113e97f28>, <chromo.mc.moves.MCAdapter object at 0x113e97f98>, <chromo.mc.moves.MCAdapter object at 0x114195eb8>, <chromo.mc.moves.MCAdapter object at 0x11537c978>]\n",
      "[<chromo.mc.moves.MCAdapter object at 0x113e97f28>, <chromo.mc.moves.MCAdapter object at 0x113e97f98>, <chromo.mc.moves.MCAdapter object at 0x114195eb8>, <chromo.mc.moves.MCAdapter object at 0x11537c978>]\n",
      "[<chromo.mc.moves.MCAdapter object at 0x113e97f28>, <chromo.mc.moves.MCAdapter object at 0x113e97f98>, <chromo.mc.moves.MCAdapter object at 0x114195eb8>, <chromo.mc.moves.MCAdapter object at 0x11537c978>]\n",
      "[<chromo.mc.moves.MCAdapter object at 0x113e97f28>, <chromo.mc.moves.MCAdapter object at 0x113e97f98>, <chromo.mc.moves.MCAdapter object at 0x114195eb8>, <chromo.mc.moves.MCAdapter object at 0x11537c978>]\n",
      "[<chromo.mc.moves.MCAdapter object at 0x113e97f28>, <chromo.mc.moves.MCAdapter object at 0x113e97f98>, <chromo.mc.moves.MCAdapter object at 0x114195eb8>, <chromo.mc.moves.MCAdapter object at 0x11537c978>]\n",
      "[<chromo.mc.moves.MCAdapter object at 0x113e97f28>, <chromo.mc.moves.MCAdapter object at 0x113e97f98>, <chromo.mc.moves.MCAdapter object at 0x114195eb8>, <chromo.mc.moves.MCAdapter object at 0x11537c978>]\n",
      "[<chromo.mc.moves.MCAdapter object at 0x113e97f28>, <chromo.mc.moves.MCAdapter object at 0x113e97f98>, <chromo.mc.moves.MCAdapter object at 0x114195eb8>, <chromo.mc.moves.MCAdapter object at 0x11537c978>]\n",
      "[<chromo.mc.moves.MCAdapter object at 0x113e97f28>, <chromo.mc.moves.MCAdapter object at 0x113e97f98>, <chromo.mc.moves.MCAdapter object at 0x114195eb8>, <chromo.mc.moves.MCAdapter object at 0x11537c978>]\n",
      "[<chromo.mc.moves.MCAdapter object at 0x113e97f28>, <chromo.mc.moves.MCAdapter object at 0x113e97f98>, <chromo.mc.moves.MCAdapter object at 0x114195eb8>, <chromo.mc.moves.MCAdapter object at 0x11537c978>]\n",
      "[<chromo.mc.moves.MCAdapter object at 0x113e97f28>, <chromo.mc.moves.MCAdapter object at 0x113e97f98>, <chromo.mc.moves.MCAdapter object at 0x114195eb8>, <chromo.mc.moves.MCAdapter object at 0x11537c978>]\n",
      "[<chromo.mc.moves.MCAdapter object at 0x113e97f28>, <chromo.mc.moves.MCAdapter object at 0x113e97f98>, <chromo.mc.moves.MCAdapter object at 0x114195eb8>, <chromo.mc.moves.MCAdapter object at 0x11537c978>]\n",
      "[<chromo.mc.moves.MCAdapter object at 0x113e97f28>, <chromo.mc.moves.MCAdapter object at 0x113e97f98>, <chromo.mc.moves.MCAdapter object at 0x114195eb8>, <chromo.mc.moves.MCAdapter object at 0x11537c978>]\n",
      "[<chromo.mc.moves.MCAdapter object at 0x113e97f28>, <chromo.mc.moves.MCAdapter object at 0x113e97f98>, <chromo.mc.moves.MCAdapter object at 0x114195eb8>, <chromo.mc.moves.MCAdapter object at 0x11537c978>]\n",
      "[<chromo.mc.moves.MCAdapter object at 0x113e97f28>, <chromo.mc.moves.MCAdapter object at 0x113e97f98>, <chromo.mc.moves.MCAdapter object at 0x114195eb8>, <chromo.mc.moves.MCAdapter object at 0x11537c978>]\n",
      "[<chromo.mc.moves.MCAdapter object at 0x113e97f28>, <chromo.mc.moves.MCAdapter object at 0x113e97f98>, <chromo.mc.moves.MCAdapter object at 0x114195eb8>, <chromo.mc.moves.MCAdapter object at 0x11537c978>]\n",
      "[<chromo.mc.moves.MCAdapter object at 0x113e97f28>, <chromo.mc.moves.MCAdapter object at 0x113e97f98>, <chromo.mc.moves.MCAdapter object at 0x114195eb8>, <chromo.mc.moves.MCAdapter object at 0x11537c978>]\n",
      "[<chromo.mc.moves.MCAdapter object at 0x113e97f28>, <chromo.mc.moves.MCAdapter object at 0x113e97f98>, <chromo.mc.moves.MCAdapter object at 0x114195eb8>, <chromo.mc.moves.MCAdapter object at 0x11537c978>]\n",
      "[<chromo.mc.moves.MCAdapter object at 0x113e97f28>, <chromo.mc.moves.MCAdapter object at 0x113e97f98>, <chromo.mc.moves.MCAdapter object at 0x114195eb8>, <chromo.mc.moves.MCAdapter object at 0x11537c978>]\n",
      "[<chromo.mc.moves.MCAdapter object at 0x113e97f28>, <chromo.mc.moves.MCAdapter object at 0x113e97f98>, <chromo.mc.moves.MCAdapter object at 0x114195eb8>, <chromo.mc.moves.MCAdapter object at 0x11537c978>]\n",
      "[<chromo.mc.moves.MCAdapter object at 0x113e97f28>, <chromo.mc.moves.MCAdapter object at 0x113e97f98>, <chromo.mc.moves.MCAdapter object at 0x114195eb8>, <chromo.mc.moves.MCAdapter object at 0x11537c978>]\n",
      "[<chromo.mc.moves.MCAdapter object at 0x113e97f28>, <chromo.mc.moves.MCAdapter object at 0x113e97f98>, <chromo.mc.moves.MCAdapter object at 0x114195eb8>, <chromo.mc.moves.MCAdapter object at 0x11537c978>]\n",
      "[<chromo.mc.moves.MCAdapter object at 0x113e97f28>, <chromo.mc.moves.MCAdapter object at 0x113e97f98>, <chromo.mc.moves.MCAdapter object at 0x114195eb8>, <chromo.mc.moves.MCAdapter object at 0x11537c978>]\n",
      "[<chromo.mc.moves.MCAdapter object at 0x113e97f28>, <chromo.mc.moves.MCAdapter object at 0x113e97f98>, <chromo.mc.moves.MCAdapter object at 0x114195eb8>, <chromo.mc.moves.MCAdapter object at 0x11537c978>]\n",
      "[<chromo.mc.moves.MCAdapter object at 0x113e97f28>, <chromo.mc.moves.MCAdapter object at 0x113e97f98>, <chromo.mc.moves.MCAdapter object at 0x114195eb8>, <chromo.mc.moves.MCAdapter object at 0x11537c978>]\n",
      "[<chromo.mc.moves.MCAdapter object at 0x113e97f28>, <chromo.mc.moves.MCAdapter object at 0x113e97f98>, <chromo.mc.moves.MCAdapter object at 0x114195eb8>, <chromo.mc.moves.MCAdapter object at 0x11537c978>]\n",
      "[<chromo.mc.moves.MCAdapter object at 0x113e97f28>, <chromo.mc.moves.MCAdapter object at 0x113e97f98>, <chromo.mc.moves.MCAdapter object at 0x114195eb8>, <chromo.mc.moves.MCAdapter object at 0x11537c978>]\n",
      "[<chromo.mc.moves.MCAdapter object at 0x113e97f28>, <chromo.mc.moves.MCAdapter object at 0x113e97f98>, <chromo.mc.moves.MCAdapter object at 0x114195eb8>, <chromo.mc.moves.MCAdapter object at 0x11537c978>]\n",
      "[<chromo.mc.moves.MCAdapter object at 0x113e97f28>, <chromo.mc.moves.MCAdapter object at 0x113e97f98>, <chromo.mc.moves.MCAdapter object at 0x114195eb8>, <chromo.mc.moves.MCAdapter object at 0x11537c978>]\n",
      "[<chromo.mc.moves.MCAdapter object at 0x113e97f28>, <chromo.mc.moves.MCAdapter object at 0x113e97f98>, <chromo.mc.moves.MCAdapter object at 0x114195eb8>, <chromo.mc.moves.MCAdapter object at 0x11537c978>]\n",
      "[<chromo.mc.moves.MCAdapter object at 0x113e97f28>, <chromo.mc.moves.MCAdapter object at 0x113e97f98>, <chromo.mc.moves.MCAdapter object at 0x114195eb8>, <chromo.mc.moves.MCAdapter object at 0x11537c978>]\n",
      "[<chromo.mc.moves.MCAdapter object at 0x113e97f28>, <chromo.mc.moves.MCAdapter object at 0x113e97f98>, <chromo.mc.moves.MCAdapter object at 0x114195eb8>, <chromo.mc.moves.MCAdapter object at 0x11537c978>]\n",
      "[<chromo.mc.moves.MCAdapter object at 0x113e97f28>, <chromo.mc.moves.MCAdapter object at 0x113e97f98>, <chromo.mc.moves.MCAdapter object at 0x114195eb8>, <chromo.mc.moves.MCAdapter object at 0x11537c978>]\n",
      "[<chromo.mc.moves.MCAdapter object at 0x113e97f28>, <chromo.mc.moves.MCAdapter object at 0x113e97f98>, <chromo.mc.moves.MCAdapter object at 0x114195eb8>, <chromo.mc.moves.MCAdapter object at 0x11537c978>]\n",
      "[<chromo.mc.moves.MCAdapter object at 0x113e97f28>, <chromo.mc.moves.MCAdapter object at 0x113e97f98>, <chromo.mc.moves.MCAdapter object at 0x114195eb8>, <chromo.mc.moves.MCAdapter object at 0x11537c978>]\n",
      "MC Step 1000 of 1000\n",
      "[<chromo.mc.moves.MCAdapter object at 0x113e97f28>, <chromo.mc.moves.MCAdapter object at 0x113e97f98>, <chromo.mc.moves.MCAdapter object at 0x114195eb8>, <chromo.mc.moves.MCAdapter object at 0x11537c978>]\n",
      "Save point 9 completed\n"
     ]
    }
   ],
   "source": [
    "mc.polymer_in_field([p], marks, udf, 1000, 10, output_dir='output')"
   ]
  },
  {
   "cell_type": "markdown",
   "metadata": {},
   "source": [
    "Here's an alternative implementation that takes only \"simple\" inputs:"
   ]
  },
  {
   "cell_type": "code",
   "execution_count": 9,
   "metadata": {},
   "outputs": [],
   "source": [
    "# mc.simple_mc(num_polymers=5, num_beads=10, bead_length=1, num_marks=2, num_save_mc=1000, num_saves=10,\n",
    "#             x_width=10, nx=1, y_width=10, ny=1, z_width=10, nz=1, random_seed=0, output_dir='output_simple')"
   ]
  }
 ],
 "metadata": {
  "kernelspec": {
   "name": "python373jvsc74a57bd0865d95156a1b6238df17bd0086e5ad34b316e96e7d0b64c77c6e81d7f7a36cb5",
   "display_name": "Python 3.7.3 64-bit ('base': conda)"
  },
  "language_info": {
   "codemirror_mode": {
    "name": "ipython",
    "version": 3
   },
   "file_extension": ".py",
   "mimetype": "text/x-python",
   "name": "python",
   "nbconvert_exporter": "python",
   "pygments_lexer": "ipython3",
   "version": "3.7.3"
  }
 },
 "nbformat": 4,
 "nbformat_minor": 4
}