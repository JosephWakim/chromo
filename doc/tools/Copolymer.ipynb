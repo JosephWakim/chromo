{
 "cells": [
  {
   "cell_type": "markdown",
   "metadata": {
    "pycharm": {
     "name": "#%% md\n"
    }
   },
   "source": [
    "# Copolymer Simulation\n",
    "\n",
    "Simulate a polymer with repeating A-B units."
   ]
  },
  {
   "cell_type": "markdown",
   "metadata": {
    "pycharm": {
     "name": "#%% md\n"
    }
   },
   "source": [
    "### Setup\n",
    "\n",
    "Load required packages and specify root directory of simulator package.\n",
    "\n",
    "**Run this code block only once.**"
   ]
  },
  {
   "cell_type": "code",
   "execution_count": 1,
   "metadata": {
    "pycharm": {
     "name": "#%%\n"
    }
   },
   "outputs": [
    {
     "name": "stdout",
     "output_type": "stream",
     "text": [
      "Directory containing the notebook:\n",
      "/Users/jwakim/Documents/Wakim_Research/peaking_sims/AAB/doc/tools\n"
     ]
    }
   ],
   "source": [
    "# Built-in modules\n",
    "import os\n",
    "import sys\n",
    "import pprint\n",
    "import multiprocessing as mp\n",
    "\n",
    "# Insert package root to system path\n",
    "cwd = os.getcwd()\n",
    "parent_dir = cwd + \"/../..\"\n",
    "sys.path.insert(1, parent_dir)\n",
    "\n",
    "print(\"Directory containing the notebook:\")\n",
    "print(cwd)"
   ]
  },
  {
   "cell_type": "code",
   "execution_count": 4,
   "metadata": {
    "pycharm": {
     "name": "#%%\n"
    }
   },
   "outputs": [
    {
     "ename": "ModuleNotFoundError",
     "evalue": "No module named 'chromo.mc.mc_sim'",
     "output_type": "error",
     "traceback": [
      "\u001B[0;31m---------------------------------------------------------------------------\u001B[0m",
      "\u001B[0;31mModuleNotFoundError\u001B[0m                       Traceback (most recent call last)",
      "\u001B[0;32m<ipython-input-4-9dd0cc480b88>\u001B[0m in \u001B[0;36m<module>\u001B[0;34m\u001B[0m\n\u001B[1;32m      5\u001B[0m \u001B[0;34m\u001B[0m\u001B[0m\n\u001B[1;32m      6\u001B[0m \u001B[0;31m# Package modules\u001B[0m\u001B[0;34m\u001B[0m\u001B[0;34m\u001B[0m\u001B[0;34m\u001B[0m\u001B[0m\n\u001B[0;32m----> 7\u001B[0;31m \u001B[0;32mimport\u001B[0m \u001B[0mchromo\u001B[0m\u001B[0;34m.\u001B[0m\u001B[0mmc\u001B[0m \u001B[0;32mas\u001B[0m \u001B[0mmc\u001B[0m\u001B[0;34m\u001B[0m\u001B[0;34m\u001B[0m\u001B[0m\n\u001B[0m\u001B[1;32m      8\u001B[0m \u001B[0;32mimport\u001B[0m \u001B[0mchromo\u001B[0m\u001B[0;34m.\u001B[0m\u001B[0mmc\u001B[0m\u001B[0;34m.\u001B[0m\u001B[0mmove_funcs\u001B[0m \u001B[0;32mas\u001B[0m \u001B[0mmv\u001B[0m\u001B[0;34m\u001B[0m\u001B[0;34m\u001B[0m\u001B[0m\n\u001B[1;32m      9\u001B[0m \u001B[0;32mfrom\u001B[0m \u001B[0mchromo\u001B[0m\u001B[0;34m.\u001B[0m\u001B[0mpolymers\u001B[0m \u001B[0;32mimport\u001B[0m \u001B[0mSSWLC\u001B[0m\u001B[0;34m\u001B[0m\u001B[0;34m\u001B[0m\u001B[0m\n",
      "\u001B[0;32m~/Documents/Wakim_Research/peaking_sims/AAB/doc/tools/../../chromo/mc/__init__.py\u001B[0m in \u001B[0;36m<module>\u001B[0;34m\u001B[0m\n\u001B[1;32m     12\u001B[0m \u001B[0;32mimport\u001B[0m \u001B[0mnumpy\u001B[0m \u001B[0;32mas\u001B[0m \u001B[0mnp\u001B[0m\u001B[0;34m\u001B[0m\u001B[0;34m\u001B[0m\u001B[0m\n\u001B[1;32m     13\u001B[0m \u001B[0;34m\u001B[0m\u001B[0m\n\u001B[0;32m---> 14\u001B[0;31m \u001B[0;32mfrom\u001B[0m \u001B[0;34m.\u001B[0m\u001B[0mmc_sim\u001B[0m \u001B[0;32mimport\u001B[0m \u001B[0mmc_sim\u001B[0m\u001B[0;34m\u001B[0m\u001B[0;34m\u001B[0m\u001B[0m\n\u001B[0m\u001B[1;32m     15\u001B[0m \u001B[0;32mfrom\u001B[0m \u001B[0;34m.\u001B[0m\u001B[0mmc_controller\u001B[0m \u001B[0;32mimport\u001B[0m \u001B[0mall_moves\u001B[0m\u001B[0;34m,\u001B[0m \u001B[0mController\u001B[0m\u001B[0;34m,\u001B[0m \u001B[0mSimpleControl\u001B[0m\u001B[0;34m\u001B[0m\u001B[0;34m\u001B[0m\u001B[0m\n\u001B[1;32m     16\u001B[0m \u001B[0;32mfrom\u001B[0m \u001B[0;34m.\u001B[0m\u001B[0mmoves\u001B[0m \u001B[0;32mimport\u001B[0m \u001B[0mBounds\u001B[0m\u001B[0;34m\u001B[0m\u001B[0;34m\u001B[0m\u001B[0m\n",
      "\u001B[0;31mModuleNotFoundError\u001B[0m: No module named 'chromo.mc.mc_sim'"
     ]
    }
   ],
   "source": [
    "# External modules\n",
    "import numpy as np\n",
    "import pandas as pd\n",
    "import matplotlib.pyplot as plt\n",
    "\n",
    "# Package modules\n",
    "import chromo.mc as mc\n",
    "import chromo.mc.move_funcs as mv\n",
    "from chromo.polymers import SSWLC\n",
    "import chromo.binders\n",
    "from chromo.fields import UniformDensityField\n",
    "import chromo.mc.mc_controller as ctrl\n",
    "from chromo.util.reproducibility import get_unique_subfolder_name\n",
    "import chromo.util.poly_stat as ps"
   ]
  },
  {
   "cell_type": "code",
   "execution_count": 3,
   "metadata": {},
   "outputs": [
    {
     "name": "stdout",
     "output_type": "stream",
     "text": [
      "Root Directory of Package: \n",
      "/Users/jwakim/Documents/Wakim_Research/peaking_sims/AAB\n"
     ]
    }
   ],
   "source": [
    "# Change working directory to package root\n",
    "os.chdir(parent_dir)\n",
    "print(\"Root Directory of Package: \")\n",
    "print(os.getcwd())"
   ]
  },
  {
   "cell_type": "markdown",
   "metadata": {
    "pycharm": {
     "name": "#%% md\n"
    }
   },
   "source": [
    "### Specify Chain Lengths\n",
    "\n",
    "For this example, we will specify arbitrary chains that contains 40 repeating units."
   ]
  },
  {
   "cell_type": "code",
   "execution_count": 6,
   "metadata": {
    "pycharm": {
     "name": "#%%\n"
    }
   },
   "outputs": [],
   "source": [
    "num_repeats = 40"
   ]
  },
  {
   "cell_type": "markdown",
   "metadata": {
    "pycharm": {
     "name": "#%% md\n"
    }
   },
   "source": [
    "### Specify pattern of bead types\n",
    "\n",
    "We will assign the `A` block to a monomer state of 1 and the `B` block to a monomer state of 0."
   ]
  },
  {
   "cell_type": "code",
   "execution_count": null,
   "metadata": {
    "pycharm": {
     "name": "#%%\n"
    }
   },
   "outputs": [],
   "source": [
    "state_pattern = np.array([0, 1])\n",
    "\n",
    "A_states = np.tile(state_pattern, num_repeats)\n",
    "B_states = (A_states + 1) % 2\n",
    "states = np.column_stack((A_states, B_states))\n",
    "\n",
    "bead_length = 0.148\n",
    "n_polymers = 10"
   ]
  },
  {
   "cell_type": "markdown",
   "metadata": {},
   "source": [
    "### Define Physical Properties of Bead Types"
   ]
  },
  {
   "cell_type": "code",
   "execution_count": 9,
   "metadata": {},
   "outputs": [
    {
     "ename": "NameError",
     "evalue": "name 'chromo' is not defined",
     "output_type": "error",
     "traceback": [
      "\u001B[0;31m---------------------------------------------------------------------------\u001B[0m",
      "\u001B[0;31mNameError\u001B[0m                                 Traceback (most recent call last)",
      "\u001B[0;32m<ipython-input-9-53f2a4c09046>\u001B[0m in \u001B[0;36m<module>\u001B[0;34m\u001B[0m\n\u001B[0;32m----> 1\u001B[0;31m A_monomer = chromo.binders.ReaderProtein(\n\u001B[0m\u001B[1;32m      2\u001B[0m     \u001B[0mname\u001B[0m\u001B[0;34m=\u001B[0m\u001B[0;34m\"A\"\u001B[0m\u001B[0;34m,\u001B[0m\u001B[0;34m\u001B[0m\u001B[0;34m\u001B[0m\u001B[0m\n\u001B[1;32m      3\u001B[0m     \u001B[0msites_per_bead\u001B[0m\u001B[0;34m=\u001B[0m\u001B[0;36m1\u001B[0m\u001B[0;34m,\u001B[0m\u001B[0;34m\u001B[0m\u001B[0;34m\u001B[0m\u001B[0m\n\u001B[1;32m      4\u001B[0m     \u001B[0mbind_energy_mod\u001B[0m\u001B[0;34m=\u001B[0m\u001B[0;36m0\u001B[0m\u001B[0;34m,\u001B[0m                                                  \u001B[0;31m# We will not model binding/unbinding\u001B[0m\u001B[0;34m\u001B[0m\u001B[0;34m\u001B[0m\u001B[0m\n\u001B[1;32m      5\u001B[0m     \u001B[0mbind_energy_no_mod\u001B[0m\u001B[0;34m=\u001B[0m\u001B[0;36m0\u001B[0m\u001B[0;34m,\u001B[0m\u001B[0;34m\u001B[0m\u001B[0;34m\u001B[0m\u001B[0m\n",
      "\u001B[0;31mNameError\u001B[0m: name 'chromo' is not defined"
     ]
    }
   ],
   "source": [
    "interaction_length = 1\n",
    "AA_interaction_strength = 0\n",
    "BB_interaction_strength = 0\n",
    "AB_interaction_strength = 1\n",
    "\n",
    "\n",
    "A_monomer = chromo.binders.ReaderProtein(\n",
    "    name=\"A\",\n",
    "    sites_per_bead=1,\n",
    "    bind_energy_mod=0,                                                  # We will not model binding/unbinding\n",
    "    bind_energy_no_mod=0,\n",
    "    interaction_energy=AA_interaction_strength,\n",
    "    chemical_potential=0,                                               # No effect (not modeling binding/unbinding)\n",
    "    interaction_radius=interaction_length,                              # Interaction length scale\n",
    "    cross_talk_interaction_energy={\"B\": AB_interaction_strength}        # A-B interaction\n",
    ")\n",
    "B_monomer = chromo.binders.ReaderProtein(\n",
    "    name=\"B\",\n",
    "    sites_per_bead=1,\n",
    "    bind_energy_mod=0,                                                  # We will not model binding/unbinding\n",
    "    bind_energy_no_mod=0,\n",
    "    interaction_energy=BB_interaction_strength,\n",
    "    chemical_potential=0,                                               # No effect (not modeling binding/unbinding)\n",
    "    interaction_radius=interaction_length,                              # Interaction length scale\n",
    ")\n",
    "monomers = chromo.binders.make_binder_collection(\n",
    "    [A_monomer, B_monomer]\n",
    ")"
   ]
  },
  {
   "cell_type": "markdown",
   "metadata": {
    "pycharm": {
     "name": "#%% md\n"
    }
   },
   "source": [
    "### Specify Polymer Characteristic Properties"
   ]
  },
  {
   "cell_type": "code",
   "execution_count": 7,
   "metadata": {
    "pycharm": {
     "name": "#%%\n"
    }
   },
   "outputs": [],
   "source": [
    "bead_length = 1\n",
    "lp = 1\n",
    "n_polymers = 10\n",
    "\n",
    "# TODO: If you want to change the output formatting so that all configurations are appended to the same file, you\n",
    "#       can do this in chromo.mc.__init__.py"
   ]
  },
  {
   "cell_type": "markdown",
   "metadata": {},
   "source": [
    "### Instantiate Polymers"
   ]
  },
  {
   "cell_type": "code",
   "execution_count": null,
   "metadata": {},
   "outputs": [],
   "source": [
    "polymers = []\n",
    "for i in range(n_polymers):\n",
    "    polymer = SSWLC.gaussian_walk_polymer(\n",
    "        name = f\"poly_{i+1}\",\n",
    "        num_beads = num_repeats * len(state_pattern),\n",
    "        lp = lp,\n",
    "        bead_length = bead_length,\n",
    "        states = states.copy(),\n",
    "        binder_names = np.array([\"A_monomer\", \"B_monomer\"]),\n",
    "        chemical_mods = states.copy(),\n",
    "        chemical_mod_names = np.array([\"A_monomer\", \"B_monomer\"])\n",
    "    )\n",
    "    polymers.append(polymer)"
   ]
  },
  {
   "cell_type": "markdown",
   "metadata": {
    "pycharm": {
     "name": "#%% md\n"
    }
   },
   "source": [
    "### Define Uniform Density Field\n",
    "\n",
    "Here we define an unconfined field."
   ]
  },
  {
   "cell_type": "code",
   "execution_count": 10,
   "metadata": {
    "pycharm": {
     "name": "#%%\n"
    }
   },
   "outputs": [
    {
     "ename": "NameError",
     "evalue": "name 'UniformDensityField' is not defined",
     "output_type": "error",
     "traceback": [
      "\u001B[0;31m---------------------------------------------------------------------------\u001B[0m",
      "\u001B[0;31mNameError\u001B[0m                                 Traceback (most recent call last)",
      "\u001B[0;32m<ipython-input-10-182abdf26138>\u001B[0m in \u001B[0;36m<module>\u001B[0;34m\u001B[0m\n\u001B[1;32m     11\u001B[0m \u001B[0mchi\u001B[0m \u001B[0;34m=\u001B[0m \u001B[0;36m0\u001B[0m\u001B[0;34m\u001B[0m\u001B[0;34m\u001B[0m\u001B[0m\n\u001B[1;32m     12\u001B[0m \u001B[0;34m\u001B[0m\u001B[0m\n\u001B[0;32m---> 13\u001B[0;31m udf = UniformDensityField(\n\u001B[0m\u001B[1;32m     14\u001B[0m     \u001B[0mpolymers\u001B[0m \u001B[0;34m=\u001B[0m \u001B[0mpolymers\u001B[0m\u001B[0;34m,\u001B[0m\u001B[0;34m\u001B[0m\u001B[0;34m\u001B[0m\u001B[0m\n\u001B[1;32m     15\u001B[0m     \u001B[0mbinders\u001B[0m \u001B[0;34m=\u001B[0m \u001B[0mmonomers\u001B[0m\u001B[0;34m,\u001B[0m\u001B[0;34m\u001B[0m\u001B[0;34m\u001B[0m\u001B[0m\n",
      "\u001B[0;31mNameError\u001B[0m: name 'UniformDensityField' is not defined"
     ]
    }
   ],
   "source": [
    "x_width = 25\n",
    "y_width = x_width\n",
    "z_width = x_width\n",
    "\n",
    "n_bins_x = x_width / (2 * interaction_length)\n",
    "n_bins_y = n_bins_x\n",
    "n_bins_z = n_bins_x\n",
    "\n",
    "chi = 0\n",
    "\n",
    "udf = UniformDensityField(\n",
    "    polymers = polymers,\n",
    "    binders = monomers,\n",
    "    x_width = x_width,\n",
    "    nx = n_bins_x,\n",
    "    y_width = y_width,\n",
    "    ny = n_bins_y,\n",
    "    z_width = z_width,\n",
    "    nz = n_bins_z,\n",
    "    confine_type = \"\",\n",
    "    confine_length = 0,\n",
    "    chi = chi\n",
    ")"
   ]
  },
  {
   "cell_type": "markdown",
   "metadata": {
    "pycharm": {
     "name": "#%% md\n"
    }
   },
   "source": [
    "### Specify Simulation Hyperparameters\n",
    "\n",
    "Hyperparameters include the types of Monte Carlo moves to include, the move amplitude (maximum range of change made by a single Monte Carlo move), bead selection amplitude (maximum number of beads affected by a single Monte Carlo move), number of snapshots to run the simulation, and number of steps to include in each snapshot."
   ]
  },
  {
   "cell_type": "code",
   "execution_count": null,
   "metadata": {},
   "outputs": [],
   "source": [
    "move_list = [\n",
    "    mv.crank_shaft,\n",
    "    mv.end_pivot,\n",
    "    mv.slide,\n",
    "    mv.tangent_rotation,\n",
    "    mv.full_chain_rotation,\n",
    "    mv.full_chain_translation\n",
    "]"
   ]
  },
  {
   "cell_type": "code",
   "execution_count": null,
   "metadata": {
    "pycharm": {
     "name": "#%%\n"
    }
   },
   "outputs": [],
   "source": [
    "amp_bead_bounds, amp_move_bounds = mc.get_amplitude_bounds(polymers)"
   ]
  },
  {
   "cell_type": "code",
   "execution_count": null,
   "metadata": {
    "pycharm": {
     "name": "#%%\n"
    }
   },
   "outputs": [],
   "source": [
    "num_snapshots = 100\n",
    "mc_steps_per_snapshot = 10000"
   ]
  },
  {
   "cell_type": "code",
   "execution_count": null,
   "metadata": {
    "pycharm": {
     "name": "#%%\n"
    }
   },
   "outputs": [],
   "source": [
    "latest_sim = get_unique_subfolder_name(\"output/sim_\")\n",
    "moves_to_use = ctrl.specific_moves(\n",
    "    move_fxns = move_list,\n",
    "    log_dir = latest_sim,\n",
    "    bead_amp_bounds = amp_bead_bounds.bounds,\n",
    "    move_amp_bounds = amp_move_bounds.bounds,\n",
    "    controller = ctrl.SimpleControl\n",
    ")"
   ]
  },
  {
   "cell_type": "markdown",
   "metadata": {
    "pycharm": {
     "name": "#%% md\n"
    }
   },
   "source": [
    "### Run the simulation\n",
    "\n",
    "Begin generating snapshots of polymer configurations."
   ]
  },
  {
   "cell_type": "code",
   "execution_count": null,
   "metadata": {},
   "outputs": [],
   "source": [
    "print(\"Starting new simulation...\")\n",
    "mc.polymer_in_field(\n",
    "    polymers,\n",
    "    monomers,\n",
    "    udf,\n",
    "    mc_steps_per_snapshot,\n",
    "    num_snapshots,\n",
    "    amp_bead_bounds,\n",
    "    amp_move_bounds,\n",
    "    output_dir='output',\n",
    "    mc_move_controllers=moves_to_use\n",
    ")"
   ]
  }
 ],
 "metadata": {
  "kernelspec": {
   "display_name": "Python 3",
   "language": "python",
   "name": "python3"
  },
  "language_info": {
   "codemirror_mode": {
    "name": "ipython",
    "version": 3
   },
   "file_extension": ".py",
   "mimetype": "text/x-python",
   "name": "python",
   "nbconvert_exporter": "python",
   "pygments_lexer": "ipython3",
   "version": "3.7.3"
  }
 },
 "nbformat": 4,
 "nbformat_minor": 1
}