{
 "cells": [
  {
   "cell_type": "markdown",
   "source": [
    "# Convert ChIP-Seq Signals to a Pattern of Mark States\n",
    "\n",
    "Given a BedGraph file showing \"fold-change over control\" signals for arbitrary genomic intervals, generate a sequence of methylation states per nucleosome, where 0 indicates no tail methylated, 1 indicates one tail methylated, and 2 indicates both tails methylated.\n",
    "\n",
    "<br>\n",
    "\n",
    "### Before running this notebook:\n",
    "\n",
    "- Download the desired BigWig file for an epigenetic mark with \"fold signal over control\" values from the ENCODE database.\n",
    "- Move the BigWig file to directory containing UCSC sequence tool executables.\n",
    "- Run the bigWigToBedGraph executable from UCSC using `./ bigWigToWig <BigWigFileName> <OutputFileName> chrom=chr##` from the directory containing the executable.\n",
    "- Move the BedGraph to the machine containing this notebook\n",
    "- Fill in the inputs to this notebook and run all cells."
   ],
   "metadata": {
    "collapsed": false,
    "pycharm": {
     "name": "#%% md\n"
    }
   }
  },
  {
   "cell_type": "markdown",
   "source": [
    "### Setup\n",
    "\n",
    "Import necessary modules."
   ],
   "metadata": {
    "collapsed": false
   }
  },
  {
   "cell_type": "code",
   "execution_count": 1,
   "outputs": [],
   "source": [
    "import numpy as np\n",
    "import bioframe as bf"
   ],
   "metadata": {
    "collapsed": false,
    "pycharm": {
     "name": "#%%\n"
    }
   }
  },
  {
   "cell_type": "markdown",
   "source": [
    "### Specify Inputs\n",
    "\n",
    "Conversion from raw ChIP-seq to methylation sequence depends on the following input parameters."
   ],
   "metadata": {
    "collapsed": false
   }
  },
  {
   "cell_type": "code",
   "execution_count": 2,
   "outputs": [],
   "source": [
    "# Fraction of all histone TAILS modified with methylation mark\n",
    "fraction_methylated = 0.4\n",
    "\n",
    "# Max num. iters to adjust thresholds to converge on fraction methylated target\n",
    "max_iters = 1000\n",
    "\n",
    "# Relative tolerance around fraction methylated target\n",
    "rel_tol = 0.001\n",
    "\n",
    "# Location of Bed Graph file; should contain \"fold-change over control\" values\n",
    "file_path = \"/Users/jwakim/Downloads/ENCFF919DOR_H3K27me3_Bedgraph.bed\"\n",
    "\n",
    "# Output file name\n",
    "out_path = \"/Users/jwakim/Downloads/ENCFF919DOR_H3K27me3_methyl.txt\"\n",
    "\n",
    "# Chromosome number for sequence of interest\n",
    "chromosome = \"chr16\"\n",
    "\n",
    "# Bead discretization in units of base pair\n",
    "bp_per_nucleosome = 200"
   ],
   "metadata": {
    "collapsed": false,
    "pycharm": {
     "name": "#%%\n"
    }
   }
  },
  {
   "cell_type": "markdown",
   "source": [
    "### Calibrate Conversion\n",
    "\n",
    "Signal cutoffs will be defined such that a specified fraction of histone tails are methylated. Cutoffs are defined by percentile values in the overall distribution of signals."
   ],
   "metadata": {
    "collapsed": false
   }
  },
  {
   "cell_type": "code",
   "execution_count": 3,
   "outputs": [
    {
     "name": "stdout",
     "output_type": "stream",
     "text": [
      "Percentile Cutoffs between 0/1 and 1/2 tails methylated:\n",
      "[0.26666667 0.53333333]\n"
     ]
    }
   ],
   "source": [
    "pct_cutoff_width = (2 * fraction_methylated) / 3\n",
    "pct_cutoffs = np.array([pct_cutoff_width, 2*pct_cutoff_width])\n",
    "\n",
    "print(\"Percentile Cutoffs between 0/1 and 1/2 tails methylated:\")\n",
    "print(pct_cutoffs)"
   ],
   "metadata": {
    "collapsed": false,
    "pycharm": {
     "name": "#%%\n"
    }
   }
  },
  {
   "cell_type": "markdown",
   "source": [
    "### Redistribute interval to match desired discretization\n",
    "\n",
    "The BedGraph file discretizes signals into arbitrary bins. Redistribute the signals into widths matching individual nucleosomes."
   ],
   "metadata": {
    "collapsed": false,
    "pycharm": {
     "name": "#%% md\n"
    }
   }
  },
  {
   "cell_type": "code",
   "execution_count": 4,
   "outputs": [
    {
     "data": {
      "text/plain": "   chrom  start    end  fold_change\n0  chr16      0  10279      0.00000\n1  chr16  10279  10489      0.78156\n2  chr16  10489  10858      0.00000\n3  chr16  10858  11068      0.78156\n4  chr16  11068  12789      0.00000",
      "text/html": "<div>\n<style scoped>\n    .dataframe tbody tr th:only-of-type {\n        vertical-align: middle;\n    }\n\n    .dataframe tbody tr th {\n        vertical-align: top;\n    }\n\n    .dataframe thead th {\n        text-align: right;\n    }\n</style>\n<table border=\"1\" class=\"dataframe\">\n  <thead>\n    <tr style=\"text-align: right;\">\n      <th></th>\n      <th>chrom</th>\n      <th>start</th>\n      <th>end</th>\n      <th>fold_change</th>\n    </tr>\n  </thead>\n  <tbody>\n    <tr>\n      <th>0</th>\n      <td>chr16</td>\n      <td>0</td>\n      <td>10279</td>\n      <td>0.00000</td>\n    </tr>\n    <tr>\n      <th>1</th>\n      <td>chr16</td>\n      <td>10279</td>\n      <td>10489</td>\n      <td>0.78156</td>\n    </tr>\n    <tr>\n      <th>2</th>\n      <td>chr16</td>\n      <td>10489</td>\n      <td>10858</td>\n      <td>0.00000</td>\n    </tr>\n    <tr>\n      <th>3</th>\n      <td>chr16</td>\n      <td>10858</td>\n      <td>11068</td>\n      <td>0.78156</td>\n    </tr>\n    <tr>\n      <th>4</th>\n      <td>chr16</td>\n      <td>11068</td>\n      <td>12789</td>\n      <td>0.00000</td>\n    </tr>\n  </tbody>\n</table>\n</div>"
     },
     "execution_count": 4,
     "metadata": {},
     "output_type": "execute_result"
    }
   ],
   "source": [
    "signals = bf.read_table(file_path, schema='bed4')\n",
    "signals.columns = signals.columns[:-1].tolist() + ['fold_change']\n",
    "signals.head()"
   ],
   "metadata": {
    "collapsed": false,
    "pycharm": {
     "name": "#%%\n"
    }
   }
  },
  {
   "cell_type": "code",
   "execution_count": 5,
   "outputs": [],
   "source": [
    "# Get the size of the chromosomes\n",
    "chromsizes = bf.fetch_chromsizes(\"hg38\", as_bed=False)\n",
    "chromsizes = chromsizes[:22]\n",
    "\n",
    "# Discretize each chromosome into 200 bp units\n",
    "bins = bf.binnify(chromsizes, binsize=200)\n",
    "bins = bins[bins.chrom == chromosome]\n",
    "\n",
    "# Determine overlap of ChIP-seq signals with evenly-spaced chromosome bins\n",
    "overlap = bf.overlap(bins, signals, return_overlap=\"True\")\n",
    "\n",
    "# Scale signals with size of overlap with evenly-spaced chromosome bins\n",
    "overlap[\"fold_change_scaled\"] = overlap[\"fold_change_\"] / (overlap['True_end']- overlap['True_start'])\n",
    "overlap[\"fold_change_scaled\"] *= bp_per_nucleosome\n",
    "\n",
    "# Group signals corresponding to the same region\n",
    "overlap[\"fold_change_scaled\"] = overlap.groupby([\"chrom\", \"start\", \"end\"])[\"fold_change_scaled\"].transform(\"sum\")\n",
    "processed_signals = overlap.drop_duplicates(subset=['chrom', 'start', 'end'])\n",
    "processed_signals = processed_signals[[\"chrom\", \"start\", \"end\", \"fold_change_scaled\"]]"
   ],
   "metadata": {
    "collapsed": false,
    "pycharm": {
     "name": "#%%\n"
    }
   }
  },
  {
   "cell_type": "code",
   "execution_count": 6,
   "outputs": [
    {
     "data": {
      "text/plain": "   chrom  start   end  fold_change_scaled\n0  chr16      0   200                 0.0\n1  chr16    200   400                 0.0\n2  chr16    400   600                 0.0\n3  chr16    600   800                 0.0\n4  chr16    800  1000                 0.0",
      "text/html": "<div>\n<style scoped>\n    .dataframe tbody tr th:only-of-type {\n        vertical-align: middle;\n    }\n\n    .dataframe tbody tr th {\n        vertical-align: top;\n    }\n\n    .dataframe thead th {\n        text-align: right;\n    }\n</style>\n<table border=\"1\" class=\"dataframe\">\n  <thead>\n    <tr style=\"text-align: right;\">\n      <th></th>\n      <th>chrom</th>\n      <th>start</th>\n      <th>end</th>\n      <th>fold_change_scaled</th>\n    </tr>\n  </thead>\n  <tbody>\n    <tr>\n      <th>0</th>\n      <td>chr16</td>\n      <td>0</td>\n      <td>200</td>\n      <td>0.0</td>\n    </tr>\n    <tr>\n      <th>1</th>\n      <td>chr16</td>\n      <td>200</td>\n      <td>400</td>\n      <td>0.0</td>\n    </tr>\n    <tr>\n      <th>2</th>\n      <td>chr16</td>\n      <td>400</td>\n      <td>600</td>\n      <td>0.0</td>\n    </tr>\n    <tr>\n      <th>3</th>\n      <td>chr16</td>\n      <td>600</td>\n      <td>800</td>\n      <td>0.0</td>\n    </tr>\n    <tr>\n      <th>4</th>\n      <td>chr16</td>\n      <td>800</td>\n      <td>1000</td>\n      <td>0.0</td>\n    </tr>\n  </tbody>\n</table>\n</div>"
     },
     "execution_count": 6,
     "metadata": {},
     "output_type": "execute_result"
    }
   ],
   "source": [
    "processed_signals.head()"
   ],
   "metadata": {
    "collapsed": false,
    "pycharm": {
     "name": "#%%\n"
    }
   }
  },
  {
   "cell_type": "code",
   "execution_count": 7,
   "outputs": [
    {
     "name": "stdout",
     "output_type": "stream",
     "text": [
      "Cutoffs: [16.209699765431143 32.419399530862286]\n",
      "Convergence Successful!\n",
      "Num Iters: 108\n",
      "Cutoffs: [16.329855360303696 32.65971072060739]\n",
      "Fraction Tails Methylated: 0.4009535258539004\n"
     ]
    }
   ],
   "source": [
    "num_beads = len(processed_signals)\n",
    "fold_change_scaled = processed_signals[\"fold_change_scaled\"].to_numpy().flatten()\n",
    "avg_fold_change = np.average(fold_change_scaled)\n",
    "cutoffs = np.percentile(fold_change_scaled, pct_cutoffs)\n",
    "\n",
    "for i in range(max_iters):\n",
    "\n",
    "    if (i+1) % 100 == 0:\n",
    "        print(f\"Cutoffs: {cutoffs}\")\n",
    "\n",
    "    one_mark = np.where((fold_change_scaled >= cutoffs[0]))\n",
    "    two_marks = np.where((fold_change_scaled >= cutoffs[1]))\n",
    "\n",
    "    methyl = np.zeros(num_beads, dtype=int)\n",
    "    methyl[one_mark] = 1\n",
    "    methyl[two_marks] = 2\n",
    "\n",
    "    obs_frac_methyl = np.sum(methyl) / (2 * num_beads)\n",
    "    err = obs_frac_methyl - fraction_methylated\n",
    "\n",
    "    if -rel_tol <= err <= rel_tol:\n",
    "        print(\"Convergence Successful!\")\n",
    "        print(f\"Num Iters: {i+1}\")\n",
    "        print(f\"Cutoffs: {cutoffs}\")\n",
    "        print(f\"Fraction Tails Methylated: {obs_frac_methyl}\")\n",
    "        break\n",
    "\n",
    "    cutoffs[0] += avg_fold_change * err * (i / max_iters)\n",
    "    cutoffs[1] += 2 * avg_fold_change * err * (i / max_iters)\n",
    "\n",
    "    if i == (max_iters-1):\n",
    "        print(\"Failed to converge.\")\n",
    "        print(f\"Observed fraction tails methylated: {round(obs_frac_methyl, 3)}\")\n",
    "\n"
   ],
   "metadata": {
    "collapsed": false,
    "pycharm": {
     "name": "#%%\n"
    }
   }
  },
  {
   "cell_type": "code",
   "execution_count": 8,
   "outputs": [],
   "source": [
    "# Save Output Methylation Sequence\n",
    "with open(out_path, \"w\") as f:\n",
    "    for i in range(num_beads):\n",
    "        f.write(f\"{methyl[i]}\\n\")"
   ],
   "metadata": {
    "collapsed": false,
    "pycharm": {
     "name": "#%%\n"
    }
   }
  },
  {
   "cell_type": "markdown",
   "source": [
    "### Summary:\n",
    "\n",
    "Given ChIP-seq outputs indicating \"fold-change over control\" signals for various genomic intervals, we redistributed those signals into nucleosome-scale bins and we applied cutoffs so that some setpoint fraction number of tails are methylated. We store the methylation sequence in an output directory for use in future simulations."
   ],
   "metadata": {
    "collapsed": false,
    "pycharm": {
     "name": "#%% md\n"
    }
   }
  }
 ],
 "metadata": {
  "kernelspec": {
   "display_name": "Python 3",
   "language": "python",
   "name": "python3"
  },
  "language_info": {
   "codemirror_mode": {
    "name": "ipython",
    "version": 2
   },
   "file_extension": ".py",
   "mimetype": "text/x-python",
   "name": "python",
   "nbconvert_exporter": "python",
   "pygments_lexer": "ipython2",
   "version": "2.7.6"
  }
 },
 "nbformat": 4,
 "nbformat_minor": 0
}