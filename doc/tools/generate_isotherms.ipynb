{
 "cells": [
  {
   "cell_type": "markdown",
   "metadata": {},
   "source": [
    "# Chemical Potential Isotherms"
   ]
  },
  {
   "cell_type": "code",
   "execution_count": 1,
   "metadata": {},
   "outputs": [],
   "source": [
    "import os\n",
    "\n",
    "import numpy as np\n",
    "import pandas as pd\n",
    "import matplotlib.pyplot as plt"
   ]
  },
  {
   "cell_type": "markdown",
   "metadata": {},
   "source": [
    "### Load average binding states"
   ]
  },
  {
   "cell_type": "code",
   "execution_count": 2,
   "metadata": {},
   "outputs": [],
   "source": [
    "output_dir = \"avg_binding_states\""
   ]
  },
  {
   "cell_type": "code",
   "execution_count": 3,
   "metadata": {},
   "outputs": [],
   "source": [
    "file_names = os.listdir(output_dir)\n",
    "paths = [f\"{output_dir}/{file}\" for file in file_names]"
   ]
  },
  {
   "cell_type": "code",
   "execution_count": 4,
   "metadata": {},
   "outputs": [
    {
     "name": "stdout",
     "output_type": "stream",
     "text": [
      "['average_binding_states_HP1_m1d8.csv', 'average_binding_states_HP1_m1d9.csv', 'average_binding_states_HP1_m0d8.csv', 'average_binding_states_HP1_m0d9.csv', 'average_binding_states_HP1_m0d7.csv', 'average_binding_states_HP1_m2d5.csv', 'average_binding_states_HP1_m2d4.csv', 'average_binding_states_HP1_m0d6.csv', 'hp1_binding_pattern_sim7.png', 'average_binding_states_HP1_m0d5.csv', 'average_binding_states_HP1_m2d3.csv', 'average_binding_states_HP1_m2d2.csv', 'Binding_Pattern_Sim_11.png', 'average_binding_states_HP1_m2d0.csv', 'average_binding_states_HP1_m2d1.csv', 'average_binding_states_HP1_m1d4.csv', 'average_binding_states_HP1_m1d5.csv', 'average_binding_states_HP1_m1d7.csv', 'average_binding_states_HP1_m1d6.csv', 'average_binding_states_HP1_m1d2.csv', 'average_binding_states_HP1_m1d3.csv', 'average_binding_states_HP1_m1d1.csv', 'average_binding_states_HP1_m1d0.csv']\n"
     ]
    }
   ],
   "source": [
    "print(file_names)"
   ]
  },
  {
   "cell_type": "code",
   "execution_count": 5,
   "metadata": {},
   "outputs": [
    {
     "name": "stdout",
     "output_type": "stream",
     "text": [
      "['avg_binding_states/average_binding_states_HP1_m1d8.csv', 'avg_binding_states/average_binding_states_HP1_m1d9.csv', 'avg_binding_states/average_binding_states_HP1_m0d8.csv', 'avg_binding_states/average_binding_states_HP1_m0d9.csv', 'avg_binding_states/average_binding_states_HP1_m0d7.csv', 'avg_binding_states/average_binding_states_HP1_m2d5.csv', 'avg_binding_states/average_binding_states_HP1_m2d4.csv', 'avg_binding_states/average_binding_states_HP1_m0d6.csv', 'avg_binding_states/hp1_binding_pattern_sim7.png', 'avg_binding_states/average_binding_states_HP1_m0d5.csv', 'avg_binding_states/average_binding_states_HP1_m2d3.csv', 'avg_binding_states/average_binding_states_HP1_m2d2.csv', 'avg_binding_states/Binding_Pattern_Sim_11.png', 'avg_binding_states/average_binding_states_HP1_m2d0.csv', 'avg_binding_states/average_binding_states_HP1_m2d1.csv', 'avg_binding_states/average_binding_states_HP1_m1d4.csv', 'avg_binding_states/average_binding_states_HP1_m1d5.csv', 'avg_binding_states/average_binding_states_HP1_m1d7.csv', 'avg_binding_states/average_binding_states_HP1_m1d6.csv', 'avg_binding_states/average_binding_states_HP1_m1d2.csv', 'avg_binding_states/average_binding_states_HP1_m1d3.csv', 'avg_binding_states/average_binding_states_HP1_m1d1.csv', 'avg_binding_states/average_binding_states_HP1_m1d0.csv']\n"
     ]
    }
   ],
   "source": [
    "print(paths)"
   ]
  },
  {
   "cell_type": "code",
   "execution_count": 6,
   "metadata": {},
   "outputs": [
    {
     "name": "stdout",
     "output_type": "stream",
     "text": [
      "['HP1_m1d8', 'HP1_m1d9', 'HP1_m0d8', 'HP1_m0d9', 'HP1_m0d7', 'HP1_m2d5', 'HP1_m2d4', 'HP1_m0d6', 'pattern_sim7', 'HP1_m0d5', 'HP1_m2d3', 'HP1_m2d2', 'Sim_11', 'HP1_m2d0', 'HP1_m2d1', 'HP1_m1d4', 'HP1_m1d5', 'HP1_m1d7', 'HP1_m1d6', 'HP1_m1d2', 'HP1_m1d3', 'HP1_m1d1', 'HP1_m1d0']\n"
     ]
    }
   ],
   "source": [
    "specs = [\"_\".join(file.split(\"_\")[-2:]).split(\".\")[0] for file in file_names]\n",
    "print(specs)"
   ]
  },
  {
   "cell_type": "code",
   "execution_count": 7,
   "metadata": {},
   "outputs": [],
   "source": [
    "# Isolate single mark\n",
    "mark = \"HP1\"\n",
    "mark_paths = []\n",
    "mark_specs = []\n",
    "mark_chemical_potentials = []\n",
    "for i, spec in enumerate(specs):\n",
    "    if spec.startswith(mark):\n",
    "        mark_paths.append(paths[i])\n",
    "        mark_specs.append(specs[i])\n",
    "        mark_chemical_potentials.append(\n",
    "            float(specs[i].split(\"_\")[-1].replace(\"m\", \"-\").replace(\"d\", \".\"))\n",
    "        )"
   ]
  },
  {
   "cell_type": "code",
   "execution_count": 8,
   "metadata": {},
   "outputs": [
    {
     "name": "stdout",
     "output_type": "stream",
     "text": [
      "['avg_binding_states/average_binding_states_HP1_m1d8.csv', 'avg_binding_states/average_binding_states_HP1_m1d9.csv', 'avg_binding_states/average_binding_states_HP1_m0d8.csv', 'avg_binding_states/average_binding_states_HP1_m0d9.csv', 'avg_binding_states/average_binding_states_HP1_m0d7.csv', 'avg_binding_states/average_binding_states_HP1_m2d5.csv', 'avg_binding_states/average_binding_states_HP1_m2d4.csv', 'avg_binding_states/average_binding_states_HP1_m0d6.csv', 'avg_binding_states/average_binding_states_HP1_m0d5.csv', 'avg_binding_states/average_binding_states_HP1_m2d3.csv', 'avg_binding_states/average_binding_states_HP1_m2d2.csv', 'avg_binding_states/average_binding_states_HP1_m2d0.csv', 'avg_binding_states/average_binding_states_HP1_m2d1.csv', 'avg_binding_states/average_binding_states_HP1_m1d4.csv', 'avg_binding_states/average_binding_states_HP1_m1d5.csv', 'avg_binding_states/average_binding_states_HP1_m1d7.csv', 'avg_binding_states/average_binding_states_HP1_m1d6.csv', 'avg_binding_states/average_binding_states_HP1_m1d2.csv', 'avg_binding_states/average_binding_states_HP1_m1d3.csv', 'avg_binding_states/average_binding_states_HP1_m1d1.csv', 'avg_binding_states/average_binding_states_HP1_m1d0.csv']\n"
     ]
    }
   ],
   "source": [
    "print(mark_paths)"
   ]
  },
  {
   "cell_type": "code",
   "execution_count": 9,
   "metadata": {},
   "outputs": [
    {
     "name": "stdout",
     "output_type": "stream",
     "text": [
      "[-1.8, -1.9, -0.8, -0.9, -0.7, -2.5, -2.4, -0.6, -0.5, -2.3, -2.2, -2.0, -2.1, -1.4, -1.5, -1.7, -1.6, -1.2, -1.3, -1.1, -1.0]\n"
     ]
    }
   ],
   "source": [
    "print(mark_chemical_potentials)"
   ]
  },
  {
   "cell_type": "code",
   "execution_count": 10,
   "metadata": {},
   "outputs": [],
   "source": [
    "binding_patterns = {}\n",
    "for i, chemical_potential in enumerate(mark_chemical_potentials):\n",
    "    path = mark_paths[i]\n",
    "    binding_pattern = pd.read_csv(path, header=None).to_numpy().flatten()\n",
    "    binding_patterns[chemical_potential] = binding_pattern"
   ]
  },
  {
   "cell_type": "code",
   "execution_count": 11,
   "metadata": {},
   "outputs": [
    {
     "name": "stdout",
     "output_type": "stream",
     "text": [
      "{-1.8: array([1.78125, 1.625  , 1.5    , ..., 1.25   , 1.53125, 1.09375]), -1.9: array([1.70588235, 1.35294118, 1.82352941, ..., 1.64705882, 1.41176471,\n",
      "       1.47058824]), -0.8: array([1.58823529, 1.47058824, 1.64705882, ..., 1.47058824, 1.32352941,\n",
      "       1.38235294]), -0.9: array([1.78787879, 1.45454545, 1.45454545, ..., 1.63636364, 1.57575758,\n",
      "       1.21212121]), -0.7: array([1.74285714, 1.65714286, 1.51428571, ..., 1.25714286, 1.74285714,\n",
      "       1.45714286]), -2.5: array([1.67647059, 1.52941176, 1.52941176, ..., 1.5       , 1.44117647,\n",
      "       1.17647059]), -2.4: array([1.62857143, 1.54285714, 1.37142857, ..., 1.48571429, 1.42857143,\n",
      "       1.37142857]), -0.6: array([1.73529412, 1.61764706, 1.17647059, ..., 1.52941176, 1.26470588,\n",
      "       1.52941176]), -0.5: array([1.74285714, 1.25714286, 1.57142857, ..., 1.65714286, 1.48571429,\n",
      "       1.31428571]), -2.3: array([1.41176471, 1.64705882, 1.58823529, ..., 1.64705882, 1.38235294,\n",
      "       1.47058824]), -2.2: array([1.8125 , 1.625  , 1.53125, ..., 1.4375 , 1.5625 , 1.     ]), -2.0: array([1.68571429, 1.51428571, 1.71428571, ..., 1.57142857, 1.54285714,\n",
      "       1.28571429]), -2.1: array([1.73333333, 1.3       , 1.6       , ..., 1.43333333, 1.26666667,\n",
      "       1.43333333]), -1.4: array([1.78787879, 1.63636364, 1.60606061, ..., 1.63636364, 1.45454545,\n",
      "       1.27272727]), -1.5: array([1.82857143, 1.42857143, 1.34285714, ..., 1.65714286, 1.48571429,\n",
      "       1.25714286]), -1.7: array([1.53125, 1.5    , 1.5    , ..., 1.34375, 1.5    , 1.0625 ]), -1.6: array([1.74285714, 1.31428571, 1.6       , ..., 1.82857143, 1.77142857,\n",
      "       1.65714286]), -1.2: array([1.97058824, 1.17647059, 1.41176471, ..., 1.47058824, 1.14705882,\n",
      "       1.05882353]), -1.3: array([1.85294118, 1.35294118, 1.64705882, ..., 1.58823529, 1.47058824,\n",
      "       1.41176471]), -1.1: array([1.94117647, 1.64705882, 1.47058824, ..., 1.35294118, 1.41176471,\n",
      "       1.47058824]), -1.0: array([1.70588235, 1.47058824, 1.58823529, ..., 1.70588235, 1.58823529,\n",
      "       1.35294118])}\n"
     ]
    }
   ],
   "source": [
    "print(binding_patterns)"
   ]
  },
  {
   "cell_type": "markdown",
   "metadata": {},
   "source": [
    "### Calculate fraction bound"
   ]
  },
  {
   "cell_type": "code",
   "execution_count": 12,
   "metadata": {},
   "outputs": [],
   "source": [
    "fraction_bound = {}\n",
    "for chemical_potential in binding_patterns.keys():\n",
    "    binding_pattern = binding_patterns[chemical_potential]\n",
    "    fraction_bound[chemical_potential] = np.sum(binding_pattern) / (2 * len(binding_pattern))"
   ]
  },
  {
   "cell_type": "code",
   "execution_count": 13,
   "metadata": {},
   "outputs": [
    {
     "name": "stdout",
     "output_type": "stream",
     "text": [
      "{-1.8: 0.66519625, -1.9: 0.7050111764705883, -0.8: 0.7122658823529413, -0.9: 0.7234890909090909, -0.7: 0.7218291428571427, -2.5: 0.7130629411764706, -2.4: 0.6882851428571426, -0.6: 0.6896694117647059, -0.5: 0.7245342857142855, -2.3: 0.720704705882353, -2.2: 0.67482125, -2.0: 0.6753737142857142, -2.1: 0.7209253333333333, -1.4: 0.6900230303030302, -1.5: 0.7062257142857142, -1.7: 0.662095625, -1.6: 0.7112622857142857, -1.2: 0.6887841176470587, -1.3: 0.7067441176470589, -1.1: 0.6777929411764706, -1.0: 0.6929847058823528}\n"
     ]
    }
   ],
   "source": [
    "print(fraction_bound)"
   ]
  },
  {
   "cell_type": "markdown",
   "metadata": {},
   "source": [
    "### Plot isotherm"
   ]
  },
  {
   "cell_type": "code",
   "execution_count": 14,
   "metadata": {},
   "outputs": [],
   "source": [
    "chemical_potentials = list(fraction_bound.keys())\n",
    "fraction_occupancy = list(fraction_bound.values())"
   ]
  },
  {
   "cell_type": "code",
   "execution_count": 15,
   "metadata": {},
   "outputs": [
    {
     "name": "stdout",
     "output_type": "stream",
     "text": [
      "[-1.8, -1.9, -0.8, -0.9, -0.7, -2.5, -2.4, -0.6, -0.5, -2.3, -2.2, -2.0, -2.1, -1.4, -1.5, -1.7, -1.6, -1.2, -1.3, -1.1, -1.0]\n"
     ]
    }
   ],
   "source": [
    "print(chemical_potentials)"
   ]
  },
  {
   "cell_type": "code",
   "execution_count": 16,
   "metadata": {},
   "outputs": [
    {
     "name": "stdout",
     "output_type": "stream",
     "text": [
      "[0.66519625, 0.7050111764705883, 0.7122658823529413, 0.7234890909090909, 0.7218291428571427, 0.7130629411764706, 0.6882851428571426, 0.6896694117647059, 0.7245342857142855, 0.720704705882353, 0.67482125, 0.6753737142857142, 0.7209253333333333, 0.6900230303030302, 0.7062257142857142, 0.662095625, 0.7112622857142857, 0.6887841176470587, 0.7067441176470589, 0.6777929411764706, 0.6929847058823528]\n"
     ]
    }
   ],
   "source": [
    "print(fraction_occupancy)"
   ]
  },
  {
   "cell_type": "code",
   "execution_count": 18,
   "metadata": {},
   "outputs": [
    {
     "data": {
      "image/png": "[encoded data removed]",
      "text/plain": [
       "<Figure size 576x432 with 1 Axes>"
      ]
     },
     "metadata": {
      "needs_background": "light"
     },
     "output_type": "display_data"
    }
   ],
   "source": [
    "plt.figure(figsize=(8, 6))\n",
    "plt.scatter(chemical_potentials, fraction_occupancy)\n",
    "plt.xlabel(\"Chemical Potential\")\n",
    "plt.ylabel(\"Fraction Occupancy\")\n",
    "plt.ylim(0, 1)\n",
    "plt.tight_layout()\n",
    "plt.show()"
   ]
  },
  {
   "cell_type": "code",
   "execution_count": null,
   "metadata": {},
   "outputs": [],
   "source": []
  }
 ],
 "metadata": {
  "kernelspec": {
   "display_name": "Python 3",
   "language": "python",
   "name": "python3"
  },
  "language_info": {
   "codemirror_mode": {
    "name": "ipython",
    "version": 3
   },
   "file_extension": ".py",
   "mimetype": "text/x-python",
   "name": "python",
   "nbconvert_exporter": "python",
   "pygments_lexer": "ipython3",
   "version": "3.7.3"
  }
 },
 "nbformat": 4,
 "nbformat_minor": 2
}
