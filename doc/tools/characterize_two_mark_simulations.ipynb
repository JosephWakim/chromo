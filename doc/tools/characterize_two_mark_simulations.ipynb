{
 "cells": [
  {
   "cell_type": "markdown",
   "metadata": {},
   "source": [
    "### Import Modules"
   ]
  },
  {
   "cell_type": "code",
   "execution_count": 1,
   "metadata": {},
   "outputs": [],
   "source": [
    "import os\n",
    "import sys\n",
    "import json\n",
    "import subprocess\n",
    "\n",
    "import cv2 as cv\n",
    "import numpy as np\n",
    "import pandas as pd\n",
    "import matplotlib.pyplot as plt\n",
    "from mpl_toolkits.axes_grid1 import ImageGrid\n",
    "\n",
    "from visualizing_chromatin_HP1_PRC1 import generate_PDB"
   ]
  },
  {
   "cell_type": "markdown",
   "metadata": {},
   "source": [
    "### Load PyMol"
   ]
  },
  {
   "cell_type": "code",
   "execution_count": 2,
   "metadata": {},
   "outputs": [],
   "source": [
    "#import __main__\n",
    "#__main__.pymol_argv = [ 'pymol', '-qc'] # Quiet and no GUI\n",
    "import pymol"
   ]
  },
  {
   "cell_type": "markdown",
   "metadata": {},
   "source": [
    "### Identify Output Directories"
   ]
  },
  {
   "cell_type": "code",
   "execution_count": 3,
   "metadata": {},
   "outputs": [],
   "source": [
    "### UPDATE THESE VALUES\n",
    "out_path = \"../../output\"\n",
    "polymer_prefix = \"Chr-1\"\n",
    "sim_range_inclusive = (45, 84)\n",
    "confine_radius = 452.5731490338889\n",
    "###\n",
    "\n",
    "all_content = os.listdir(out_path)\n",
    "all_content_paths = [f\"{out_path}/{item}\" for item in all_content]\n",
    "sim_paths = [path for path in all_content_paths if os.path.isdir(path)]\n",
    "sim_dict = {int(path.split(\"_\")[-1]): path for path in sim_paths}"
   ]
  },
  {
   "cell_type": "markdown",
   "metadata": {},
   "source": [
    "### Filter Output Directories"
   ]
  },
  {
   "cell_type": "code",
   "execution_count": 4,
   "metadata": {},
   "outputs": [],
   "source": [
    "sims = {key: sim_dict[key] for key in sim_dict.keys() if key <= sim_range_inclusive[1] and key >= sim_range_inclusive[0]}"
   ]
  },
  {
   "cell_type": "markdown",
   "metadata": {},
   "source": [
    "### Identify Latest Configuration in Each Sim"
   ]
  },
  {
   "cell_type": "code",
   "execution_count": 5,
   "metadata": {},
   "outputs": [],
   "source": [
    "latest_files = {}\n",
    "for sim in sims.keys():\n",
    "    files = os.listdir(sims[sim])\n",
    "    files = [file for file in files if file.endswith(\".csv\") and file.startswith(polymer_prefix)]\n",
    "    file_inds = [int(file.split(\".\")[0].split(\"-\")[-1]) for file in files]\n",
    "    latest_files[sim] = f\"{sims[sim]}/{files[np.argmax(file_inds)]}\""
   ]
  },
  {
   "cell_type": "markdown",
   "metadata": {},
   "source": [
    "### Characterize Interactions"
   ]
  },
  {
   "cell_type": "code",
   "execution_count": 6,
   "metadata": {},
   "outputs": [],
   "source": [
    "binders_paths = {key: f\"{sims[key]}/binders\" for key in sims.keys()}"
   ]
  },
  {
   "cell_type": "code",
   "execution_count": 7,
   "metadata": {},
   "outputs": [
    {
     "data": {
      "text/html": [
       "<div>\n",
       "<style scoped>\n",
       "    .dataframe tbody tr th:only-of-type {\n",
       "        vertical-align: middle;\n",
       "    }\n",
       "\n",
       "    .dataframe tbody tr th {\n",
       "        vertical-align: top;\n",
       "    }\n",
       "\n",
       "    .dataframe thead th {\n",
       "        text-align: right;\n",
       "    }\n",
       "</style>\n",
       "<table border=\"1\" class=\"dataframe\">\n",
       "  <thead>\n",
       "    <tr style=\"text-align: right;\">\n",
       "      <th></th>\n",
       "      <th>output_dir</th>\n",
       "      <th>latest_snapshot</th>\n",
       "      <th>self_interaction</th>\n",
       "      <th>cross_interaction</th>\n",
       "      <th>chemical_potential</th>\n",
       "      <th>pdb_path</th>\n",
       "      <th>pdb_save_path</th>\n",
       "    </tr>\n",
       "  </thead>\n",
       "  <tbody>\n",
       "    <tr>\n",
       "      <th>sim_45</th>\n",
       "      <td>../../output/sim_45</td>\n",
       "      <td>../../output/sim_45/Chr-1-86.csv</td>\n",
       "      <td>-4.0</td>\n",
       "      <td>0.0</td>\n",
       "      <td>-1.2</td>\n",
       "      <td>../../output/sim_45/Chr-1-86_self_m4d0_cross_0...</td>\n",
       "      <td>../../output/sim_45/Chr-1-86_self_m4d0_cross_0...</td>\n",
       "    </tr>\n",
       "    <tr>\n",
       "      <th>sim_46</th>\n",
       "      <td>../../output/sim_46</td>\n",
       "      <td>../../output/sim_46/Chr-1-89.csv</td>\n",
       "      <td>-4.0</td>\n",
       "      <td>2.0</td>\n",
       "      <td>-1.2</td>\n",
       "      <td>../../output/sim_46/Chr-1-89_self_m4d0_cross_2...</td>\n",
       "      <td>../../output/sim_46/Chr-1-89_self_m4d0_cross_2...</td>\n",
       "    </tr>\n",
       "    <tr>\n",
       "      <th>sim_47</th>\n",
       "      <td>../../output/sim_47</td>\n",
       "      <td>../../output/sim_47/Chr-1-84.csv</td>\n",
       "      <td>-4.0</td>\n",
       "      <td>1.0</td>\n",
       "      <td>-0.4</td>\n",
       "      <td>../../output/sim_47/Chr-1-84_self_m4d0_cross_1...</td>\n",
       "      <td>../../output/sim_47/Chr-1-84_self_m4d0_cross_1...</td>\n",
       "    </tr>\n",
       "    <tr>\n",
       "      <th>sim_48</th>\n",
       "      <td>../../output/sim_48</td>\n",
       "      <td>../../output/sim_48/Chr-1-88.csv</td>\n",
       "      <td>-4.0</td>\n",
       "      <td>-1.0</td>\n",
       "      <td>-1.6</td>\n",
       "      <td>../../output/sim_48/Chr-1-88_self_m4d0_cross_m...</td>\n",
       "      <td>../../output/sim_48/Chr-1-88_self_m4d0_cross_m...</td>\n",
       "    </tr>\n",
       "    <tr>\n",
       "      <th>sim_49</th>\n",
       "      <td>../../output/sim_49</td>\n",
       "      <td>../../output/sim_49/Chr-1-89.csv</td>\n",
       "      <td>-4.0</td>\n",
       "      <td>-1.0</td>\n",
       "      <td>-0.4</td>\n",
       "      <td>../../output/sim_49/Chr-1-89_self_m4d0_cross_m...</td>\n",
       "      <td>../../output/sim_49/Chr-1-89_self_m4d0_cross_m...</td>\n",
       "    </tr>\n",
       "  </tbody>\n",
       "</table>\n",
       "</div>"
      ],
      "text/plain": [
       "                 output_dir                   latest_snapshot  \\\n",
       "sim_45  ../../output/sim_45  ../../output/sim_45/Chr-1-86.csv   \n",
       "sim_46  ../../output/sim_46  ../../output/sim_46/Chr-1-89.csv   \n",
       "sim_47  ../../output/sim_47  ../../output/sim_47/Chr-1-84.csv   \n",
       "sim_48  ../../output/sim_48  ../../output/sim_48/Chr-1-88.csv   \n",
       "sim_49  ../../output/sim_49  ../../output/sim_49/Chr-1-89.csv   \n",
       "\n",
       "        self_interaction  cross_interaction  chemical_potential  \\\n",
       "sim_45              -4.0                0.0                -1.2   \n",
       "sim_46              -4.0                2.0                -1.2   \n",
       "sim_47              -4.0                1.0                -0.4   \n",
       "sim_48              -4.0               -1.0                -1.6   \n",
       "sim_49              -4.0               -1.0                -0.4   \n",
       "\n",
       "                                                 pdb_path  \\\n",
       "sim_45  ../../output/sim_45/Chr-1-86_self_m4d0_cross_0...   \n",
       "sim_46  ../../output/sim_46/Chr-1-89_self_m4d0_cross_2...   \n",
       "sim_47  ../../output/sim_47/Chr-1-84_self_m4d0_cross_1...   \n",
       "sim_48  ../../output/sim_48/Chr-1-88_self_m4d0_cross_m...   \n",
       "sim_49  ../../output/sim_49/Chr-1-89_self_m4d0_cross_m...   \n",
       "\n",
       "                                            pdb_save_path  \n",
       "sim_45  ../../output/sim_45/Chr-1-86_self_m4d0_cross_0...  \n",
       "sim_46  ../../output/sim_46/Chr-1-89_self_m4d0_cross_2...  \n",
       "sim_47  ../../output/sim_47/Chr-1-84_self_m4d0_cross_1...  \n",
       "sim_48  ../../output/sim_48/Chr-1-88_self_m4d0_cross_m...  \n",
       "sim_49  ../../output/sim_49/Chr-1-89_self_m4d0_cross_m...  "
      ]
     },
     "execution_count": 7,
     "metadata": {},
     "output_type": "execute_result"
    }
   ],
   "source": [
    "self_interact = {}\n",
    "cross_interact = {}\n",
    "chemical_potential = {}\n",
    "\n",
    "for sim in binders_paths.keys():\n",
    "    df_binders = pd.read_csv(binders_paths[sim], index_col=\"name\")\n",
    "\n",
    "    if df_binders.loc[\"HP1\", \"interaction_energy\"] != df_binders.loc[\"PRC1\", \"interaction_energy\"]:\n",
    "        raise ValueError(\"Non-uniform interaction energies\")\n",
    "    if df_binders.loc[\"HP1\", \"chemical_potential\"] != df_binders.loc[\"PRC1\", \"chemical_potential\"]:\n",
    "        raise ValueError(\"Non-uniform interaction energies\")\n",
    "        \n",
    "    self_interact[sim] = df_binders.loc[\"HP1\", \"interaction_energy\"]\n",
    "    cross_interact[sim] = json.loads(df_binders.loc[\"HP1\", \"cross_talk_interaction_energy\"].replace(\"'\", \"\\\"\"))[\"PRC1\"]\n",
    "    chemical_potential[sim] = df_binders.loc[\"HP1\", \"chemical_potential\"]\n",
    "\n",
    "all_data = {}\n",
    "for key in self_interact.keys():\n",
    "    \n",
    "    str_self = str(self_interact[key]).replace(\"-\", \"m\").replace(\".\", \"d\")\n",
    "    str_cross = str(cross_interact[key]).replace(\"-\", \"m\").replace(\".\", \"d\")\n",
    "    str_cp = str(chemical_potential[key]).replace(\"-\", \"m\").replace(\".\", \"d\")\n",
    "    pdb_suffix = f\"_self_{str_self}_cross_{str_cross}_cp_{str_cp}.pdb\"\n",
    "    pdb_save_suffix = f\"_self_{str_self}_cross_{str_cross}_cp_{str_cp}.png\"\n",
    "\n",
    "    all_data[f\"sim_{key}\"] = [\n",
    "        sims[key],\n",
    "        latest_files[key],\n",
    "        self_interact[key],\n",
    "        cross_interact[key],\n",
    "        chemical_potential[key],\n",
    "        latest_files[key].replace(\".csv\", pdb_suffix),\n",
    "        latest_files[key].replace(\".csv\", pdb_save_suffix)\n",
    "    ]\n",
    "\n",
    "parameters = pd.DataFrame.from_dict(\n",
    "    all_data,\n",
    "    orient='index',\n",
    "    columns=[\n",
    "        \"output_dir\",\n",
    "        \"latest_snapshot\",\n",
    "        \"self_interaction\",\n",
    "        \"cross_interaction\",\n",
    "        \"chemical_potential\",\n",
    "        \"pdb_path\",\n",
    "        \"pdb_save_path\"\n",
    "    ]\n",
    ").sort_index()\n",
    "\n",
    "parameters.head()"
   ]
  },
  {
   "cell_type": "code",
   "execution_count": 8,
   "metadata": {},
   "outputs": [],
   "source": [
    "parameters_dict = parameters.to_dict(\"records\")"
   ]
  },
  {
   "cell_type": "markdown",
   "metadata": {},
   "source": [
    "### Save PDB Files"
   ]
  },
  {
   "cell_type": "code",
   "execution_count": 9,
   "metadata": {},
   "outputs": [],
   "source": [
    "# Make sure `visualizing_chromatin_HP1_PRC1.py` is in the same directory as this notebook!\n",
    "for i in range(len(parameters_dict)):\n",
    "    generate_PDB(\n",
    "        f\"{parameters_dict[i]['latest_snapshot']}\",\n",
    "        f\"{parameters_dict[i]['pdb_path']}\",\n",
    "        f\"{confine_radius}\"\n",
    "    )"
   ]
  },
  {
   "cell_type": "markdown",
   "metadata": {},
   "source": [
    "### Render Configurations in PyMol"
   ]
  },
  {
   "cell_type": "code",
   "execution_count": null,
   "metadata": {},
   "outputs": [
    {
     "name": "stdout",
     "output_type": "stream",
     "text": [
      " PyMOL not running, entering library mode (experimental)\n"
     ]
    }
   ],
   "source": [
    "for i in range(len(parameters_dict)):\n",
    "    pymol.cmd.reinitialize()\n",
    "    pymol.cmd.load(f\"{parameters_dict[i]['pdb_path']}\")\n",
    "    pymol.cmd.show_as(\"spheres\", \"all\")\n",
    "    pymol.cmd.png(f\"{parameters_dict[i]['pdb_save_path']}\")\n",
    "    pymol.cmd.delete(\"all\")\n",
    "pymol.cmd.quit()"
   ]
  },
  {
   "cell_type": "markdown",
   "metadata": {},
   "source": [
    "### Create a Grid of Configurations"
   ]
  },
  {
   "cell_type": "code",
   "execution_count": null,
   "metadata": {},
   "outputs": [],
   "source": [
    "rows = [\"m0d4\", \"m0d8\", \"m1d2\", \"m1d6\"]\n",
    "columns = [\"m2d0\", \"m1d0\", \"m0d5\", \"m0d25\", \"0d0\", \"0d25\", \"0d5\", \"1d0\", \"2d0\"]\n",
    "\n",
    "column_headers = [col.replace(\"m\", \"-\").replace(\"d\", \".\") for col in columns]\n",
    "row_headers = [row.replace(\"m\", \"-\").replace(\"d\", \".\") for row in rows]\n",
    "\n",
    "\n",
    "def row_cp_col_cross(file_path, rows, columns):\n",
    "    \"\"\"Get the row and column position of a configuration in an array of chemical potentials and cross-interactions.\n",
    "\n",
    "    Each row corresponds to a common chemical potential and each column corresponds to a common cross-interaction.\n",
    "    \"\"\"\n",
    "    pdb_file = file_path.split(\".\")[-2].split(\"/\")[-1]\n",
    "    meta_data = pdb_file.split(\"_\")[1:]\n",
    "    \n",
    "    self = meta_data[meta_data.index(\"self\")+1]\n",
    "    cross = meta_data[meta_data.index(\"cross\")+1]\n",
    "    cp = meta_data[meta_data.index(\"cp\")+1]\n",
    "    \n",
    "    return (rows.index(cp), columns.index(cross))\n",
    "\n",
    "\n",
    "fig = plt.figure(figsize=(64,48))\n",
    "grid = ImageGrid(\n",
    "    fig, 111,                  \n",
    "    nrows_ncols=(len(rows), len(columns)),\n",
    "    axes_pad=0.1,\n",
    "    share_all=True\n",
    ")   \n",
    "\n",
    "for i in range(len(parameters_dict)):\n",
    "    image_file = f\"{parameters_dict[i]['pdb_save_path']}\"\n",
    "    img = cv.imread(image_file)\n",
    "    try:\n",
    "        ax = grid[i]\n",
    "        ax.imshow(img)\n",
    "    except:\n",
    "        print(\"Error loading file: \" + image_file)\n",
    "\n",
    "plt.savefig(\"../../output/Configuration_Array.png\", dpi=300)\n",
    "    "
   ]
  },
  {
   "cell_type": "code",
   "execution_count": null,
   "metadata": {},
   "outputs": [],
   "source": []
  }
 ],
 "metadata": {
  "kernelspec": {
   "display_name": "Python 3 (ipykernel)",
   "language": "python",
   "name": "python3"
  },
  "language_info": {
   "codemirror_mode": {
    "name": "ipython",
    "version": 3
   },
   "file_extension": ".py",
   "mimetype": "text/x-python",
   "name": "python",
   "nbconvert_exporter": "python",
   "pygments_lexer": "ipython3",
   "version": "3.7.6"
  }
 },
 "nbformat": 4,
 "nbformat_minor": 4
}
