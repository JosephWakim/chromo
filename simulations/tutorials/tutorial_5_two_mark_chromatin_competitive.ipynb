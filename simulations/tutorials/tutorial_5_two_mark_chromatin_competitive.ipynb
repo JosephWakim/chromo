{
 "cells": [
  {
   "cell_type": "markdown",
   "source": [
    "# Tutorial 5: Two-Mark Chromatin with Competitive Binding\n",
    "\n",
    "In `tutorial_4`, we introduced a model of chromatin with two epigenetic marks and their reader proteins. We assume that each reader protein binds its respective epigenetic mark without directly interfering with the binding of the other reader. In this tutorial, we will add a constraint on the reader protein binding. We will assume that a maximum of two reader proteins can bind each nucleosome at a time. This demonstration almost directly follows the previous tutorial, with the addition of the constraint on the reader protein binding. The descriptions included in this notebook will only highlight differences associated with the binding constraint.  "
   ],
   "metadata": {
    "collapsed": false
   },
   "id": "2b296fce9a4c6c8b"
  },
  {
   "cell_type": "markdown",
   "source": [
    "#### Import Modules"
   ],
   "metadata": {
    "collapsed": false
   },
   "id": "a9e7273045e1037f"
  },
  {
   "cell_type": "code",
   "outputs": [],
   "source": [
    "# Built-in modules\n",
    "import os\n",
    "import sys\n",
    "from inspect import getmembers, isfunction\n",
    "\n",
    "# Third-party modules\n",
    "import numpy as np\n",
    "import pandas as pd\n",
    "import matplotlib.pyplot as plt\n",
    "\n",
    "# Custom modules\n",
    "from chromo.binders import get_by_name, make_binder_collection\n",
    "from chromo.polymers import Chromatin\n",
    "from chromo.fields import UniformDensityField\n",
    "import chromo.mc as mc\n",
    "import chromo.mc.mc_controller as ctrl\n",
    "from chromo.util.reproducibility import get_unique_subfolder_name\n",
    "import chromo.util.mu_schedules as ms"
   ],
   "metadata": {
    "collapsed": false,
    "ExecuteTime": {
     "end_time": "2024-07-03T21:45:09.652268Z",
     "start_time": "2024-07-03T21:45:08.831113Z"
    }
   },
   "id": "4bececc8d946b41d",
   "execution_count": 1
  },
  {
   "cell_type": "markdown",
   "source": [
    "#### Specify Binders"
   ],
   "metadata": {
    "collapsed": false
   },
   "id": "45e0236b607bbe55"
  },
  {
   "cell_type": "code",
   "outputs": [],
   "source": [
    "# Instantiate HP1 and PRC1 reader proteins\n",
    "hp1 = get_by_name('HP1')\n",
    "prc1 = get_by_name('PRC1')"
   ],
   "metadata": {
    "collapsed": false,
    "ExecuteTime": {
     "end_time": "2024-07-03T21:45:11.753345Z",
     "start_time": "2024-07-03T21:45:11.751467Z"
    }
   },
   "id": "98a4a592d7643e5e",
   "execution_count": 2
  },
  {
   "cell_type": "markdown",
   "source": [
    "In this demonstration, we will increase the chemical potentials of the reader proteins to force competition for binding sites."
   ],
   "metadata": {
    "collapsed": false
   },
   "id": "289fa3b6d89ca428"
  },
  {
   "cell_type": "code",
   "outputs": [],
   "source": [
    "# Set the HP1-PRC1 cross interaction to 1.0 kT\n",
    "hp1.cross_talk_interaction_energy[\"PRC1\"] = 1.0\n",
    "\n",
    "# Set the HP1 and PRC1 chemical potentials to 1.0 kT\n",
    "hp1.chemical_potential = 1.0\n",
    "prc1.chemical_potential = 1.0"
   ],
   "metadata": {
    "collapsed": false,
    "ExecuteTime": {
     "end_time": "2024-07-03T21:45:12.724172Z",
     "start_time": "2024-07-03T21:45:12.722269Z"
    }
   },
   "id": "3f7232ce6ee1e13b",
   "execution_count": 3
  },
  {
   "cell_type": "code",
   "outputs": [],
   "source": [
    "# Create a binder collection with the HP1 and PRC1 reader proteins\n",
    "binder_collection = make_binder_collection([hp1, prc1])"
   ],
   "metadata": {
    "collapsed": false,
    "ExecuteTime": {
     "end_time": "2024-07-03T21:45:13.258043Z",
     "start_time": "2024-07-03T21:45:13.248770Z"
    }
   },
   "id": "56c348cd85090d35",
   "execution_count": 4
  },
  {
   "cell_type": "markdown",
   "source": [
    "#### Specify the Confinement"
   ],
   "metadata": {
    "collapsed": false
   },
   "id": "ff74fb440f99be89"
  },
  {
   "cell_type": "code",
   "outputs": [],
   "source": [
    "confine_type = \"Spherical\"\n",
    "confine_radius = 200.0"
   ],
   "metadata": {
    "collapsed": false,
    "ExecuteTime": {
     "end_time": "2024-07-03T21:45:14.144582Z",
     "start_time": "2024-07-03T21:45:14.142848Z"
    }
   },
   "id": "3221ef96e1a4e0c6",
   "execution_count": 5
  },
  {
   "cell_type": "markdown",
   "source": [
    "#### Instantiate Epigenetic Mark Pattern"
   ],
   "metadata": {
    "collapsed": false
   },
   "id": "3b3743be8c6064ed"
  },
  {
   "cell_type": "code",
   "outputs": [
    {
     "name": "stdout",
     "output_type": "stream",
     "text": [
      "Shape of mark pattern: (1000, 2)\n"
     ]
    }
   ],
   "source": [
    "num_beads = 1000\n",
    "mark_pattern = np.zeros((num_beads, 2), dtype=int)\n",
    "mark_names = np.array([\"H3K9me3\", \"H3K27me3\"])\n",
    "mark_pattern[:500, 0] = 2\n",
    "mark_pattern[500:, 1] = 2\n",
    "print(\"Shape of mark pattern:\", mark_pattern.shape)"
   ],
   "metadata": {
    "collapsed": false,
    "ExecuteTime": {
     "end_time": "2024-07-03T21:45:15.061185Z",
     "start_time": "2024-07-03T21:45:15.058926Z"
    }
   },
   "id": "f3c443113199c929",
   "execution_count": 6
  },
  {
   "cell_type": "markdown",
   "source": [
    "#### Specify Initial Reader Protein Binding States"
   ],
   "metadata": {
    "collapsed": false
   },
   "id": "b0394d4ca8eda3be"
  },
  {
   "cell_type": "code",
   "outputs": [],
   "source": [
    "binder_names = np.array([hp1.name, prc1.name])\n",
    "states = np.zeros((num_beads, 2), dtype=int)"
   ],
   "metadata": {
    "collapsed": false,
    "ExecuteTime": {
     "end_time": "2024-07-03T21:45:16.190355Z",
     "start_time": "2024-07-03T21:45:16.188308Z"
    }
   },
   "id": "d8f4eeb964d1b597",
   "execution_count": 7
  },
  {
   "cell_type": "markdown",
   "source": [
    "#### Instantiate the Polymer\n",
    "\n",
    "We specify the maximum number of binders on each nucleosome using the `max_binders` named argument when we instantiate our polymer. By default, `max_binders=-1` to indicate that there is no direct competition for binding sites. In this case, we will set `max_binders=2` to indicate that a maximum of two reader proteins can bind each nucleosome at a time."
   ],
   "metadata": {
    "collapsed": false
   },
   "id": "d39844c4211409a5"
  },
  {
   "cell_type": "code",
   "outputs": [],
   "source": [
    "# Specify the name, number of beads, and bead spacing of the chromatin fiber\n",
    "name = \"Chr\"\n",
    "bead_spacing = np.ones(num_beads - 1) * 16.5\n",
    "\n",
    "# Instantiate the chromatin fiber\n",
    "poly = Chromatin.confined_gaussian_walk(\n",
    "    name,\n",
    "    num_beads,\n",
    "    bead_spacing,\n",
    "    confine_type=confine_type,\n",
    "    confine_length=confine_radius,\n",
    "    states=states,\n",
    "    binder_names=binder_names,\n",
    "    chemical_mods=mark_pattern,\n",
    "    chemical_mod_names=mark_names,\n",
    "    max_binders=2\n",
    ")"
   ],
   "metadata": {
    "collapsed": false,
    "ExecuteTime": {
     "end_time": "2024-07-03T21:45:17.701873Z",
     "start_time": "2024-07-03T21:45:17.625099Z"
    }
   },
   "id": "bfd8802c9ded69f6",
   "execution_count": 8
  },
  {
   "cell_type": "markdown",
   "source": [
    "#### Specify the Uniform Density Field"
   ],
   "metadata": {
    "collapsed": false
   },
   "id": "ef7a29ca994c6fb1"
  },
  {
   "cell_type": "code",
   "outputs": [],
   "source": [
    " # Specify the dimensions of the field\n",
    "n_accessible = int(np.round((63 * confine_radius) / 900))\n",
    "n_buffer = 2\n",
    "n_bins_x = n_accessible + n_buffer\n",
    "x_width = 2 * confine_radius * (1 + n_buffer/n_accessible)\n",
    "n_bins_y = n_bins_x\n",
    "y_width = x_width\n",
    "n_bins_z = n_bins_x\n",
    "z_width = x_width\n",
    "\n",
    "# Initialize the uniform density field\n",
    "udf = UniformDensityField(\n",
    "    [poly],\n",
    "    binder_collection,\n",
    "    x_width,\n",
    "    n_bins_x,\n",
    "    y_width,\n",
    "    n_bins_y,\n",
    "    z_width,\n",
    "    n_bins_z,\n",
    "    confine_type=confine_type,\n",
    "    confine_length=confine_radius,\n",
    "    chi=1,\n",
    "    assume_fully_accessible=1,\n",
    "    fast_field=0\n",
    ")"
   ],
   "metadata": {
    "collapsed": false,
    "ExecuteTime": {
     "end_time": "2024-07-03T21:45:18.729490Z",
     "start_time": "2024-07-03T21:45:18.717931Z"
    }
   },
   "id": "a190adaba56bf3f9",
   "execution_count": 9
  },
  {
   "cell_type": "markdown",
   "source": [
    "#### Specify the Simulation Parameters\n",
    "\n",
    "For the purposes of this demonstration, I will reduce the number of mc steps per snapshot. This will allow us to run the simulation faster. For more rigorous simulations, increase the number of mc steps per snapshot to ensure that the system reaches equilibrium."
   ],
   "metadata": {
    "collapsed": false
   },
   "id": "758cdf2a6f6a8233"
  },
  {
   "cell_type": "code",
   "outputs": [],
   "source": [
    "amp_bead_bounds, amp_move_bounds = mc.get_amplitude_bounds(\n",
    "    polymers = [poly]\n",
    ")"
   ],
   "metadata": {
    "collapsed": false,
    "ExecuteTime": {
     "end_time": "2024-07-03T21:45:21.502282Z",
     "start_time": "2024-07-03T21:45:21.499354Z"
    }
   },
   "id": "48603189e99e4c4e",
   "execution_count": 10
  },
  {
   "cell_type": "code",
   "outputs": [],
   "source": [
    "# Specify the number of snapshots and the number of MC steps to attempt per snapshot\n",
    "num_snapshots = 200\n",
    "mc_steps_per_snapshot = 200  # Reduce the number of MC steps per snapshot to speed up the simulation\n",
    "# TODO: If you want to run a more rigorous simulation, increase the number of MC steps per snapshot"
   ],
   "metadata": {
    "collapsed": false,
    "ExecuteTime": {
     "end_time": "2024-07-03T21:45:21.955525Z",
     "start_time": "2024-07-03T21:45:21.952690Z"
    }
   },
   "id": "f6c5c93e5153b197",
   "execution_count": 11
  },
  {
   "cell_type": "code",
   "outputs": [],
   "source": [
    "# Create a list of simulated annealing schedules, which are defined in another file\n",
    "schedules = [func[0] for func in getmembers(ms, isfunction)]\n",
    "\n",
    "# Select a schedule for slowly adding HP1 into the system\n",
    "select_schedule = \"linear_step_for_negative_cp\"\n",
    "mu_schedules = [\n",
    "    ms.Schedule(getattr(ms, func_name)) for func_name in schedules\n",
    "]\n",
    "mu_schedules = [sch for sch in mu_schedules if sch.name == select_schedule]"
   ],
   "metadata": {
    "collapsed": false,
    "ExecuteTime": {
     "end_time": "2024-07-03T21:45:22.414512Z",
     "start_time": "2024-07-03T21:45:22.412307Z"
    }
   },
   "id": "4c64dc423fe0a93",
   "execution_count": 12
  },
  {
   "cell_type": "markdown",
   "source": [
    "#### Run the Simulation"
   ],
   "metadata": {
    "collapsed": false
   },
   "id": "e719d3a194dd18c7"
  },
  {
   "cell_type": "code",
   "outputs": [
    {
     "name": "stdout",
     "output_type": "stream",
     "text": [
      "Save point 0 completed\n",
      "Save point 1 completed\n",
      "Save point 2 completed\n",
      "Save point 3 completed\n",
      "Save point 4 completed\n",
      "Save point 5 completed\n",
      "Save point 6 completed\n",
      "Save point 7 completed\n",
      "Save point 8 completed\n",
      "Save point 9 completed\n",
      "Save point 10 completed\n",
      "Save point 11 completed\n",
      "Save point 12 completed\n",
      "Save point 13 completed\n",
      "Save point 14 completed\n",
      "Save point 15 completed\n",
      "Save point 16 completed\n",
      "Save point 17 completed\n",
      "Save point 18 completed\n",
      "Save point 19 completed\n",
      "Save point 20 completed\n",
      "Save point 21 completed\n",
      "Save point 22 completed\n",
      "Save point 23 completed\n",
      "Save point 24 completed\n",
      "Save point 25 completed\n",
      "Save point 26 completed\n",
      "Save point 27 completed\n",
      "Save point 28 completed\n",
      "Save point 29 completed\n",
      "Save point 30 completed\n",
      "Save point 31 completed\n",
      "Save point 32 completed\n",
      "Save point 33 completed\n",
      "Save point 34 completed\n",
      "Save point 35 completed\n",
      "Save point 36 completed\n",
      "Save point 37 completed\n",
      "Save point 38 completed\n",
      "Save point 39 completed\n",
      "Save point 40 completed\n",
      "Save point 41 completed\n",
      "Save point 42 completed\n",
      "Save point 43 completed\n",
      "Save point 44 completed\n",
      "Save point 45 completed\n",
      "Save point 46 completed\n",
      "Save point 47 completed\n",
      "Save point 48 completed\n",
      "Save point 49 completed\n",
      "Save point 50 completed\n",
      "Save point 51 completed\n",
      "Save point 52 completed\n",
      "Save point 53 completed\n",
      "Save point 54 completed\n",
      "Save point 55 completed\n",
      "Save point 56 completed\n",
      "Save point 57 completed\n",
      "Save point 58 completed\n",
      "Save point 59 completed\n",
      "Save point 60 completed\n",
      "Save point 61 completed\n",
      "Save point 62 completed\n",
      "Save point 63 completed\n",
      "Save point 64 completed\n",
      "Save point 65 completed\n",
      "Save point 66 completed\n",
      "Save point 67 completed\n",
      "Save point 68 completed\n",
      "Save point 69 completed\n",
      "Save point 70 completed\n",
      "Save point 71 completed\n",
      "Save point 72 completed\n",
      "Save point 73 completed\n",
      "Save point 74 completed\n",
      "Save point 75 completed\n",
      "Save point 76 completed\n",
      "Save point 77 completed\n",
      "Save point 78 completed\n",
      "Save point 79 completed\n",
      "Save point 80 completed\n",
      "Save point 81 completed\n",
      "Save point 82 completed\n",
      "Save point 83 completed\n",
      "Save point 84 completed\n",
      "Save point 85 completed\n",
      "Save point 86 completed\n",
      "Save point 87 completed\n",
      "Save point 88 completed\n",
      "Save point 89 completed\n",
      "Save point 90 completed\n",
      "Save point 91 completed\n",
      "Save point 92 completed\n",
      "Save point 93 completed\n",
      "Save point 94 completed\n",
      "Save point 95 completed\n",
      "Save point 96 completed\n",
      "Save point 97 completed\n",
      "Save point 98 completed\n",
      "Save point 99 completed\n",
      "Save point 100 completed\n",
      "Save point 101 completed\n",
      "Save point 102 completed\n",
      "Save point 103 completed\n",
      "Save point 104 completed\n",
      "Save point 105 completed\n",
      "Save point 106 completed\n",
      "Save point 107 completed\n",
      "Save point 108 completed\n",
      "Save point 109 completed\n",
      "Save point 110 completed\n",
      "Save point 111 completed\n",
      "Save point 112 completed\n",
      "Save point 113 completed\n",
      "Save point 114 completed\n",
      "Save point 115 completed\n",
      "Save point 116 completed\n",
      "Save point 117 completed\n",
      "Save point 118 completed\n",
      "Save point 119 completed\n",
      "Save point 120 completed\n",
      "Save point 121 completed\n",
      "Save point 122 completed\n",
      "Save point 123 completed\n",
      "Save point 124 completed\n",
      "Save point 125 completed\n",
      "Save point 126 completed\n",
      "Save point 127 completed\n",
      "Save point 128 completed\n",
      "Save point 129 completed\n",
      "Save point 130 completed\n",
      "Save point 131 completed\n",
      "Save point 132 completed\n",
      "Save point 133 completed\n",
      "Save point 134 completed\n",
      "Save point 135 completed\n",
      "Save point 136 completed\n",
      "Save point 137 completed\n",
      "Save point 138 completed\n",
      "Save point 139 completed\n",
      "Save point 140 completed\n",
      "Save point 141 completed\n",
      "Save point 142 completed\n",
      "Save point 143 completed\n",
      "Save point 144 completed\n",
      "Save point 145 completed\n",
      "Save point 146 completed\n",
      "Save point 147 completed\n",
      "Save point 148 completed\n",
      "Save point 149 completed\n",
      "Save point 150 completed\n",
      "Save point 151 completed\n",
      "Save point 152 completed\n",
      "Save point 153 completed\n",
      "Save point 154 completed\n",
      "Save point 155 completed\n",
      "Save point 156 completed\n",
      "Save point 157 completed\n",
      "Save point 158 completed\n",
      "Save point 159 completed\n",
      "Save point 160 completed\n",
      "Save point 161 completed\n",
      "Save point 162 completed\n",
      "Save point 163 completed\n",
      "Save point 164 completed\n",
      "Save point 165 completed\n",
      "Save point 166 completed\n",
      "Save point 167 completed\n",
      "Save point 168 completed\n",
      "Save point 169 completed\n",
      "Save point 170 completed\n",
      "Save point 171 completed\n",
      "Save point 172 completed\n",
      "Save point 173 completed\n",
      "Save point 174 completed\n",
      "Save point 175 completed\n",
      "Save point 176 completed\n",
      "Save point 177 completed\n",
      "Save point 178 completed\n",
      "Save point 179 completed\n",
      "Save point 180 completed\n",
      "Save point 181 completed\n",
      "Save point 182 completed\n",
      "Save point 183 completed\n",
      "Save point 184 completed\n",
      "Save point 185 completed\n",
      "Save point 186 completed\n",
      "Save point 187 completed\n",
      "Save point 188 completed\n",
      "Save point 189 completed\n",
      "Save point 190 completed\n",
      "Save point 191 completed\n",
      "Save point 192 completed\n",
      "Save point 193 completed\n",
      "Save point 194 completed\n",
      "Save point 195 completed\n",
      "Save point 196 completed\n",
      "Save point 197 completed\n",
      "Save point 198 completed\n",
      "Save point 199 completed\n",
      "Simulation Runtime (in seconds):  2259.66\n"
     ]
    }
   ],
   "source": [
    "# Specify the output directory\n",
    "out_dir = \"output_demo\"\n",
    "\n",
    "# Run the simulation\n",
    "polymers = mc.polymer_in_field(\n",
    "    [poly],\n",
    "    binder_collection,\n",
    "    udf,\n",
    "    mc_steps_per_snapshot,\n",
    "    num_snapshots,\n",
    "    amp_bead_bounds,\n",
    "    amp_move_bounds,\n",
    "    output_dir=out_dir,\n",
    "    mu_schedule=mu_schedules[0],\n",
    ")"
   ],
   "metadata": {
    "collapsed": false,
    "ExecuteTime": {
     "end_time": "2024-07-03T22:22:58.623260Z",
     "start_time": "2024-07-03T21:45:23.414385Z"
    }
   },
   "id": "97b286e8c133d809",
   "execution_count": 13
  },
  {
   "cell_type": "markdown",
   "source": [
    "#### Print the Resulting Binding Patterns\n",
    "\n",
    "In this demonstration, we will only highlight the differences between the HP1 and PRC1 binding patterns to demonstrate that only two reader proteins can bind each nucleosome at a time."
   ],
   "metadata": {
    "collapsed": false
   },
   "id": "d6e94d42c83c75cb"
  },
  {
   "cell_type": "code",
   "outputs": [
    {
     "name": "stdout",
     "output_type": "stream",
     "text": [
      "HP1 binding pattern: [2 2 2 2 2 2 2 2 2 2 2 2 2 2 2 2 2 2 2 2 2 2 2 2 2 2 2 2 1 2 2 2 2 2 2 2 2\n",
      " 2 2 2 2 2 2 0 2 2 2 2 2 2 0 2 0 2 2 2 2 2 2 0 2 2 2 2 2 2 2 2 2 2 2 2 2 2\n",
      " 2 2 0 0 2 2 2 2 2 2 2 2 2 2 2 2 2 2 2 2 2 2 2 2 2 2 2 2 2 2 2 2 2 1 2 2 2\n",
      " 2 2 2 2 2 2 2 2 2 2 2 2 2 1 2 2 2 2 2 2 2 2 2 2 2 2 2 2 1 2 2 2 2 2 2 2 2\n",
      " 2 2 2 2 2 2 2 2 2 2 2 2 2 2 2 2 2 2 2 2 2 2 2 2 2 2 0 0 2 2 2 2 2 2 2 2 2\n",
      " 2 1 2 2 2 2 2 1 2 2 2 2 2 2 2 0 0 2 2 2 2 0 2 2 2 2 2 2 2 2 2 2 2 2 2 2 2\n",
      " 2 2 2 2 2 1 2 2 2 2 2 2 2 2 2 2 0 2 2 2 2 2 2 2 2 2 2 2 2 2 2 2 2 2 2 2 2\n",
      " 1 2 2 2 2 2 2 2 0 2 2 2 2 2 2 2 2 2 2 2 2 2 0 2 2 2 2 2 2 2 2 2 2 2 2 2 2\n",
      " 1 2 2 2 1 2 2 2 2 2 2 2 2 2 2 2 1 2 2 2 2 2 2 2 2 2 2 2 2 2 2 2 2 2 2 2 2\n",
      " 2 2 2 2 2 2 2 2 2 2 1 2 2 2 2 2 2 1 0 2 2 2 2 0 2 2 2 2 2 2 0 2 2 2 2 2 2\n",
      " 1 2 2 2 2 2 2 2 2 2 2 2 2 2 2 2 2 2 0 2 2 2 2 0 2 2 2 2 0 2 2 2 2 2 2 2 0\n",
      " 2 2 2 2 2 2 2 2 2 2 2 1 2 0 2 2 2 2 2 2 2 2 2 1 2 2 2 2 2 2 2 2 2 2 2 2 2\n",
      " 2 2 2 2 2 2 2 2 2 2 2 2 2 1 2 2 2 2 2 2 2 2 2 2 2 2 2 2 2 2 2 2 2 2 2 2 2\n",
      " 2 2 2 2 2 2 2 2 2 2 2 1 2 2 2 2 2 0 2 0 0 0 0 0 0 0 0 0 0 0 0 0 0 0 0 0 0\n",
      " 0 0 0 0 0 0 0 0 0 0 0 0 0 0 0 0 0 0 2 0 0 0 0 0 0 0 0 0 0 0 0 0 0 2 0 0 0\n",
      " 0 0 0 0 0 0 0 0 0 0 0 0 0 0 0 0 0 0 0 0 0 0 0 0 2 0 1 0 0 0 0 0 2 0 0 0 0\n",
      " 0 0 0 0 0 0 0 0 0 2 0 0 0 0 0 0 0 0 0 0 0 0 0 0 0 0 0 0 0 0 0 0 0 0 0 0 0\n",
      " 2 0 0 0 0 0 0 0 0 0 0 0 1 0 0 0 0 0 0 0 0 0 0 0 0 0 0 0 0 0 0 0 0 0 2 0 0\n",
      " 0 0 0 0 0 0 0 0 0 0 0 0 0 0 0 0 0 0 0 0 0 0 0 0 0 0 0 0 0 0 0 0 0 0 0 0 0\n",
      " 0 0 0 0 0 0 0 0 0 0 0 0 0 0 0 0 0 0 0 0 0 0 0 0 0 0 0 0 0 0 0 0 0 0 0 0 0\n",
      " 0 0 0 0 0 0 0 0 0 0 0 0 0 0 1 0 0 0 0 0 0 0 0 0 0 0 0 2 0 0 0 0 0 0 0 0 0\n",
      " 0 0 0 0 0 0 0 0 0 0 0 0 0 0 1 0 0 0 0 0 0 0 0 0 0 0 0 0 0 0 0 0 0 0 0 0 0\n",
      " 0 0 2 0 0 0 0 2 0 0 0 0 0 0 0 0 0 0 0 0 0 0 0 0 0 0 2 0 0 0 0 0 0 0 0 0 0\n",
      " 0 0 2 0 0 0 0 0 0 0 0 0 0 2 0 0 0 0 0 0 0 0 1 2 0 0 0 0 0 0 0 0 0 0 0 0 2\n",
      " 0 0 0 0 0 0 0 0 0 0 0 0 0 0 0 0 0 0 0 0 0 0 0 0 0 0 0 0 0 0 0 2 0 0 0 0 0\n",
      " 2 0 0 0 0 0 0 0 0 0 0 0 0 0 0 0 0 0 0 0 0 0 0 0 0 0 2 0 0 0 0 0 0 0 0 0 0\n",
      " 0 0 0 0 0 0 0 0 0 0 0 0 0 0 0 0 0 0 0 0 0 1 2 0 0 0 0 0 0 0 0 2 0 0 0 0 0\n",
      " 0]\n",
      "\n",
      "PRC1 binding pattern: [0 0 0 0 0 0 0 0 0 0 0 0 0 0 0 0 0 0 0 0 0 0 0 0 0 0 0 0 1 0 0 0 0 0 0 0 0\n",
      " 0 0 0 0 0 0 1 0 0 0 0 0 0 2 0 2 0 0 0 0 0 0 2 0 0 0 0 0 0 0 0 0 0 0 0 0 0\n",
      " 0 0 2 1 0 0 0 0 0 0 0 0 0 0 0 0 0 0 0 0 0 0 0 0 0 0 0 0 0 0 0 0 0 0 0 0 0\n",
      " 0 0 0 0 0 0 0 0 0 0 0 0 0 0 0 0 0 0 0 0 0 0 0 0 0 0 0 0 0 0 0 0 0 0 0 0 0\n",
      " 0 0 0 0 0 0 0 0 0 0 0 0 0 0 0 0 0 0 0 0 0 0 0 0 0 0 2 2 0 0 0 0 0 0 0 0 0\n",
      " 0 0 0 0 0 0 0 1 0 0 0 0 0 0 0 2 2 0 0 0 0 2 0 0 0 0 0 0 0 0 0 0 0 0 0 0 0\n",
      " 0 0 0 0 0 0 0 0 0 0 0 0 0 0 0 0 2 0 0 0 0 0 0 0 0 0 0 0 0 0 0 0 0 0 0 0 0\n",
      " 0 0 0 0 0 0 0 0 2 0 0 0 0 0 0 0 0 0 0 0 0 0 2 0 0 0 0 0 0 0 0 0 0 0 0 0 0\n",
      " 0 0 0 0 1 0 0 0 0 0 0 0 0 0 0 0 1 0 0 0 0 0 0 0 0 0 0 0 0 0 0 0 0 0 0 0 0\n",
      " 0 0 0 0 0 0 0 0 0 0 1 0 0 0 0 0 0 0 2 0 0 0 0 2 0 0 0 0 0 0 2 0 0 0 0 0 0\n",
      " 0 0 0 0 0 0 0 0 0 0 0 0 0 0 0 0 0 0 2 0 0 0 0 2 0 0 0 0 2 0 0 0 0 0 0 0 2\n",
      " 0 0 0 0 0 0 0 0 0 0 0 1 0 2 0 0 0 0 0 0 0 0 0 0 0 0 0 0 0 0 0 0 0 0 0 0 0\n",
      " 0 0 0 0 0 0 0 0 0 0 0 0 0 0 0 0 0 0 0 0 0 0 0 0 0 0 0 0 0 0 0 0 0 0 0 0 0\n",
      " 0 0 0 0 0 0 0 0 0 0 0 0 0 0 0 0 0 2 0 2 2 1 2 2 2 2 2 2 2 2 2 2 2 2 2 2 2\n",
      " 2 2 2 2 2 2 2 2 2 2 2 2 2 2 2 2 2 2 0 2 2 2 2 2 2 2 2 2 2 2 2 2 2 0 2 2 2\n",
      " 2 2 2 2 2 2 2 2 2 2 2 2 2 2 2 2 2 2 2 2 2 2 2 2 0 2 1 2 2 2 1 2 0 2 2 2 2\n",
      " 2 2 2 2 2 2 2 2 2 0 2 2 2 2 2 2 2 2 2 2 2 2 2 2 2 2 2 2 2 2 2 2 2 2 2 2 2\n",
      " 0 2 2 2 2 2 2 2 2 2 2 2 1 2 2 2 2 2 2 2 2 2 2 2 2 2 2 2 2 2 2 2 2 2 0 2 2\n",
      " 2 2 2 2 2 2 2 2 2 2 2 2 2 2 2 2 2 2 2 2 2 2 2 2 2 2 2 2 2 2 2 2 2 2 2 2 2\n",
      " 2 2 2 2 2 2 2 2 2 2 2 2 2 2 2 1 2 2 2 2 2 2 2 2 2 2 2 2 2 2 2 2 2 2 2 2 2\n",
      " 2 2 2 2 2 2 2 2 2 2 2 2 2 2 0 2 2 2 2 2 2 2 2 2 2 2 2 0 2 2 2 2 2 2 2 2 2\n",
      " 2 2 2 2 2 2 2 2 2 2 2 2 2 2 1 1 2 2 2 2 2 2 2 2 2 2 2 2 2 2 2 2 2 2 2 2 2\n",
      " 2 2 0 2 1 2 2 0 2 2 2 2 2 2 2 2 2 2 2 2 2 2 2 2 2 2 0 2 2 2 2 2 2 2 2 2 2\n",
      " 2 2 0 2 2 2 2 0 2 2 2 2 2 0 2 2 2 2 2 2 2 2 1 0 2 2 2 2 2 2 2 2 2 2 2 2 0\n",
      " 2 2 2 2 2 2 2 2 2 2 2 2 2 2 2 2 2 2 2 2 2 2 2 2 2 2 2 2 2 2 2 0 2 2 2 2 2\n",
      " 0 2 2 2 2 2 2 2 2 2 2 2 2 2 2 2 2 2 2 2 2 2 2 2 2 2 0 2 2 2 2 2 2 2 2 2 2\n",
      " 2 2 2 2 2 2 2 2 2 2 2 2 2 2 2 2 1 2 2 2 2 1 0 2 2 2 2 2 2 2 2 0 2 2 2 2 2\n",
      " 2]\n"
     ]
    }
   ],
   "source": [
    "HP1_pattern = np.asarray(polymers[0].states[:, 0]).flatten()\n",
    "PRC1_pattern = np.asarray(polymers[0].states[:, 1]).flatten()\n",
    "\n",
    "print(\"HP1 binding pattern:\", HP1_pattern)\n",
    "print()\n",
    "print(\"PRC1 binding pattern:\", PRC1_pattern)"
   ],
   "metadata": {
    "collapsed": false,
    "ExecuteTime": {
     "end_time": "2024-07-03T22:22:58.628528Z",
     "start_time": "2024-07-03T22:22:58.624584Z"
    }
   },
   "id": "1c3900c9cc2f6d0a",
   "execution_count": 14
  },
  {
   "cell_type": "code",
   "outputs": [],
   "source": [],
   "metadata": {
    "collapsed": false
   },
   "id": "c594cdf443453100"
  }
 ],
 "metadata": {
  "kernelspec": {
   "display_name": "Python 3",
   "language": "python",
   "name": "python3"
  },
  "language_info": {
   "codemirror_mode": {
    "name": "ipython",
    "version": 2
   },
   "file_extension": ".py",
   "mimetype": "text/x-python",
   "name": "python",
   "nbconvert_exporter": "python",
   "pygments_lexer": "ipython2",
   "version": "2.7.6"
  }
 },
 "nbformat": 4,
 "nbformat_minor": 5
}
