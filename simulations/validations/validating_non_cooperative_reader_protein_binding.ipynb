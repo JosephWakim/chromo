{
 "cells": [
  {
   "cell_type": "markdown",
   "metadata": {
    "collapsed": true,
    "pycharm": {
     "name": "#%% md\n"
    }
   },
   "source": [
    "# Validation of Non-Cooperative Reader Protein Binding and Unbinding\n",
    "\n",
    "In this notebook, we validate the binding and unbinding of a reader protein, heterochromatin protein 1 (HP1), to a chromatin fiber modified by H3K9me3."
   ]
  },
  {
   "cell_type": "markdown",
   "source": [
    "### Import Modules and Navitate to Root Directory"
   ],
   "metadata": {
    "collapsed": false,
    "pycharm": {
     "name": "#%% md\n"
    }
   }
  },
  {
   "cell_type": "code",
   "execution_count": null,
   "outputs": [],
   "source": [
    "# Built-in Modules\n",
    "import os\n",
    "import sys\n",
    "from multiprocessing import Pool\n",
    "\n",
    "cwd = os.getcwd()\n",
    "parent_dir = cwd + \"/../..\"\n",
    "sys.path.insert(1, parent_dir)\n",
    "os.chdir(\"../..\")\n",
    "\n",
    "# External Modules\n",
    "import numpy as np"
   ],
   "metadata": {
    "collapsed": false,
    "pycharm": {
     "name": "#%%\n"
    }
   }
  },
  {
   "cell_type": "code",
   "execution_count": null,
   "outputs": [],
   "source": [
    "# Custom Modules\n",
    "import chromo\n",
    "import chromo.mc as mc\n",
    "from chromo.polymers import Chromatin\n",
    "import chromo.binders\n",
    "from chromo.fields import UniformDensityField\n",
    "import chromo.mc.mc_controller as ctrl\n",
    "from chromo.util.reproducibility import get_unique_subfolder_name"
   ],
   "metadata": {
    "collapsed": false,
    "pycharm": {
     "name": "#%%\n"
    }
   }
  },
  {
   "cell_type": "markdown",
   "source": [
    "### Define Confinement and Polymer Parameters"
   ],
   "metadata": {
    "collapsed": false,
    "pycharm": {
     "name": "#%% md\n"
    }
   }
  },
  {
   "cell_type": "code",
   "execution_count": null,
   "outputs": [],
   "source": [
    "# Confine to spherical chrom. territory 1800 um diameter (Cremer & Cremer 2001)\n",
    "confine_type = \"Spherical\"\n",
    "confine_length = 900\n",
    "\n",
    "# Specify polymer\n",
    "num_beads = 25000\n",
    "bead_spacing = 16.5\n",
    "\n",
    "# Scale down the confinement so the density matches that of a chromosome\n",
    "# inside a chromosome territory\n",
    "frac_full_chromo = num_beads / 393216\n",
    "confine_length *= np.cbrt(frac_full_chromo)\n",
    "\n",
    "# Specify chemical modifications\n",
    "chem_mods_path = np.array(\n",
    "    [\"chromo/chemical_mods/meth\"]\n",
    ")\n",
    "chemical_mods_all = Chromatin.load_seqs(chem_mods_path)\n",
    "\n",
    "# Specify how many repeated simulations to evaluate at each chemical potential\n",
    "chemical_potentials = np.linspace(-4.5, 1.5, 13)\n",
    "num_samples = 3"
   ],
   "metadata": {
    "collapsed": false,
    "pycharm": {
     "name": "#%%\n"
    }
   }
  },
  {
   "cell_type": "markdown",
   "source": [
    "### Simulate Non-cooperative Reader Protein Binding at Variable Chemical Potential"
   ],
   "metadata": {
    "collapsed": false,
    "pycharm": {
     "name": "#%% md\n"
    }
   }
  },
  {
   "cell_type": "code",
   "execution_count": null,
   "outputs": [],
   "source": [
    "for i in range(num_samples):\n",
    "\n",
    "    def run_sim(chemical_potential):\n",
    "        \"\"\"Run a simulation.\n",
    "\n",
    "        Parameters\n",
    "        ----------\n",
    "        chemical_potential : float\n",
    "            Chemical potential of the reader protein\n",
    "\n",
    "        Notes\n",
    "        -----\n",
    "        This function is defined to enable parallel processing.\n",
    "        \"\"\"\n",
    "\n",
    "        # Specify reader proteins\n",
    "        binders = [chromo.binders.get_by_name('HP1')]\n",
    "        binders[0].chemical_potential = chemical_potential\n",
    "\n",
    "        # Turn off interactions between reader proteins\n",
    "        binders[0].interaction_energy = 0.0\n",
    "\n",
    "        # Reformat reader proteins into a dataframe format\n",
    "        binders = chromo.binders.make_binder_collection(binders)\n",
    "\n",
    "        # Pick a random segment of the chromosome to simulate\n",
    "        start_ind = np.random.randint(len(chemical_mods_all))\n",
    "        chemical_mods = np.take(chemical_mods_all, np.arange(start_ind, start_ind + num_beads), mode=\"wrap\", axis=0)\n",
    "\n",
    "        # Define the polymer\n",
    "        p = Chromatin.confined_gaussian_walk(\n",
    "            'Chr-1',\n",
    "            num_beads,\n",
    "            bead_spacing,\n",
    "            states=chemical_mods.copy(),\n",
    "            confine_type=confine_type,\n",
    "            confine_length=confine_length,\n",
    "            binder_names=np.array(['HP1']),\n",
    "            chemical_mods=chemical_mods,\n",
    "            chemical_mod_names=np.array(['H3K9me3'])\n",
    "        )\n",
    "\n",
    "        # Specify the field containing the polymers\n",
    "        n_bins_x = int(round(63 * np.cbrt(frac_full_chromo)))\n",
    "        x_width = 2 * confine_length\n",
    "        n_bins_y = n_bins_x\n",
    "        y_width = x_width\n",
    "        n_bins_z = n_bins_x\n",
    "        z_width = x_width\n",
    "        udf = UniformDensityField(\n",
    "            [p], binders, x_width, n_bins_x, y_width,\n",
    "            n_bins_y, z_width, n_bins_z, confine_type=confine_type,\n",
    "            confine_length=confine_length, chi=1, fast_field=1\n",
    "        )\n",
    "\n",
    "        # Specify the bead selection and move amplitude bounds\n",
    "        polymers = [p]\n",
    "        amp_bead_bounds, amp_move_bounds = mc.get_amplitude_bounds(polymers)\n",
    "\n",
    "        # Run the simulation\n",
    "        num_snapshots = 200\n",
    "        mc_steps_per_snapshot = 50000\n",
    "        mc.polymer_in_field(\n",
    "            [p],\n",
    "            binders,\n",
    "            udf,\n",
    "            mc_steps_per_snapshot,\n",
    "            num_snapshots,\n",
    "            amp_bead_bounds,\n",
    "            amp_move_bounds,\n",
    "            output_dir='output'\n",
    "        )\n",
    "\n",
    "    pool = Pool(len(chemical_potentials))\n",
    "    pool.map(run_sim, chemical_potentials)"
   ],
   "metadata": {
    "collapsed": false,
    "pycharm": {
     "name": "#%%\n"
    }
   }
  }
 ],
 "metadata": {
  "kernelspec": {
   "display_name": "Python 3",
   "language": "python",
   "name": "python3"
  },
  "language_info": {
   "codemirror_mode": {
    "name": "ipython",
    "version": 2
   },
   "file_extension": ".py",
   "mimetype": "text/x-python",
   "name": "python",
   "nbconvert_exporter": "python",
   "pygments_lexer": "ipython2",
   "version": "2.7.6"
  }
 },
 "nbformat": 4,
 "nbformat_minor": 0
}