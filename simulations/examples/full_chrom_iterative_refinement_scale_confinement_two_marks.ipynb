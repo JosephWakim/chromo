{
 "cells": [
  {
   "cell_type": "markdown",
   "metadata": {},
   "source": [
    "# Full Chromatin Simulation with Adaptable Refinement\n",
    "\n",
    "In this notebook, we demonstrate a Monte Carlo simulation of chromatin organization where the level of detail is adaptibly confined to improve convergence onto a globally optimal configuration."
   ]
  },
  {
   "cell_type": "markdown",
   "metadata": {},
   "source": [
    "### Import Modules"
   ]
  },
  {
   "cell_type": "code",
   "execution_count": null,
   "metadata": {},
   "outputs": [],
   "source": [
    "%load_ext autoreload"
   ]
  },
  {
   "cell_type": "code",
   "execution_count": null,
   "metadata": {},
   "outputs": [],
   "source": [
    "%autoreload 2"
   ]
  },
  {
   "cell_type": "code",
   "execution_count": null,
   "metadata": {},
   "outputs": [],
   "source": [
    "import os\n",
    "import sys\n",
    "from inspect import getmembers, isfunction\n",
    "\n",
    "import numpy as np\n",
    "import pandas as pd\n",
    "import matplotlib.pyplot as plt"
   ]
  },
  {
   "cell_type": "code",
   "execution_count": null,
   "metadata": {},
   "outputs": [],
   "source": [
    "cwd = os.getcwd()\n",
    "parent_dir = cwd + \"/../..\"\n",
    "sys.path.insert(1, parent_dir)\n",
    "os.chdir(parent_dir)\n",
    "\n",
    "print(\"Root Directory: \")\n",
    "print(os.getcwd())"
   ]
  },
  {
   "cell_type": "code",
   "execution_count": null,
   "metadata": {},
   "outputs": [],
   "source": [
    "import chromo.mc as mc\n",
    "from chromo.polymers import Chromatin\n",
    "import chromo.binders\n",
    "from chromo.fields import UniformDensityField\n",
    "import chromo.mc.mc_controller as ctrl\n",
    "from chromo.util.reproducibility import get_unique_subfolder_name\n",
    "from chromo.util.poly_paths import gaussian_walk\n",
    "import chromo.util.rediscretize as rd\n",
    "import chromo.util.mu_schedules as ms"
   ]
  },
  {
   "cell_type": "markdown",
   "metadata": {},
   "source": [
    "### Generate Initial Chromatin Fiber"
   ]
  },
  {
   "cell_type": "code",
   "execution_count": null,
   "metadata": {},
   "outputs": [],
   "source": [
    "# Binders\n",
    "hp1 = chromo.binders.get_by_name(\"HP1\")\n",
    "prc1 = chromo.binders.get_by_name(\"PRC1\")\n",
    "\n",
    "hp1.chemical_potential = -0.4\n",
    "prc1.chemical_potential = -0.4\n",
    "\n",
    "binders = chromo.binders.make_binder_collection([hp1, prc1])"
   ]
  },
  {
   "cell_type": "code",
   "execution_count": null,
   "metadata": {},
   "outputs": [],
   "source": [
    "# Confinement\n",
    "confine_type = \"Spherical\"\n",
    "confine_length = 900"
   ]
  },
  {
   "cell_type": "code",
   "execution_count": null,
   "metadata": {},
   "outputs": [],
   "source": [
    "# Polymer\n",
    "num_beads = 393216\n",
    "bead_spacing = 16.5\n",
    "chem_mods_path = np.array([\n",
    "    \"chromo/chemical_mods/HNCFF683HCZ_H3K9me3_methyl.txt\",\n",
    "    \"chromo/chemical_mods/ENCFF919DOR_H3K27me3_methyl.txt\"\n",
    "])\n",
    "chemical_mods = Chromatin.load_seqs(chem_mods_path)[:num_beads]\n",
    "states = np.zeros(chemical_mods.shape, dtype=int)\n",
    "p = Chromatin.confined_gaussian_walk(\n",
    "    'Chr-1',\n",
    "    num_beads,\n",
    "    bead_length=bead_spacing,\n",
    "    states=states,\n",
    "    confine_type=confine_type,\n",
    "    confine_length=confine_length,\n",
    "    binder_names=np.array(['HP1', 'PRC1']),\n",
    "    chemical_mods=chemical_mods,\n",
    "    chemical_mod_names=np.array(['H3K9me3', 'H3K27me3'])\n",
    ")"
   ]
  },
  {
   "cell_type": "code",
   "execution_count": null,
   "metadata": {},
   "outputs": [],
   "source": [
    "fig = plt.figure()\n",
    "ax = fig.add_subplot(projection='3d')\n",
    "ax.scatter(p.r[:,0], p.r[:,1], p.r[:,2], s=0.5, alpha=0.5)\n",
    "ax.set_xticks(np.arange(-900, 901, 300))\n",
    "ax.set_yticks(np.arange(-900, 901, 300))\n",
    "ax.set_zticks(np.arange(-900, 901, 300))\n",
    "plt.show()"
   ]
  },
  {
   "cell_type": "code",
   "execution_count": null,
   "metadata": {},
   "outputs": [],
   "source": [
    "# Field\n",
    "n_accessible = 63\n",
    "n_buffer = 2\n",
    "n_bins_x = n_accessible + n_buffer\n",
    "x_width = 2 * confine_length * (1 + n_buffer/n_accessible)\n",
    "n_bins_y = n_bins_x\n",
    "y_width = x_width\n",
    "n_bins_z = n_bins_x\n",
    "z_width = x_width\n",
    "udf = UniformDensityField(\n",
    "    [p], binders, x_width, n_bins_x, y_width,\n",
    "    n_bins_y, z_width, n_bins_z, confine_type=confine_type,\n",
    "    confine_length=confine_length, chi=1,\n",
    "    assume_fully_accessible=1, fast_field=1, n_points=1000\n",
    ")"
   ]
  },
  {
   "cell_type": "markdown",
   "metadata": {},
   "source": [
    "### Coarse-Grain the Original Polymer"
   ]
  },
  {
   "cell_type": "code",
   "execution_count": null,
   "metadata": {},
   "outputs": [],
   "source": [
    "cg_factor = 15"
   ]
  },
  {
   "cell_type": "code",
   "execution_count": null,
   "metadata": {},
   "outputs": [],
   "source": [
    "p_cg = rd.get_cg_chromatin(\n",
    "    polymer = p,\n",
    "    cg_factor = cg_factor,\n",
    "    name_cg = \"Chr_CG\"\n",
    ")"
   ]
  },
  {
   "cell_type": "code",
   "execution_count": null,
   "metadata": {},
   "outputs": [],
   "source": [
    "print(\"Average Coarse-Grained Bead Separation: \")\n",
    "print(round(np.average(np.linalg.norm(np.diff(p_cg.r, axis=0), axis=1)), 3))"
   ]
  },
  {
   "cell_type": "code",
   "execution_count": null,
   "metadata": {},
   "outputs": [],
   "source": [
    "fig = plt.figure()\n",
    "ax = fig.add_subplot(projection='3d')\n",
    "ax.scatter(p_cg.r[:,0], p_cg.r[:,1], p_cg.r[:,2], s=10, alpha=0.5)\n",
    "ax.set_xticks(np.arange(-900*cg_factor**(1/3), 900*cg_factor**(1/3)+1, 100))\n",
    "ax.set_yticks(np.arange(-900*cg_factor**(1/3), 900*cg_factor**(1/3)+1, 100))\n",
    "ax.set_zticks(np.arange(-900*cg_factor**(1/3), 900*cg_factor**(1/3)+1, 100))\n",
    "plt.show()"
   ]
  },
  {
   "cell_type": "code",
   "execution_count": null,
   "metadata": {},
   "outputs": [],
   "source": [
    "udf_cg = rd.get_cg_udf(\n",
    "    udf_refined_dict = udf.dict_,\n",
    "    binders_refined = binders,\n",
    "    cg_factor = cg_factor,\n",
    "    polymers_cg = [p_cg]\n",
    ")"
   ]
  },
  {
   "cell_type": "code",
   "execution_count": null,
   "metadata": {},
   "outputs": [],
   "source": [
    "binders_cg = rd.get_cg_binders(\n",
    "    binders_refined = binders,\n",
    "    cg_factor = cg_factor\n",
    ")"
   ]
  },
  {
   "cell_type": "markdown",
   "metadata": {},
   "source": [
    "### Equilibrate the Coarse-Grained Polymer"
   ]
  },
  {
   "cell_type": "code",
   "execution_count": null,
   "metadata": {},
   "outputs": [],
   "source": [
    "amp_bead_bounds, amp_move_bounds = mc.get_amplitude_bounds([p_cg])\n",
    "num_snapshots = 200\n",
    "mc_steps_per_snapshot = 3000\n",
    "\n",
    "# Create a list of mu schedules, which are defined in another file\n",
    "schedules = [func[0] for func in getmembers(ms, isfunction)]\n",
    "select_schedule = \"linear_step_for_negative_cp\"\n",
    "mu_schedules = [\n",
    "    ms.Schedule(getattr(ms, func_name)) for func_name in schedules\n",
    "]\n",
    "mu_schedules = [sch for sch in mu_schedules if sch.name == select_schedule]"
   ]
  },
  {
   "cell_type": "code",
   "execution_count": null,
   "metadata": {},
   "outputs": [],
   "source": [
    "polymers_cg = mc.polymer_in_field(\n",
    "    [p_cg],\n",
    "    binders_cg,\n",
    "    udf_cg,\n",
    "    mc_steps_per_snapshot,\n",
    "    num_snapshots,\n",
    "    amp_bead_bounds,\n",
    "    amp_move_bounds,\n",
    "    output_dir='output',\n",
    "    mu_schedule=mu_schedules[0],\n",
    "    random_seed=np.random.randint(0, 1E5)\n",
    ")"
   ]
  },
  {
   "cell_type": "code",
   "execution_count": null,
   "metadata": {},
   "outputs": [],
   "source": [
    "p_cg = polymers_cg[0]"
   ]
  },
  {
   "cell_type": "code",
   "execution_count": null,
   "metadata": {},
   "outputs": [],
   "source": [
    "fig = plt.figure()\n",
    "ax = fig.add_subplot(projection='3d')\n",
    "ax.scatter(p_cg.r[:,0], p_cg.r[:,1], p_cg.r[:,2], s=10, alpha=0.5)\n",
    "plt.show()"
   ]
  },
  {
   "cell_type": "code",
   "execution_count": null,
   "metadata": {},
   "outputs": [],
   "source": [
    "print(\"Average Coarse-Grained Bead Separation: \")\n",
    "print(round(np.average(np.linalg.norm(np.diff(p_cg.r, axis=0), axis=1)), 3))"
   ]
  },
  {
   "cell_type": "markdown",
   "metadata": {},
   "source": [
    "### Refine the Coarse-Grained Polymer"
   ]
  },
  {
   "cell_type": "code",
   "execution_count": null,
   "metadata": {},
   "outputs": [],
   "source": [
    "n_bind_eq = 1000000\n",
    "p_refine, udf_refine = rd.refine_chromatin(\n",
    "    polymer_cg = p_cg,\n",
    "    num_beads_refined = num_beads,\n",
    "    bead_spacing = bead_spacing,\n",
    "    chemical_mods = chemical_mods,\n",
    "    udf_cg = udf_cg,\n",
    "    binding_equilibration = n_bind_eq,\n",
    "    name_refine = \"Chr_refine\",\n",
    "    output_dir = \"output\"\n",
    ")"
   ]
  },
  {
   "cell_type": "code",
   "execution_count": null,
   "metadata": {},
   "outputs": [],
   "source": [
    "fig = plt.figure()\n",
    "ax = fig.add_subplot(projection='3d')\n",
    "ax.scatter(p_refine.r[:,0], p_refine.r[:,1], p_refine.r[:,2], s=0.5, alpha=0.5)\n",
    "ax.set_xticks(np.arange(-900, 901, 300))\n",
    "ax.set_yticks(np.arange(-900, 901, 300))\n",
    "ax.set_zticks(np.arange(-900, 901, 300))\n",
    "plt.show()"
   ]
  },
  {
   "cell_type": "markdown",
   "metadata": {},
   "source": [
    "### Equilibrate the Refined Polymer"
   ]
  },
  {
   "cell_type": "code",
   "execution_count": null,
   "metadata": {},
   "outputs": [],
   "source": [
    "amp_bead_bounds, amp_move_bounds = mc.get_amplitude_bounds([p_refine])\n",
    "num_snapshots = 200\n",
    "mc_steps_per_snapshot = 10000\n",
    "\n",
    "# Create a list of mu schedules, which are defined in another file\n",
    "schedules = [func[0] for func in getmembers(ms, isfunction)]\n",
    "select_schedule = \"linear_step_for_negative_cp_mild\"\n",
    "mu_schedules = [\n",
    "    ms.Schedule(getattr(ms, func_name)) for func_name in schedules\n",
    "]\n",
    "mu_schedules = [sch for sch in mu_schedules if sch.name == select_schedule]"
   ]
  },
  {
   "cell_type": "code",
   "execution_count": null,
   "metadata": {},
   "outputs": [],
   "source": [
    "polymers_refined = mc.polymer_in_field(\n",
    "    [p_refine],\n",
    "    binders,\n",
    "    udf_refine,\n",
    "    mc_steps_per_snapshot,\n",
    "    num_snapshots,\n",
    "    amp_bead_bounds,\n",
    "    amp_move_bounds,\n",
    "    output_dir='output',\n",
    "    mu_schedule=mu_schedules[0],\n",
    "    random_seed=np.random.randint(0, 1E5)\n",
    ")"
   ]
  },
  {
   "cell_type": "code",
   "execution_count": null,
   "metadata": {},
   "outputs": [],
   "source": [
    "p_refine = polymers_refined[0]"
   ]
  },
  {
   "cell_type": "code",
   "execution_count": null,
   "metadata": {},
   "outputs": [],
   "source": [
    "fig = plt.figure()\n",
    "ax = fig.add_subplot(projection='3d')\n",
    "ax.scatter(p_refine.r[:,0], p_refine.r[:,1], p_refine.r[:,2], s=0.5, alpha=0.5)\n",
    "ax.set_xticks(np.arange(-900, 901, 300))\n",
    "ax.set_yticks(np.arange(-900, 901, 300))\n",
    "ax.set_zticks(np.arange(-900, 901, 300))\n",
    "plt.show()"
   ]
  },
  {
   "cell_type": "code",
   "execution_count": null,
   "metadata": {},
   "outputs": [],
   "source": [
    "print(\"Average Coarse-Grained Bead Separation: \")\n",
    "print(round(np.average(np.linalg.norm(np.diff(p_refine.r, axis=0), axis=1)), 3))"
   ]
  },
  {
   "cell_type": "code",
   "execution_count": null,
   "metadata": {},
   "outputs": [],
   "source": []
  }
 ],
 "metadata": {
  "kernelspec": {
   "display_name": "Python 3 (ipykernel)",
   "language": "python",
   "name": "python3"
  },
  "language_info": {
   "codemirror_mode": {
    "name": "ipython",
    "version": 3
   },
   "file_extension": ".py",
   "mimetype": "text/x-python",
   "name": "python",
   "nbconvert_exporter": "python",
   "pygments_lexer": "ipython3",
   "version": "3.7.6"
  }
 },
 "nbformat": 4,
 "nbformat_minor": 4
}
