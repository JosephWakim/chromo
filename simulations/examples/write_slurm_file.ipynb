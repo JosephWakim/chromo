{
 "cells": [
  {
   "cell_type": "markdown",
   "metadata": {},
   "source": [
    "# Write Slurm Files for a Set of Simulations"
   ]
  },
  {
   "cell_type": "markdown",
   "metadata": {},
   "source": [
    "### Specify Run Parameters"
   ]
  },
  {
   "cell_type": "code",
   "execution_count": 1,
   "metadata": {},
   "outputs": [],
   "source": [
    "slurm_dir = \"slurm_files\"\n",
    "slurm_file_prefix = \"two_mark_full_factorial\"\n",
    "slurm_files = []\n",
    "job_name_prefix = \"chromo_two_marks\"\n",
    "runtime = \"47:59:59\"\n",
    "num_tasks = \"1\"\n",
    "cpus_per_task = \"1\"\n",
    "mem_per_cpu = \"12G\"\n",
    "slurm_run_script = \"run_jobs.sh\""
   ]
  },
  {
   "cell_type": "markdown",
   "metadata": {},
   "source": [
    "### Specify Simulation Parameters"
   ]
  },
  {
   "cell_type": "code",
   "execution_count": 2,
   "metadata": {},
   "outputs": [],
   "source": [
    "cp_HP1 = (-0.7, -0.6)\n",
    "cp_PRC1 = (-0.7, -0.6)\n",
    "self_interact_HP1 = (-6.0, -5.5)\n",
    "self_interact_PRC1 = (-6.0, -5.5)\n",
    "cross_interact = (1.0, 1.5)"
   ]
  },
  {
   "cell_type": "code",
   "execution_count": 3,
   "metadata": {},
   "outputs": [],
   "source": [
    "run = 0\n",
    "\n",
    "for cp_HP1_ in cp_HP1:\n",
    "    for cp_PRC1_ in cp_PRC1:\n",
    "        for self_interact_HP1_ in self_interact_HP1:\n",
    "            for self_interact_PRC1_ in self_interact_PRC1:\n",
    "                for cross_interact_ in cross_interact:\n",
    "\n",
    "                    slurm_file_name = f\"{slurm_file_prefix}_{run}.slurm\"\n",
    "                    job_name = f\"{job_name_prefix}_{run}\"\n",
    "                    slurm_files.append(slurm_file_name)\n",
    "\n",
    "                    with open(f\"{slurm_dir}/{slurm_file_name}\", 'w') as f:\n",
    "                        f.write(\"#!/bin/bash\\n\\n\")\n",
    "                        \n",
    "                        f.write(f\"#SBATCH --job-name={job_name}\\n\")\n",
    "                        f.write(f\"#SBATCH --time={runtime}\\n\")\n",
    "                        f.write(f\"#SBATCH --ntasks={num_tasks}\\n\")\n",
    "                        f.write(f\"#SBATCH --cpus-per-task={cpus_per_task}\\n\")\n",
    "                        f.write(f\"#SBATCH --mem-per-cpu={mem_per_cpu}\\n\\n\")\n",
    "                        \n",
    "                        f.write(f\"source ~/.bashrc\\n\")\n",
    "                        f.write(f\"cd /scratch/users/jwakim/chromo_two_mark_phase_transition/doc/simulations/\\n\")\n",
    "                        f.write(f\"echo 'Changed to \\$SCRATCH directory. Proceeding to run bash script...'\\n\")\n",
    "                        f.write(f\"python two_mark_factorial.py {cp_HP1_} {cp_PRC1_} {self_interact_HP1_} {self_interact_PRC1_} {cross_interact_}\\n\")\n",
    "                        f.write(f\"echo 'Job complete!'\\n\")\n",
    "                        run += 1\n",
    "\n",
    "with open(f\"{slurm_dir}/{slurm_run_script}\", 'w') as f:\n",
    "    for slurm_file in slurm_files:\n",
    "        f.write(f\"sbatch {slurm_file}\\n\")\n"
   ]
  },
  {
   "cell_type": "code",
   "execution_count": null,
   "metadata": {},
   "outputs": [],
   "source": []
  }
 ],
 "metadata": {
  "kernelspec": {
   "display_name": "Python 3 (ipykernel)",
   "language": "python",
   "name": "python3"
  },
  "language_info": {
   "codemirror_mode": {
    "name": "ipython",
    "version": 3
   },
   "file_extension": ".py",
   "mimetype": "text/x-python",
   "name": "python",
   "nbconvert_exporter": "python",
   "pygments_lexer": "ipython3",
   "version": "3.7.6"
  }
 },
 "nbformat": 4,
 "nbformat_minor": 4
}
