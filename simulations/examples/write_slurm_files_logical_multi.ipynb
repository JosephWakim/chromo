{
 "cells": [
  {
   "cell_type": "markdown",
   "metadata": {},
   "source": [
    "# Write Slurm Files for a Set of Simulations\n",
    "\n",
    "The jobs are split into coarse grained and refined steps."
   ]
  },
  {
   "cell_type": "code",
   "execution_count": 1,
   "metadata": {},
   "outputs": [],
   "source": [
    "import numpy as np"
   ]
  },
  {
   "cell_type": "markdown",
   "metadata": {},
   "source": [
    "### Specify Run Parameters"
   ]
  },
  {
   "cell_type": "code",
   "execution_count": 2,
   "metadata": {},
   "outputs": [],
   "source": [
    "slurm_dir = \"/home/users/jwakim/chromo_jobs/slurm_files_logical_multi\"\n",
    "slurm_file_prefix = \"logical_multi\"\n",
    "job_name_prefix = \"chromo_logical_multi\"\n",
    "slurm_files_cg = []\n",
    "slurm_files_refine = []\n",
    "runtime_cg = \"23:59:59\"\n",
    "runtime_refine = \"47:59:59\"\n",
    "num_tasks = \"1\"\n",
    "cpus_per_task = \"1\"\n",
    "mem_per_cpu = \"12G\"\n",
    "slurm_run_script_cg = \"run_jobs_cg.sh\"\n",
    "slurm_run_script_refine = \"run_jobs_refined.sh\"\n",
    "\n",
    "cg_sim_inds_part_1 = np.arange(209, 211+1, 1)\n",
    "cg_sim_inds_part_2 = np.arange(213, 249+1, 1)"
   ]
  },
  {
   "cell_type": "markdown",
   "metadata": {},
   "source": [
    "### Specify Simulation Parameters"
   ]
  },
  {
   "cell_type": "code",
   "execution_count": 3,
   "metadata": {},
   "outputs": [],
   "source": [
    "cp_HP1 = (-0.6, -0.5, -0.4, -0.3)\n",
    "cp_PRC1 = (-0.6, -0.5, -0.4, -0.3)\n",
    "run = 193"
   ]
  },
  {
   "cell_type": "markdown",
   "metadata": {},
   "source": [
    "#### HP1 Only Simulations    "
   ]
  },
  {
   "cell_type": "code",
   "execution_count": 4,
   "metadata": {},
   "outputs": [],
   "source": [
    "binder_name = \"HP1\"\n",
    "modification_name = \"H3K9me3\"\n",
    "h3k9me3_pattern = \"chromo/chemical_mods/HNCFF683HCZ_H3K9me3_methyl.txt\"\n",
    "\n",
    "for cp_HP1_ in cp_HP1:\n",
    "\n",
    "    slurm_file_name_CG = f\"{slurm_file_prefix}_{run}_CG.slurm\"\n",
    "    slurm_file_name_refine = f\"{slurm_file_prefix}_{run}_refine.slurm\"\n",
    "    job_name = f\"{job_name_prefix}_{run}\"\n",
    "    slurm_files_cg.append(slurm_file_name_CG)\n",
    "    slurm_files_refine.append(slurm_file_name_refine)\n",
    "\n",
    "    with open(f\"{slurm_dir}/{slurm_file_name_CG}\", 'w') as f:\n",
    "        f.write(\"#!/bin/bash\\n\\n\")\n",
    "\n",
    "        f.write(f\"#SBATCH --job-name={job_name}\\n\")\n",
    "        f.write(f\"#SBATCH --time={runtime_cg}\\n\")\n",
    "        f.write(f\"#SBATCH --ntasks={num_tasks}\\n\")\n",
    "        f.write(f\"#SBATCH --cpus-per-task={cpus_per_task}\\n\")\n",
    "        f.write(f\"#SBATCH --mem-per-cpu={mem_per_cpu}\\n\\n\")\n",
    "\n",
    "        f.write(f\"source ~/.bashrc\\n\")\n",
    "        f.write(f\"cd /scratch/users/jwakim/chromo_multi/simulations/examples/\\n\")\n",
    "        f.write(f\"echo 'Changed to \\$SCRATCH directory. Proceeding to run bash script...'\\n\")\n",
    "        f.write(f\"python one_mark_factorial_cg_step.py {binder_name} {modification_name} {h3k9me3_pattern} {cp_HP1_}\\n\")\n",
    "        f.write(f\"echo 'Job complete!'\\n\")\n",
    "\n",
    "    with open(f\"{slurm_dir}/{slurm_file_name_refine}\", 'w') as f:\n",
    "        f.write(\"#!/bin/bash\\n\\n\")\n",
    "\n",
    "        f.write(f\"#SBATCH --job-name={job_name}\\n\")\n",
    "        f.write(f\"#SBATCH --time={runtime_refine}\\n\")\n",
    "        f.write(f\"#SBATCH --ntasks={num_tasks}\\n\")\n",
    "        f.write(f\"#SBATCH --cpus-per-task={cpus_per_task}\\n\")\n",
    "        f.write(f\"#SBATCH --mem-per-cpu={mem_per_cpu}\\n\\n\")\n",
    "\n",
    "        f.write(f\"source ~/.bashrc\\n\")\n",
    "        f.write(f\"cd /scratch/users/jwakim/chromo_multi/simulations/examples/\\n\")\n",
    "        f.write(f\"echo 'Changed to \\$SCRATCH directory. Proceeding to run bash script...'\\n\")\n",
    "        f.write(f\"python one_mark_factorial_refine_step.py {run}\\n\")\n",
    "        f.write(f\"echo 'Job complete!'\\n\")\n",
    "    run += 1"
   ]
  },
  {
   "cell_type": "markdown",
   "metadata": {},
   "source": [
    "#### PRC1 Only Simulations"
   ]
  },
  {
   "cell_type": "code",
   "execution_count": 5,
   "metadata": {},
   "outputs": [],
   "source": [
    "binder_name = \"PRC1\"\n",
    "modification_name = \"H3K27me3\"\n",
    "h3k27me3_pattern = \"chromo/chemical_mods/ENCFF919DOR_H3K27me3_methyl.txt\"\n",
    "\n",
    "for cp_PRC1_ in cp_PRC1:\n",
    "\n",
    "    slurm_file_name_CG = f\"{slurm_file_prefix}_{run}_CG.slurm\"\n",
    "    slurm_file_name_refine = f\"{slurm_file_prefix}_{run}_refine.slurm\"\n",
    "    job_name = f\"{job_name_prefix}_{run}\"\n",
    "    slurm_files_cg.append(slurm_file_name_CG)\n",
    "    slurm_files_refine.append(slurm_file_name_refine)\n",
    "\n",
    "    with open(f\"{slurm_dir}/{slurm_file_name_CG}\", 'w') as f:\n",
    "        f.write(\"#!/bin/bash\\n\\n\")\n",
    "\n",
    "        f.write(f\"#SBATCH --job-name={job_name}\\n\")\n",
    "        f.write(f\"#SBATCH --time={runtime_cg}\\n\")\n",
    "        f.write(f\"#SBATCH --ntasks={num_tasks}\\n\")\n",
    "        f.write(f\"#SBATCH --cpus-per-task={cpus_per_task}\\n\")\n",
    "        f.write(f\"#SBATCH --mem-per-cpu={mem_per_cpu}\\n\\n\")\n",
    "\n",
    "        f.write(f\"source ~/.bashrc\\n\")\n",
    "        f.write(f\"cd /scratch/users/jwakim/chromo_multi/simulations/examples/\\n\")\n",
    "        f.write(f\"echo 'Changed to \\$SCRATCH directory. Proceeding to run bash script...'\\n\")\n",
    "        f.write(f\"python one_mark_factorial_cg_step.py {binder_name} {modification_name} {h3k27me3_pattern} {cp_PRC1_}\\n\")\n",
    "        f.write(f\"echo 'Job complete!'\\n\")\n",
    "\n",
    "    with open(f\"{slurm_dir}/{slurm_file_name_refine}\", 'w') as f:\n",
    "        f.write(\"#!/bin/bash\\n\\n\")\n",
    "\n",
    "        f.write(f\"#SBATCH --job-name={job_name}\\n\")\n",
    "        f.write(f\"#SBATCH --time={runtime_refine}\\n\")\n",
    "        f.write(f\"#SBATCH --ntasks={num_tasks}\\n\")\n",
    "        f.write(f\"#SBATCH --cpus-per-task={cpus_per_task}\\n\")\n",
    "        f.write(f\"#SBATCH --mem-per-cpu={mem_per_cpu}\\n\\n\")\n",
    "\n",
    "        f.write(f\"source ~/.bashrc\\n\")\n",
    "        f.write(f\"cd /scratch/users/jwakim/chromo_multi/simulations/examples/\\n\")\n",
    "        f.write(f\"echo 'Changed to \\$SCRATCH directory. Proceeding to run bash script...'\\n\")\n",
    "        f.write(f\"python one_mark_factorial_refine_step.py {run}\\n\")\n",
    "        f.write(f\"echo 'Job complete!'\\n\")\n",
    "    run += 1"
   ]
  },
  {
   "cell_type": "markdown",
   "metadata": {},
   "source": [
    "#### HP1-PRC1, Non-Cooperative"
   ]
  },
  {
   "cell_type": "code",
   "execution_count": 6,
   "metadata": {},
   "outputs": [],
   "source": [
    "for cp_HP1_ in cp_HP1:\n",
    "    for cp_PRC1_ in cp_PRC1:\n",
    "        \n",
    "        slurm_file_name_CG = f\"{slurm_file_prefix}_{run}_CG.slurm\"\n",
    "        slurm_file_name_refine = f\"{slurm_file_prefix}_{run}_refine.slurm\"\n",
    "        job_name = f\"{job_name_prefix}_{run}\"\n",
    "        slurm_files_cg.append(slurm_file_name_CG)\n",
    "        slurm_files_refine.append(slurm_file_name_refine)\n",
    "\n",
    "        with open(f\"{slurm_dir}/{slurm_file_name_CG}\", 'w') as f:\n",
    "            f.write(\"#!/bin/bash\\n\\n\")\n",
    "\n",
    "            f.write(f\"#SBATCH --job-name={job_name}\\n\")\n",
    "            f.write(f\"#SBATCH --time={runtime_cg}\\n\")\n",
    "            f.write(f\"#SBATCH --ntasks={num_tasks}\\n\")\n",
    "            f.write(f\"#SBATCH --cpus-per-task={cpus_per_task}\\n\")\n",
    "            f.write(f\"#SBATCH --mem-per-cpu={mem_per_cpu}\\n\\n\")\n",
    "\n",
    "            f.write(f\"source ~/.bashrc\\n\")\n",
    "            f.write(f\"cd /scratch/users/jwakim/chromo_multi/simulations/examples/\\n\")\n",
    "            f.write(f\"echo 'Changed to \\$SCRATCH directory. Proceeding to run bash script...'\\n\")\n",
    "            f.write(f\"python two_mark_factorial_cg_step.py {cp_HP1_} {cp_PRC1_} {-4.0} {-4.0} {0}\\n\")\n",
    "            f.write(f\"echo 'Job complete!'\\n\")\n",
    "\n",
    "        with open(f\"{slurm_dir}/{slurm_file_name_refine}\", 'w') as f:\n",
    "            f.write(\"#!/bin/bash\\n\\n\")\n",
    "\n",
    "            f.write(f\"#SBATCH --job-name={job_name}\\n\")\n",
    "            f.write(f\"#SBATCH --time={runtime_refine}\\n\")\n",
    "            f.write(f\"#SBATCH --ntasks={num_tasks}\\n\")\n",
    "            f.write(f\"#SBATCH --cpus-per-task={cpus_per_task}\\n\")\n",
    "            f.write(f\"#SBATCH --mem-per-cpu={mem_per_cpu}\\n\\n\")\n",
    "\n",
    "            f.write(f\"source ~/.bashrc\\n\")\n",
    "            f.write(f\"cd /scratch/users/jwakim/chromo_multi/simulations/examples/\\n\")\n",
    "            f.write(f\"echo 'Changed to \\$SCRATCH directory. Proceeding to run bash script...'\\n\")\n",
    "            f.write(f\"python two_mark_factorial_refine_step.py {run}\\n\")\n",
    "            f.write(f\"echo 'Job complete!'\\n\")\n",
    "            run += 1"
   ]
  },
  {
   "cell_type": "markdown",
   "metadata": {},
   "source": [
    "#### HP1-PRC1, Cooperative"
   ]
  },
  {
   "cell_type": "code",
   "execution_count": 7,
   "metadata": {},
   "outputs": [],
   "source": [
    "for cp_HP1_ in cp_HP1:\n",
    "    for cp_PRC1_ in cp_PRC1:\n",
    "        \n",
    "        slurm_file_name_CG = f\"{slurm_file_prefix}_{run}_CG.slurm\"\n",
    "        slurm_file_name_refine = f\"{slurm_file_prefix}_{run}_refine.slurm\"\n",
    "        job_name = f\"{job_name_prefix}_{run}\"\n",
    "        slurm_files_cg.append(slurm_file_name_CG)\n",
    "        slurm_files_refine.append(slurm_file_name_refine)\n",
    "\n",
    "        with open(f\"{slurm_dir}/{slurm_file_name_CG}\", 'w') as f:\n",
    "            f.write(\"#!/bin/bash\\n\\n\")\n",
    "\n",
    "            f.write(f\"#SBATCH --job-name={job_name}\\n\")\n",
    "            f.write(f\"#SBATCH --time={runtime_cg}\\n\")\n",
    "            f.write(f\"#SBATCH --ntasks={num_tasks}\\n\")\n",
    "            f.write(f\"#SBATCH --cpus-per-task={cpus_per_task}\\n\")\n",
    "            f.write(f\"#SBATCH --mem-per-cpu={mem_per_cpu}\\n\\n\")\n",
    "\n",
    "            f.write(f\"source ~/.bashrc\\n\")\n",
    "            f.write(f\"cd /scratch/users/jwakim/chromo_multi/simulations/examples/\\n\")\n",
    "            f.write(f\"echo 'Changed to \\$SCRATCH directory. Proceeding to run bash script...'\\n\")\n",
    "            f.write(f\"python two_mark_factorial_cg_step.py {cp_HP1_} {cp_PRC1_} {-4.0} {-4.0} {-4.0}\\n\")\n",
    "            f.write(f\"echo 'Job complete!'\\n\")\n",
    "\n",
    "        with open(f\"{slurm_dir}/{slurm_file_name_refine}\", 'w') as f:\n",
    "            f.write(\"#!/bin/bash\\n\\n\")\n",
    "\n",
    "            f.write(f\"#SBATCH --job-name={job_name}\\n\")\n",
    "            f.write(f\"#SBATCH --time={runtime_refine}\\n\")\n",
    "            f.write(f\"#SBATCH --ntasks={num_tasks}\\n\")\n",
    "            f.write(f\"#SBATCH --cpus-per-task={cpus_per_task}\\n\")\n",
    "            f.write(f\"#SBATCH --mem-per-cpu={mem_per_cpu}\\n\\n\")\n",
    "\n",
    "            f.write(f\"source ~/.bashrc\\n\")\n",
    "            f.write(f\"cd /scratch/users/jwakim/chromo_multi/simulations/examples/\\n\")\n",
    "            f.write(f\"echo 'Changed to \\$SCRATCH directory. Proceeding to run bash script...'\\n\")\n",
    "            f.write(f\"python two_mark_factorial_refine_step.py {run}\\n\")\n",
    "            f.write(f\"echo 'Job complete!'\\n\")\n",
    "            run += 1"
   ]
  },
  {
   "cell_type": "code",
   "execution_count": 8,
   "metadata": {},
   "outputs": [],
   "source": [
    "with open(f\"{slurm_dir}/{slurm_run_script_cg}\", 'w') as f:\n",
    "    for slurm_file in slurm_files_cg:\n",
    "        f.write(f\"sbatch {slurm_file}\\n\")\n",
    "\n",
    "with open(f\"{slurm_dir}/{slurm_run_script_refine}\", 'w') as f:\n",
    "    for slurm_file in slurm_files_refine:\n",
    "        f.write(f\"sbatch {slurm_file}\\n\")"
   ]
  }
 ],
 "metadata": {
  "kernelspec": {
   "display_name": "Python 3 (ipykernel)",
   "language": "python",
   "name": "python3"
  },
  "language_info": {
   "codemirror_mode": {
    "name": "ipython",
    "version": 3
   },
   "file_extension": ".py",
   "mimetype": "text/x-python",
   "name": "python",
   "nbconvert_exporter": "python",
   "pygments_lexer": "ipython3",
   "version": "3.7.6"
  }
 },
 "nbformat": 4,
 "nbformat_minor": 4
}
