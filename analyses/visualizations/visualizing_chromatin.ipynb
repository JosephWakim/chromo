{
 "cells": [
  {
   "cell_type": "markdown",
   "metadata": {
    "collapsed": true,
    "pycharm": {
     "name": "#%% md\n"
    }
   },
   "source": [
    "# Visualize Chromatin Configuration\n",
    "\n",
    "Convert an x, y, z configuration file to PDB file format."
   ]
  },
  {
   "cell_type": "markdown",
   "metadata": {},
   "source": [
    "### Setup"
   ]
  },
  {
   "cell_type": "code",
   "execution_count": 1,
   "metadata": {
    "pycharm": {
     "name": "#%%\n"
    }
   },
   "outputs": [],
   "source": [
    "# Built-in modules\n",
    "import os\n",
    "import sys\n",
    "\n",
    "# Insert package root to system path\n",
    "cwd = os.getcwd()\n",
    "parent_dir = cwd + \"/../..\"\n",
    "sys.path.insert(1, parent_dir)"
   ]
  },
  {
   "cell_type": "code",
   "execution_count": 2,
   "metadata": {
    "pycharm": {
     "name": "#%%\n"
    }
   },
   "outputs": [],
   "source": [
    "# External modules\n",
    "import numpy as np\n",
    "import pandas as pd\n",
    "import matplotlib.pyplot as plt"
   ]
  },
  {
   "cell_type": "code",
   "execution_count": 3,
   "metadata": {
    "pycharm": {
     "name": "#%%\n"
    }
   },
   "outputs": [],
   "source": [
    "# Change working directory to package root\n",
    "os.chdir(parent_dir)"
   ]
  },
  {
   "cell_type": "markdown",
   "metadata": {},
   "source": [
    "### Load Configuration Output"
   ]
  },
  {
   "cell_type": "code",
   "execution_count": 16,
   "metadata": {
    "pycharm": {
     "name": "#%%\n"
    }
   },
   "outputs": [],
   "source": [
    "#output_path = \"/Users/jwakim/Desktop/manual_contact_map_processing/interact_4/representative_snapshot_sim16/Chr-1-73.csv\"\n",
    "output_path = \"/Users/jwakim/Desktop/manual_contact_map_processing_batch_2/one_mark/Chr-1-199_4.csv\""
   ]
  },
  {
   "cell_type": "code",
   "execution_count": 17,
   "metadata": {
    "pycharm": {
     "name": "#%%\n"
    }
   },
   "outputs": [
    {
     "data": {
      "text/plain": "            r                              t3                            t2  \\\n            x          y          z         x         y         z         x   \n0 -201.873677 -91.546333  33.460141 -0.120921  0.686930 -0.716593 -0.420971   \n1 -201.950751 -76.254163  24.160288  0.348671  0.925060  0.150639  0.915217   \n2 -191.664067 -61.688020  29.619473  0.453254  0.827571  0.331192  0.102654   \n3 -182.766083 -47.829423  36.450174  0.686705  0.726913  0.005870 -0.001230   \n4 -169.547771 -34.636504  33.186741  0.650407  0.643117 -0.404192  0.788688   \n\n                      states chemical_mods         bead_length  \n          y         z    HP1       H3K9me3 Unnamed: 12_level_1  \n0  0.485197 -0.766399      2             0                16.5  \n1  0.051489  0.399658      2             0                16.5  \n2  0.992421  0.067545      2             0                16.5  \n3  0.952408 -0.304823      2             0                16.5  \n4  0.526309  0.317759      2             0                16.5  ",
      "text/html": "<div>\n<style scoped>\n    .dataframe tbody tr th:only-of-type {\n        vertical-align: middle;\n    }\n\n    .dataframe tbody tr th {\n        vertical-align: top;\n    }\n\n    .dataframe thead tr th {\n        text-align: left;\n    }\n</style>\n<table border=\"1\" class=\"dataframe\">\n  <thead>\n    <tr>\n      <th></th>\n      <th colspan=\"3\" halign=\"left\">r</th>\n      <th colspan=\"3\" halign=\"left\">t3</th>\n      <th colspan=\"3\" halign=\"left\">t2</th>\n      <th>states</th>\n      <th>chemical_mods</th>\n      <th>bead_length</th>\n    </tr>\n    <tr>\n      <th></th>\n      <th>x</th>\n      <th>y</th>\n      <th>z</th>\n      <th>x</th>\n      <th>y</th>\n      <th>z</th>\n      <th>x</th>\n      <th>y</th>\n      <th>z</th>\n      <th>HP1</th>\n      <th>H3K9me3</th>\n      <th>Unnamed: 12_level_1</th>\n    </tr>\n  </thead>\n  <tbody>\n    <tr>\n      <th>0</th>\n      <td>-201.873677</td>\n      <td>-91.546333</td>\n      <td>33.460141</td>\n      <td>-0.120921</td>\n      <td>0.686930</td>\n      <td>-0.716593</td>\n      <td>-0.420971</td>\n      <td>0.485197</td>\n      <td>-0.766399</td>\n      <td>2</td>\n      <td>0</td>\n      <td>16.5</td>\n    </tr>\n    <tr>\n      <th>1</th>\n      <td>-201.950751</td>\n      <td>-76.254163</td>\n      <td>24.160288</td>\n      <td>0.348671</td>\n      <td>0.925060</td>\n      <td>0.150639</td>\n      <td>0.915217</td>\n      <td>0.051489</td>\n      <td>0.399658</td>\n      <td>2</td>\n      <td>0</td>\n      <td>16.5</td>\n    </tr>\n    <tr>\n      <th>2</th>\n      <td>-191.664067</td>\n      <td>-61.688020</td>\n      <td>29.619473</td>\n      <td>0.453254</td>\n      <td>0.827571</td>\n      <td>0.331192</td>\n      <td>0.102654</td>\n      <td>0.992421</td>\n      <td>0.067545</td>\n      <td>2</td>\n      <td>0</td>\n      <td>16.5</td>\n    </tr>\n    <tr>\n      <th>3</th>\n      <td>-182.766083</td>\n      <td>-47.829423</td>\n      <td>36.450174</td>\n      <td>0.686705</td>\n      <td>0.726913</td>\n      <td>0.005870</td>\n      <td>-0.001230</td>\n      <td>0.952408</td>\n      <td>-0.304823</td>\n      <td>2</td>\n      <td>0</td>\n      <td>16.5</td>\n    </tr>\n    <tr>\n      <th>4</th>\n      <td>-169.547771</td>\n      <td>-34.636504</td>\n      <td>33.186741</td>\n      <td>0.650407</td>\n      <td>0.643117</td>\n      <td>-0.404192</td>\n      <td>0.788688</td>\n      <td>0.526309</td>\n      <td>0.317759</td>\n      <td>2</td>\n      <td>0</td>\n      <td>16.5</td>\n    </tr>\n  </tbody>\n</table>\n</div>"
     },
     "execution_count": 17,
     "metadata": {},
     "output_type": "execute_result"
    }
   ],
   "source": [
    "poly_config = pd.read_csv(output_path, header=[0,1], index_col=0, sep=\",\")\n",
    "poly_config.head()"
   ]
  },
  {
   "cell_type": "code",
   "execution_count": 18,
   "metadata": {
    "pycharm": {
     "name": "#%%\n"
    }
   },
   "outputs": [],
   "source": [
    "r_x = poly_config.loc[:, (\"r\", \"x\")].to_numpy()\n",
    "r_y = poly_config.loc[:, (\"r\", \"y\")].to_numpy()\n",
    "r_z = poly_config.loc[:, (\"r\", \"z\")].to_numpy()\n",
    "\n",
    "HP1 = poly_config.loc[:, (\"states\", \"HP1\")].to_numpy()\n",
    "#PRC1 = poly_config.loc[:, (\"states\", \"PRC1\")].to_numpy() * 10"
   ]
  },
  {
   "cell_type": "markdown",
   "metadata": {
    "pycharm": {
     "name": "#%% md\n"
    }
   },
   "source": [
    "# Express in PDB format"
   ]
  },
  {
   "cell_type": "code",
   "execution_count": 19,
   "metadata": {
    "pycharm": {
     "name": "#%%\n"
    }
   },
   "outputs": [],
   "source": [
    "def get_PDB_string(x, y, z, ind, bound):\n",
    "    \"\"\" Generate a line for a PDB  file corresponding to a single bead.\n",
    "\n",
    "    Parameters\n",
    "    ----------\n",
    "    x : float\n",
    "        x-position of the bead\n",
    "    y : float\n",
    "        y-position of the bead\n",
    "    z : float\n",
    "        z-position of the bead\n",
    "    ind : int\n",
    "        Index of the bead\n",
    "    bound : int\n",
    "        Indicates the binding state of the protein\n",
    "\n",
    "    Returns\n",
    "    -------\n",
    "    str\n",
    "        String representing the bead in PDB format\n",
    "    \"\"\"\n",
    "\n",
    "    # Atom indicator (cols 1-4)\n",
    "    str_out = \"ATOM\"\n",
    "\n",
    "    # Atom Serial Number (cols 7-11)\n",
    "    str_out += 2 * \" \"\n",
    "    ind_out = f\"{ind}\"\n",
    "    len_ind = len(ind_out)\n",
    "    if len_ind > 5:\n",
    "        raise ValueError(\"The size of the index is not supported in PDB format. Please enter an index between 1 and 99999.\")\n",
    "    pad_size = 5 - len_ind\n",
    "    str_out += \" \" * pad_size + ind_out\n",
    "\n",
    "    # Atom Name (cols 13-16)\n",
    "    str_out += \" \"\n",
    "    if bound == 0:\n",
    "        str_out += \"H   \"\n",
    "    elif bound == 1 or bound == 2:\n",
    "        str_out += \"O   \"\n",
    "    elif bound == 10 or bound == 20:\n",
    "        str_out += \"N   \"\n",
    "    elif bound == -1:\n",
    "        str_out += \"S   \"\n",
    "    else:\n",
    "        str_out += \"C   \"\n",
    "\n",
    "    # Alternate Location Indicator (col 17)\n",
    "    str_out += \" \"\n",
    "\n",
    "    # Residue Name (cols 18-20), Chain Identifier (col 22), Residue sequence number (cols 23-26)\n",
    "    str_out += \"MET A   1\"\n",
    "\n",
    "    # x-position (cols 31-38)\n",
    "    str_out += \"    \"\n",
    "    if x > 9999999 or x < -999999:\n",
    "        raise ValueError(\"The size of the x-position is not supported in PDB format. Please limit to 7 characters.\")\n",
    "    if x >= 0:\n",
    "        if x > 999999:\n",
    "            str_x = '{: 8.3f}'.format(x)\n",
    "        else:\n",
    "            str_x = '{: 8.3f}'.format(x)\n",
    "    else:\n",
    "        if x < -99999:\n",
    "            str_x = '{: 8.3f}'.format(x)\n",
    "        else:\n",
    "            str_x = '{: 8.3f}'.format(x)\n",
    "    str_out += str_x\n",
    "\n",
    "    # y-position (cols 39-46)\n",
    "    # str_out += \" \"\n",
    "    if y > 9999999 or y < -999999:\n",
    "        raise ValueError(\"The size of the y-position is not supported in PDB format. Please limit to 7 characters.\")\n",
    "    if y >= 0:\n",
    "        if y > 999999:\n",
    "            str_y = '{: 8.3f}'.format(y)\n",
    "        else:\n",
    "            str_y = '{: 8.3f}'.format(y)\n",
    "    else:\n",
    "        if y < -99999:\n",
    "            str_y = '{: 8.3f}'.format(y)\n",
    "        else:\n",
    "            str_y = '{: 8.3f}'.format(y)\n",
    "    str_out += str_y\n",
    "\n",
    "    # z-position (cols 47-54)\n",
    "    # str_out += \" \"\n",
    "    if z > 9999999 or z < -999999:\n",
    "        raise ValueError(\"The size of the z-position is not supported in PDB format. Please limit to 7 characters.\")\n",
    "    if z >= 0:\n",
    "        if z > 999999:\n",
    "            str_z = '{: 8.3f}'.format(z)\n",
    "        else:\n",
    "            str_z = '{: 8.3f}'.format(z)\n",
    "    else:\n",
    "        if z < -99999:\n",
    "            str_z = '{: 8.3f}'.format(z)\n",
    "        else:\n",
    "            str_z = '{: 8.3f}'.format(z)\n",
    "    str_out += str_z\n",
    "    return str_out"
   ]
  },
  {
   "cell_type": "code",
   "execution_count": 20,
   "metadata": {
    "pycharm": {
     "name": "#%%\n"
    }
   },
   "outputs": [],
   "source": [
    "#pdb_path = \"/Users/jwakim/Desktop/manual_contact_map_processing/interact_4/representative_snapshot_sim16/Chr-1-73.pdb\"\n",
    "pdb_path = \"/Users/jwakim/Desktop/manual_contact_map_processing_batch_2/one_mark/Chr-1-199_4.pdb\"\n",
    "num_beads = len(r_x)\n",
    "\n",
    "with open(pdb_path, 'w') as f:\n",
    "    for i in range(num_beads):\n",
    "        #line = get_PDB_string(r_x[i], r_y[i], r_z[i], i+1, HP1[i]+PRC1[i])\n",
    "        line = get_PDB_string(r_x[i], r_y[i], r_z[i], i+1, HP1[i])\n",
    "        f.write(line + \"\\n\")\n",
    "\n",
    "    # Draw reference points for circle enclosure\n",
    "    line = get_PDB_string(900, 0, 0, num_beads+1, -1)\n",
    "    f.write(line + \"\\n\")\n",
    "    line = get_PDB_string(0, 900, 0, num_beads+1, -1)\n",
    "    f.write(line + \"\\n\")\n",
    "    line = get_PDB_string(-900, 0, 0, num_beads+1, -1)\n",
    "    f.write(line + \"\\n\")\n",
    "    line = get_PDB_string(0, -900, 0, num_beads+1, -1)\n",
    "    f.write(line + \"\\n\")"
   ]
  },
  {
   "cell_type": "code",
   "execution_count": null,
   "metadata": {
    "pycharm": {
     "name": "#%%\n"
    }
   },
   "outputs": [],
   "source": []
  }
 ],
 "metadata": {
  "kernelspec": {
   "display_name": "Python 3",
   "language": "python",
   "name": "python3"
  },
  "language_info": {
   "codemirror_mode": {
    "name": "ipython",
    "version": 3
   },
   "file_extension": ".py",
   "mimetype": "text/x-python",
   "name": "python",
   "nbconvert_exporter": "python",
   "pygments_lexer": "ipython3",
   "version": "3.7.3"
  }
 },
 "nbformat": 4,
 "nbformat_minor": 1
}