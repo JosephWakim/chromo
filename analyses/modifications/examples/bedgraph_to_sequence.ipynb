{
 "cells": [
  {
   "cell_type": "markdown",
   "metadata": {
    "pycharm": {
     "name": "#%% md\n"
    }
   },
   "source": [
    "# Convert ChIP-Seq Signals to a Pattern of Mark States\n",
    "\n",
    "Given a BedGraph file showing \"fold-change over control\" signals for arbitrary genomic intervals, generate a sequence of methylation states per nucleosome, where 0 indicates no tail methylated, 1 indicates one tail methylated, and 2 indicates both tails methylated.\n",
    "\n",
    "<br>\n",
    "\n",
    "### Before running this notebook:\n",
    "\n",
    "- Download the desired BigWig file for an epigenetic mark with \"fold signal over control\" values from the ENCODE database.\n",
    "- Move the BigWig file to directory containing UCSC sequence tool executables.\n",
    "- Run the bigWigToBedGraph executable from UCSC using `./ bigWigToWig <BigWigFileName> <OutputFileName> chrom=chr##` from the directory containing the executable.\n",
    "- Fill in the inputs to this notebook and run all cells."
   ]
  },
  {
   "cell_type": "markdown",
   "metadata": {},
   "source": [
    "### Setup\n",
    "\n",
    "Import necessary modules."
   ]
  },
  {
   "cell_type": "code",
   "execution_count": 1,
   "metadata": {
    "pycharm": {
     "name": "#%%\n"
    }
   },
   "outputs": [],
   "source": [
    "from typing import Optional\n",
    "\n",
    "import numpy as np\n",
    "import pandas as pd\n",
    "import bioframe as bf\n",
    "\n",
    "import analyses.modifications.bedgraph_to_sequence as b2s"
   ]
  },
  {
   "cell_type": "markdown",
   "metadata": {},
   "source": [
    "### Specify Inputs\n",
    "\n",
    "Conversion from raw ChIP-seq to modification sequence depends on the following input parameters."
   ]
  },
  {
   "cell_type": "code",
   "execution_count": 2,
   "metadata": {
    "pycharm": {
     "name": "#%%\n"
    }
   },
   "outputs": [],
   "source": [
    "# Location of Bed Graph file; should contain \"fold-change over control\" values\n",
    "file_path = \"/scratch/users/jwakim/chromo_two_mark_phase_transition/output/example_bedgraph/ENCFF919DOR_H3K27me3_Bedgraph.bed\"\n",
    "\n",
    "# Path at which to save modification sequence\n",
    "out_path = \"/scratch/users/jwakim/chromo_two_mark_phase_transition/output/example_bedgraph/ENCFF919DOR_H3K27me3_methyl.txt\"\n",
    "\n",
    "# Fraction of all histone TAILS modified with methylation mark\n",
    "fraction_methylated = 0.4\n",
    "\n",
    "# Max num. iters to adjust thresholds to converge on fraction methylated target\n",
    "max_iters = 1000\n",
    "\n",
    "# Relative tolerance around fraction methylated target\n",
    "rel_tol = 0.001\n",
    "\n",
    "# Chromosome number for sequence of interest\n",
    "chromosome = \"chr16\"\n",
    "\n",
    "# Bead discretization in units of base pair\n",
    "bp_per_nucleosome = 200"
   ]
  },
  {
   "cell_type": "markdown",
   "metadata": {},
   "source": [
    "### Calibrate Conversion\n",
    "\n",
    "Signal cutoffs will be defined such that a specified fraction of histone tails are methylated. Cutoffs are defined by percentile values in the overall distribution of signals."
   ]
  },
  {
   "cell_type": "code",
   "execution_count": 3,
   "metadata": {
    "pycharm": {
     "name": "#%%\n"
    }
   },
   "outputs": [
    {
     "name": "stdout",
     "output_type": "stream",
     "text": [
      "Percentile Cutoffs between 0/1 and 1/2 tails methylated:\n",
      "[0.26666667 0.53333333]\n"
     ]
    }
   ],
   "source": [
    "pct_cutoffs = b2s.get_cutoffs(fraction_methylated)\n",
    "print(\"Percentile Cutoffs between 0/1 and 1/2 tails methylated:\")\n",
    "print(pct_cutoffs)"
   ]
  },
  {
   "cell_type": "markdown",
   "metadata": {
    "pycharm": {
     "name": "#%% md\n"
    }
   },
   "source": [
    "### Redistribute interval to match desired discretization\n",
    "\n",
    "The BedGraph file discretizes signals into arbitrary bins. Redistribute the signals into widths matching individual nucleosomes."
   ]
  },
  {
   "cell_type": "code",
   "execution_count": 4,
   "metadata": {
    "pycharm": {
     "name": "#%%\n"
    }
   },
   "outputs": [
    {
     "data": {
      "text/html": [
       "<div>\n",
       "<style scoped>\n",
       "    .dataframe tbody tr th:only-of-type {\n",
       "        vertical-align: middle;\n",
       "    }\n",
       "\n",
       "    .dataframe tbody tr th {\n",
       "        vertical-align: top;\n",
       "    }\n",
       "\n",
       "    .dataframe thead th {\n",
       "        text-align: right;\n",
       "    }\n",
       "</style>\n",
       "<table border=\"1\" class=\"dataframe\">\n",
       "  <thead>\n",
       "    <tr style=\"text-align: right;\">\n",
       "      <th></th>\n",
       "      <th>chrom</th>\n",
       "      <th>start</th>\n",
       "      <th>end</th>\n",
       "      <th>value</th>\n",
       "    </tr>\n",
       "  </thead>\n",
       "  <tbody>\n",
       "    <tr>\n",
       "      <th>0</th>\n",
       "      <td>chr16</td>\n",
       "      <td>0</td>\n",
       "      <td>10279</td>\n",
       "      <td>0.00000</td>\n",
       "    </tr>\n",
       "    <tr>\n",
       "      <th>1</th>\n",
       "      <td>chr16</td>\n",
       "      <td>10279</td>\n",
       "      <td>10489</td>\n",
       "      <td>0.78156</td>\n",
       "    </tr>\n",
       "    <tr>\n",
       "      <th>2</th>\n",
       "      <td>chr16</td>\n",
       "      <td>10489</td>\n",
       "      <td>10858</td>\n",
       "      <td>0.00000</td>\n",
       "    </tr>\n",
       "    <tr>\n",
       "      <th>3</th>\n",
       "      <td>chr16</td>\n",
       "      <td>10858</td>\n",
       "      <td>11068</td>\n",
       "      <td>0.78156</td>\n",
       "    </tr>\n",
       "    <tr>\n",
       "      <th>4</th>\n",
       "      <td>chr16</td>\n",
       "      <td>11068</td>\n",
       "      <td>12789</td>\n",
       "      <td>0.00000</td>\n",
       "    </tr>\n",
       "  </tbody>\n",
       "</table>\n",
       "</div>"
      ],
      "text/plain": [
       "   chrom  start    end    value\n",
       "0  chr16      0  10279  0.00000\n",
       "1  chr16  10279  10489  0.78156\n",
       "2  chr16  10489  10858  0.00000\n",
       "3  chr16  10858  11068  0.78156\n",
       "4  chr16  11068  12789  0.00000"
      ]
     },
     "execution_count": 4,
     "metadata": {},
     "output_type": "execute_result"
    }
   ],
   "source": [
    "signals = b2s.read_signals_from_bedgraph(file_path)\n",
    "signals.head()"
   ]
  },
  {
   "cell_type": "code",
   "execution_count": 5,
   "metadata": {
    "pycharm": {
     "name": "#%%\n"
    }
   },
   "outputs": [
    {
     "data": {
      "text/html": [
       "<div>\n",
       "<style scoped>\n",
       "    .dataframe tbody tr th:only-of-type {\n",
       "        vertical-align: middle;\n",
       "    }\n",
       "\n",
       "    .dataframe tbody tr th {\n",
       "        vertical-align: top;\n",
       "    }\n",
       "\n",
       "    .dataframe thead th {\n",
       "        text-align: right;\n",
       "    }\n",
       "</style>\n",
       "<table border=\"1\" class=\"dataframe\">\n",
       "  <thead>\n",
       "    <tr style=\"text-align: right;\">\n",
       "      <th></th>\n",
       "      <th>chrom</th>\n",
       "      <th>start</th>\n",
       "      <th>end</th>\n",
       "      <th>value_scaled</th>\n",
       "    </tr>\n",
       "  </thead>\n",
       "  <tbody>\n",
       "    <tr>\n",
       "      <th>0</th>\n",
       "      <td>chr16</td>\n",
       "      <td>0</td>\n",
       "      <td>200</td>\n",
       "      <td>0.0</td>\n",
       "    </tr>\n",
       "    <tr>\n",
       "      <th>1</th>\n",
       "      <td>chr16</td>\n",
       "      <td>200</td>\n",
       "      <td>400</td>\n",
       "      <td>0.0</td>\n",
       "    </tr>\n",
       "    <tr>\n",
       "      <th>2</th>\n",
       "      <td>chr16</td>\n",
       "      <td>400</td>\n",
       "      <td>600</td>\n",
       "      <td>0.0</td>\n",
       "    </tr>\n",
       "    <tr>\n",
       "      <th>3</th>\n",
       "      <td>chr16</td>\n",
       "      <td>600</td>\n",
       "      <td>800</td>\n",
       "      <td>0.0</td>\n",
       "    </tr>\n",
       "    <tr>\n",
       "      <th>4</th>\n",
       "      <td>chr16</td>\n",
       "      <td>800</td>\n",
       "      <td>1000</td>\n",
       "      <td>0.0</td>\n",
       "    </tr>\n",
       "  </tbody>\n",
       "</table>\n",
       "</div>"
      ],
      "text/plain": [
       "   chrom  start   end value_scaled\n",
       "0  chr16      0   200          0.0\n",
       "1  chr16    200   400          0.0\n",
       "2  chr16    400   600          0.0\n",
       "3  chr16    600   800          0.0\n",
       "4  chr16    800  1000          0.0"
      ]
     },
     "execution_count": 5,
     "metadata": {},
     "output_type": "execute_result"
    }
   ],
   "source": [
    "processed_signals = b2s.rediscretize_signals(signals, chromosome, bp_per_nucleosome)\n",
    "processed_signals.head()"
   ]
  },
  {
   "cell_type": "markdown",
   "metadata": {},
   "source": [
    "### Check Rediscretization"
   ]
  },
  {
   "cell_type": "code",
   "execution_count": 6,
   "metadata": {},
   "outputs": [],
   "source": [
    "valid = b2s.check_rediscretization(signals, processed_signals)\n",
    "assert valid, \"Error with rediscretization. Inconsistent total signal.\""
   ]
  },
  {
   "cell_type": "markdown",
   "metadata": {},
   "source": [
    "### Generate Sequence of Modification States"
   ]
  },
  {
   "cell_type": "code",
   "execution_count": 7,
   "metadata": {},
   "outputs": [
    {
     "name": "stdout",
     "output_type": "stream",
     "text": [
      "Convergence Successful!\n",
      "Fraction Tails Methylated: 0.401\n"
     ]
    }
   ],
   "source": [
    "methyl = b2s.get_modification_pattern(\n",
    "    processed_signals, fraction_methylated, pct_cutoffs\n",
    ")\n",
    "print(f\"Fraction Tails Methylated: {round(np.sum(methyl) / (2 * len(methyl)), 3)}\")"
   ]
  },
  {
   "cell_type": "code",
   "execution_count": 8,
   "metadata": {
    "pycharm": {
     "name": "#%%\n"
    }
   },
   "outputs": [],
   "source": [
    "# Save methylation pattern\n",
    "np.savetxt(out_path, methyl, fmt='%i', delimiter=\"\\n\")"
   ]
  },
  {
   "cell_type": "markdown",
   "metadata": {
    "pycharm": {
     "name": "#%% md\n"
    }
   },
   "source": [
    "### Summary:\n",
    "\n",
    "Given ChIP-seq outputs indicating \"fold-change over control\" signals for various genomic intervals, we redistributed those signals into nucleosome-scale bins and we applied cutoffs so that some setpoint fraction number of tails are methylated. We store the methylation sequence in an output directory for use in future simulations."
   ]
  }
 ],
 "metadata": {
  "kernelspec": {
   "display_name": "base",
   "language": "python",
   "name": "base"
  },
  "language_info": {
   "codemirror_mode": {
    "name": "ipython",
    "version": 3
   },
   "file_extension": ".py",
   "mimetype": "text/x-python",
   "name": "python",
   "nbconvert_exporter": "python",
   "pygments_lexer": "ipython3",
   "version": "3.9.12"
  }
 },
 "nbformat": 4,
 "nbformat_minor": 1
}
