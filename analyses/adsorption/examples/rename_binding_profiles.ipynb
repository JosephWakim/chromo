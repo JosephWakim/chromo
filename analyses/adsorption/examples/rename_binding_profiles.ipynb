{
 "cells": [
  {
   "cell_type": "markdown",
   "id": "2c71ae60",
   "metadata": {},
   "source": [
    "# Load Average Binding States from Simulation Outputs\n",
    "\n",
    "For this module to be useful, first generate profiles of average binding states using `analyses/adsorption/analyze_binding_states.py`. This module is intended to support the generation of adsorption isotherms."
   ]
  },
  {
   "cell_type": "markdown",
   "id": "67fe9bba",
   "metadata": {},
   "source": [
    "### Import Modules"
   ]
  },
  {
   "cell_type": "code",
   "execution_count": null,
   "id": "fca7ba56",
   "metadata": {},
   "outputs": [],
   "source": [
    "import numpy as np\n",
    "\n",
    "import analyses.modifications.rename_binding_profiles as profile"
   ]
  },
  {
   "cell_type": "markdown",
   "id": "0222f221",
   "metadata": {},
   "source": [
    "### Specify Simuations"
   ]
  },
  {
   "cell_type": "code",
   "execution_count": null,
   "id": "447c9051",
   "metadata": {},
   "outputs": [],
   "source": [
    "# Path to the directory containing all simulation outputs\n",
    "output_dir = \"/scratch/users/jwakim/chromo_two_mark_phase_transition/output\"\n",
    "\n",
    "# Simulation IDs for which binding profiles are desired\n",
    "sim_IDs = np.arange(1, 33)\n",
    "\n",
    "# Directory (in each simulation output directory) for storing binding profiles\n",
    "results_output_dir = f\"{output_dir}/binding_profiles\"\n",
    "\n",
    "# File containing initial polymer configuration\n",
    "init_config_file = \"Chr-1\"\n",
    "\n",
    "# Mark for which to generate modification profile\n",
    "mark = \"H3K9me3\"\n",
    "\n",
    "# Binder for which to generate modification profile\n",
    "reader = \"HP1\"\n",
    "\n",
    "# File from which to open average binding states\n",
    "binding_pattern_file = \"avg_binding_pattern.csv\"\n",
    "\n",
    "# File (in each simulation output directory) containing binder information\n",
    "binder_spec_file = \"binders\""
   ]
  },
  {
   "cell_type": "markdown",
   "id": "998bd6ca",
   "metadata": {},
   "source": [
    "### Store Modification and Binding States"
   ]
  },
  {
   "cell_type": "code",
   "execution_count": null,
   "id": "89a2b878",
   "metadata": {},
   "outputs": [],
   "source": [
    "for ID in sim_IDs:\n",
    "    sim_output_dir = f\"{output_dir}/sim_{int(ID)}\"\n",
    "    profile.get_binding_and_modification_patterns(\n",
    "        sim_output_dir, results_output_dir, init_config_file, mark, reader,\n",
    "        binding_pattern_file, binder_spec_file\n",
    "    )"
   ]
  }
 ],
 "metadata": {
  "kernelspec": {
   "display_name": "base",
   "language": "python",
   "name": "base"
  },
  "language_info": {
   "codemirror_mode": {
    "name": "ipython",
    "version": 3
   },
   "file_extension": ".py",
   "mimetype": "text/x-python",
   "name": "python",
   "nbconvert_exporter": "python",
   "pygments_lexer": "ipython3",
   "version": "3.9.12"
  }
 },
 "nbformat": 4,
 "nbformat_minor": 5
}
