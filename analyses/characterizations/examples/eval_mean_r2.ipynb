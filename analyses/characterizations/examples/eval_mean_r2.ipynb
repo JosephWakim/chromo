{
 "cells": [
  {
   "cell_type": "markdown",
   "id": "3135536b",
   "metadata": {},
   "source": [
    "## Evaluate Mean-Squared End-to-End Distances for Internal Polymer Segments"
   ]
  },
  {
   "cell_type": "markdown",
   "id": "9ff67e47",
   "metadata": {},
   "source": [
    "### Import Modules"
   ]
  },
  {
   "cell_type": "code",
   "execution_count": 1,
   "id": "dad92df6",
   "metadata": {},
   "outputs": [],
   "source": [
    "import os\n",
    "import sys\n",
    "\n",
    "cwd = os.getcwd()\n",
    "parent_dir = cwd + \"/../..\"\n",
    "sys.path.insert(1, parent_dir)\n",
    "\n",
    "import numpy as np\n",
    "import matplotlib.pyplot as plt\n",
    "\n",
    "import analyses.characterizations.eval_mean_r2 as r2\n",
    "from analyses.characterizations.inspect_simulations import get_snapshot_paths"
   ]
  },
  {
   "cell_type": "markdown",
   "id": "c513f67b",
   "metadata": {},
   "source": [
    "### Specify Simulation"
   ]
  },
  {
   "cell_type": "code",
   "execution_count": 2,
   "id": "15ecb903",
   "metadata": {},
   "outputs": [],
   "source": [
    "output_dir = '/scratch/users/jwakim/chromo_two_mark_phase_transition/output'\n",
    "polymer_prefix = \"Chr\"\n",
    "sim_prefix = \"sim_\"\n",
    "sim_ind = 1\n",
    "sim_dir = f\"{output_dir}/{sim_prefix}{sim_ind}\"\n",
    "num_equilibration = 180\n",
    "lp = 53\n",
    "save_file = \"avg_squared_e2e.txt\"\n",
    "bead_spacing = 16.5\n",
    "lower_log = -1.0\n",
    "upper_log = 2.0\n",
    "log_step = 0.05\n",
    "kuhn_length = 2 * lp\n",
    "save_path = f\"{sim_dir}/{save_file}\""
   ]
  },
  {
   "cell_type": "markdown",
   "id": "aa4b4ec2",
   "metadata": {},
   "source": [
    "### Load Simulation Outputs"
   ]
  },
  {
   "cell_type": "code",
   "execution_count": 3,
   "id": "ab59a3ea",
   "metadata": {},
   "outputs": [],
   "source": [
    "output_paths = get_snapshot_paths(\n",
    "    output_dir, sim_ind, num_equilibration\n",
    ")"
   ]
  },
  {
   "cell_type": "markdown",
   "id": "33eb8d73",
   "metadata": {},
   "source": [
    "### Get Segment Lengths Evenly Spaced on Log Scale"
   ]
  },
  {
   "cell_type": "code",
   "execution_count": 4,
   "id": "a2dad35e",
   "metadata": {},
   "outputs": [],
   "source": [
    "bead_range = r2.get_interval_widths(lower_log, upper_log, log_step)"
   ]
  },
  {
   "cell_type": "markdown",
   "id": "c1d89307",
   "metadata": {},
   "source": [
    "### Get Mean End-to-End Distance for Internal Segments of each Length"
   ]
  },
  {
   "cell_type": "code",
   "execution_count": 5,
   "id": "f391e057",
   "metadata": {},
   "outputs": [
    {
     "name": "stdout",
     "output_type": "stream",
     "text": [
      "Snapshot: 10 of 20\n",
      "\n",
      "Snapshot: 20 of 20\n",
      "\n"
     ]
    }
   ],
   "source": [
    "avg_r2 = r2.get_mean_r2(output_paths, bead_range, lp)"
   ]
  },
  {
   "cell_type": "markdown",
   "id": "81afe7f7",
   "metadata": {},
   "source": [
    "### Save the Mean Squared End-to-End Distances"
   ]
  },
  {
   "cell_type": "code",
   "execution_count": 6,
   "id": "e70a0e74",
   "metadata": {},
   "outputs": [],
   "source": [
    "seg_length_kuhn = r2.get_interval_widths_kuhn(bead_range, bead_spacing, lp)    \n",
    "r2_theory = r2.get_avg_r2_theory(seg_length_kuhn)"
   ]
  },
  {
   "cell_type": "code",
   "execution_count": 7,
   "id": "a351e6d3",
   "metadata": {},
   "outputs": [],
   "source": [
    "r2.save_mean_r2(save_path, seg_length_kuhn, avg_r2, r2_theory)"
   ]
  },
  {
   "cell_type": "markdown",
   "id": "5f6e993a",
   "metadata": {},
   "source": [
    "### Run All Above Analyses in One Function"
   ]
  },
  {
   "cell_type": "code",
   "execution_count": 11,
   "id": "15fab094",
   "metadata": {},
   "outputs": [],
   "source": [
    "%%capture\n",
    "\"\"\"\n",
    "r2.main(\n",
    "    output_dir,\n",
    "    sim_ind,\n",
    "    num_equilibration,\n",
    "    save_path,\n",
    "    lp,\n",
    "    bead_spacing\n",
    ")\n",
    "\"\"\""
   ]
  },
  {
   "cell_type": "markdown",
   "id": "19466ed2",
   "metadata": {},
   "source": [
    "### Plot the Mean Squared End-to-End Distances\n",
    "\n",
    "Notice the deviation from the theory at large length scales. This is because we are simulating a semiflexible polymer with monomer attraction."
   ]
  },
  {
   "cell_type": "code",
   "execution_count": 9,
   "id": "1b1493a2",
   "metadata": {},
   "outputs": [
    {
     "data": {
      "image/png": "[encoded data removed]",
      "text/plain": [
       "<Figure size 432x288 with 1 Axes>"
      ]
     },
     "metadata": {
      "needs_background": "light"
     },
     "output_type": "display_data"
    }
   ],
   "source": [
    "plt.figure()\n",
    "plt.scatter(seg_length_kuhn, avg_r2)\n",
    "plt.xlabel(r\"$L/(2l_p)$\")\n",
    "plt.ylabel(r\"$\\langle R^2 \\rangle /(2l_p)^2$\")\n",
    "plt.yscale(\"log\")\n",
    "plt.xscale(\"log\")\n",
    "plt.show()"
   ]
  },
  {
   "cell_type": "code",
   "execution_count": 10,
   "id": "9f6dc5c7",
   "metadata": {},
   "outputs": [
    {
     "data": {
      "image/png": "[encoded data removed]",
      "text/plain": [
       "<Figure size 432x288 with 1 Axes>"
      ]
     },
     "metadata": {
      "needs_background": "light"
     },
     "output_type": "display_data"
    }
   ],
   "source": [
    "plt.figure()\n",
    "plt.scatter(np.log10(seg_length_kuhn), np.log10(avg_r2))\n",
    "plt.xlabel(r\"Log $L/(2l_p)$\")\n",
    "plt.ylabel(r\"Log $\\langle R^2 \\rangle /(2l_p)^2$\")\n",
    "plt.plot(np.log10(seg_length_kuhn), np.log10(r2_theory))\n",
    "plt.tight_layout()\n",
    "plt.show()"
   ]
  },
  {
   "cell_type": "code",
   "execution_count": null,
   "id": "67f7b4d1",
   "metadata": {},
   "outputs": [],
   "source": []
  }
 ],
 "metadata": {
  "kernelspec": {
   "display_name": "base",
   "language": "python",
   "name": "base"
  },
  "language_info": {
   "codemirror_mode": {
    "name": "ipython",
    "version": 3
   },
   "file_extension": ".py",
   "mimetype": "text/x-python",
   "name": "python",
   "nbconvert_exporter": "python",
   "pygments_lexer": "ipython3",
   "version": "3.9.12"
  }
 },
 "nbformat": 4,
 "nbformat_minor": 5
}
