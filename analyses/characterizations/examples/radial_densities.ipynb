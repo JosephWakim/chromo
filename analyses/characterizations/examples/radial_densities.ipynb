{
 "cells": [
  {
   "cell_type": "markdown",
   "id": "4efc201b",
   "metadata": {},
   "source": [
    "# Generate Radial Density Distribution"
   ]
  },
  {
   "cell_type": "markdown",
   "id": "2d2ba13c",
   "metadata": {},
   "source": [
    "### Import Modules"
   ]
  },
  {
   "cell_type": "code",
   "execution_count": null,
   "id": "f670a00f",
   "metadata": {},
   "outputs": [],
   "source": [
    "import os\n",
    "import sys\n",
    "from typing import List, Tuple, Optional\n",
    "\n",
    "import numpy as np\n",
    "import pandas as pd\n",
    "import matplotlib.pyplot as plt\n",
    "\n",
    "from analyses.characterizations.inspect_simulations import get_snapshot_paths\n",
    "from analyses.characterizations.radial_densities import (\n",
    "    get_radial_densities, get_theoretical_radial_densities\n",
    ")"
   ]
  },
  {
   "cell_type": "markdown",
   "id": "00b63556",
   "metadata": {},
   "source": [
    "### Specify Simulation"
   ]
  },
  {
   "cell_type": "code",
   "execution_count": null,
   "id": "574ee66a",
   "metadata": {},
   "outputs": [],
   "source": [
    "output_dir = \"/scratch/users/jwakim/chromo_two_mark_phase_transition/output\"\n",
    "sim_ind = 1\n",
    "num_equilibration = 180\n",
    "lp = 53\n",
    "confine_rad = 900\n",
    "r_min = 100             # Minimum radial distance for which to plot radial density\n",
    "r_max = confine_rad     # Maximum radial distance to plot; equal to confinement radius\n",
    "r_step = 50\n",
    "r_step_theory = 1\n",
    "confinement_radius = 900"
   ]
  },
  {
   "cell_type": "markdown",
   "id": "4b2f91b2",
   "metadata": {},
   "source": [
    "### Load Simulation Outputs"
   ]
  },
  {
   "cell_type": "code",
   "execution_count": null,
   "id": "d3c6b1f9",
   "metadata": {},
   "outputs": [],
   "source": [
    "output_paths = get_snapshot_paths(\n",
    "    output_dir, sim_ind, num_equilibration\n",
    ")"
   ]
  },
  {
   "cell_type": "markdown",
   "id": "db39c3b0",
   "metadata": {},
   "source": [
    "### Calculate Radial Densities from Simulation"
   ]
  },
  {
   "cell_type": "code",
   "execution_count": null,
   "id": "a15b26e6",
   "metadata": {},
   "outputs": [],
   "source": [
    "num_beads, bin_edges, radial_densities = get_radial_densities(\n",
    "    output_paths, r_min, r_max, r_step\n",
    ")"
   ]
  },
  {
   "cell_type": "markdown",
   "id": "587c1174",
   "metadata": {},
   "source": [
    "### Calculate Theoretical Radial Densities"
   ]
  },
  {
   "cell_type": "code",
   "execution_count": null,
   "id": "2ee398aa",
   "metadata": {},
   "outputs": [],
   "source": [
    "r_theory, radial_densities_theory = get_theoretical_radial_densities(\n",
    "    confine_rad, lp, r_min, r_max, r_step_theory, num_beads\n",
    ")"
   ]
  },
  {
   "cell_type": "code",
   "execution_count": null,
   "id": "8b599458",
   "metadata": {},
   "outputs": [],
   "source": [
    "font = {\n",
    "    'family': 'serif',\n",
    "    'weight': 'normal',\n",
    "    'size': 18\n",
    "}\n",
    "plt.rc('font', **font)\n",
    "plt.figure(figsize=(8, 6), dpi=600)\n",
    "plt.hist(bin_edges[:-1], bin_edges, weights=radial_densities)\n",
    "plt.plot(r_theory, radial_densities_theory)\n",
    "plt.xlabel(\"Radial Distance (nm)\")\n",
    "plt.ylabel(r\"Probability\")\n",
    "plt.tight_layout()\n",
    "plt.show()"
   ]
  },
  {
   "cell_type": "code",
   "execution_count": null,
   "id": "5c5e75f4",
   "metadata": {},
   "outputs": [],
   "source": []
  }
 ],
 "metadata": {
  "kernelspec": {
   "display_name": "base",
   "language": "python",
   "name": "base"
  },
  "language_info": {
   "codemirror_mode": {
    "name": "ipython",
    "version": 3
   },
   "file_extension": ".py",
   "mimetype": "text/x-python",
   "name": "python",
   "nbconvert_exporter": "python",
   "pygments_lexer": "ipython3",
   "version": "3.9.12"
  }
 },
 "nbformat": 4,
 "nbformat_minor": 5
}
